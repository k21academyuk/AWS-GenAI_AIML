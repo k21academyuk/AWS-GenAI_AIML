{
 "cells": [
  {
   "cell_type": "markdown",
   "id": "fded102b",
   "metadata": {
    "tags": []
   },
   "source": [
    "# Abstractive Text Summarization with Amazon Titan\n",
    "\n",
    "> *This notebook should work well with the **`Data Science 3.0`** kernel in SageMaker Studio*"
   ]
  },
  {
   "cell_type": "markdown",
   "id": "fab8b2cf",
   "metadata": {},
   "source": [
    "## Architecture\n",
    "\n",
    "![](./images/42-text-summarization-2.png)"
   ]
  },
  {
   "cell_type": "markdown",
   "id": "e8674a56-a707-44ac-9f84-519cff872693",
   "metadata": {},
   "source": [
    "## Setup"
   ]
  },
  {
   "cell_type": "code",
   "execution_count": 1,
   "id": "5281bd2d-b5f5-47be-ad92-50da74b4a7a5",
   "metadata": {
    "tags": []
   },
   "outputs": [
    {
     "name": "stdout",
     "output_type": "stream",
     "text": [
      "Create new client\n",
      "  Using region: us-west-2\n",
      "boto3 Bedrock client successfully created!\n",
      "bedrock-runtime(https://bedrock-runtime.us-west-2.amazonaws.com)\n"
     ]
    }
   ],
   "source": [
    "import json\n",
    "import os\n",
    "import sys\n",
    "\n",
    "import boto3\n",
    "\n",
    "module_path = \"..\"\n",
    "sys.path.append(os.path.abspath(module_path))\n",
    "from labutils import bedrock, print_ww\n",
    "\n",
    "\n",
    "# ---- ⚠️ Un-comment and edit the below lines as needed for your AWS setup ⚠️ ----\n",
    "\n",
    "# os.environ[\"AWS_DEFAULT_REGION\"] = \"<REGION_NAME>\"  # E.g. \"us-east-1\"\n",
    "# os.environ[\"AWS_PROFILE\"] = \"<YOUR_PROFILE>\"\n",
    "# os.environ[\"BEDROCK_ASSUME_ROLE\"] = \"<YOUR_ROLE_ARN>\"  # E.g. \"arn:aws:...\"\n",
    "\n",
    "\n",
    "boto3_bedrock = bedrock.get_bedrock_client(\n",
    "    assumed_role=os.environ.get(\"BEDROCK_ASSUME_ROLE\", None),\n",
    "    region=os.environ.get(\"AWS_DEFAULT_REGION\", None)\n",
    ")"
   ]
  },
  {
   "cell_type": "code",
   "execution_count": null,
   "id": "70cb9d8a-6235-4da9-a7d2-5ff853dd1d5b",
   "metadata": {},
   "outputs": [],
   "source": [
    "## Configure LangChain with Bedrock"
   ]
  },
  {
   "cell_type": "code",
   "execution_count": 2,
   "id": "93df2442",
   "metadata": {
    "tags": []
   },
   "outputs": [
    {
     "name": "stderr",
     "output_type": "stream",
     "text": [
      "/opt/conda/lib/python3.10/site-packages/langchain_core/_api/deprecation.py:139: LangChainDeprecationWarning: The class `Bedrock` was deprecated in LangChain 0.0.34 and will be removed in 0.3. An updated version of the class exists in the langchain-aws package and should be used instead. To use it run `pip install -U langchain-aws` and import as `from langchain_aws import BedrockLLM`.\n",
      "  warn_deprecated(\n"
     ]
    }
   ],
   "source": [
    "from langchain.llms.bedrock import Bedrock\n",
    "modelId = \"amazon.titan-tg1-large\"\n",
    "llm = Bedrock(\n",
    "    model_id=modelId,\n",
    "    model_kwargs={\n",
    "        \"maxTokenCount\": 4096,\n",
    "        \"stopSequences\": [],\n",
    "        \"temperature\": 0,\n",
    "        \"topP\": 1,\n",
    "    },\n",
    "    client=boto3_bedrock,\n",
    ")"
   ]
  },
  {
   "cell_type": "markdown",
   "id": "31223056",
   "metadata": {},
   "source": [
    "## Load the text to summarise\n",
    "\n",
    "In `letters` directory, you can find a text file of [Amazon's CEO letter to shareholders in 2022](https://www.aboutamazon.com/news/company-news/amazon-ceo-andy-jassy-2022-letter-to-shareholders). The following cell loads the text file and counts the number of tokens in the file."
   ]
  },
  {
   "cell_type": "code",
   "execution_count": 3,
   "id": "c70352ae",
   "metadata": {
    "tags": []
   },
   "outputs": [
    {
     "name": "stderr",
     "output_type": "stream",
     "text": [
      "/opt/conda/lib/python3.10/site-packages/huggingface_hub/file_download.py:1150: FutureWarning: `resume_download` is deprecated and will be removed in version 1.0.0. Downloads always resume when possible. If you want to force a new download, use `force_download=True`.\n",
      "  warnings.warn(\n",
      "Token indices sequence length is longer than the specified maximum sequence length for this model (1443 > 1024). Running this sequence through the model will result in indexing errors\n"
     ]
    },
    {
     "data": {
      "text/plain": [
       "1443"
      ]
     },
     "execution_count": 3,
     "metadata": {},
     "output_type": "execute_result"
    }
   ],
   "source": [
    "shareholder_letter = \"./letters/2022-letter.txt\"\n",
    "\n",
    "with open(shareholder_letter, \"r\") as file:\n",
    "    letter = file.read()\n",
    "    \n",
    "llm.get_num_tokens(letter)"
   ]
  },
  {
   "cell_type": "markdown",
   "id": "dc8ec39d",
   "metadata": {},
   "source": [
    "## Split the long text into chunks\n",
    "\n",
    "The text is too long to fit in the prompt, so we will split it into smaller chunks."
   ]
  },
  {
   "cell_type": "code",
   "execution_count": 4,
   "id": "2e7c372b",
   "metadata": {
    "tags": []
   },
   "outputs": [],
   "source": [
    "from langchain.text_splitter import RecursiveCharacterTextSplitter\n",
    "text_splitter = RecursiveCharacterTextSplitter(\n",
    "    separators=[\"\\n\\n\", \"\\n\"], chunk_size=4000, chunk_overlap=100\n",
    ")\n",
    "\n",
    "docs = text_splitter.create_documents([letter])"
   ]
  },
  {
   "cell_type": "markdown",
   "id": "53004375-447f-481c-a060-c2e6b0782e87",
   "metadata": {},
   "source": [
    "## How many documents do we now have?"
   ]
  },
  {
   "cell_type": "code",
   "execution_count": 5,
   "id": "f66569f0",
   "metadata": {
    "tags": []
   },
   "outputs": [
    {
     "name": "stdout",
     "output_type": "stream",
     "text": [
      "Now we have 3 documents and the first one has 439 tokens\n"
     ]
    }
   ],
   "source": [
    "num_docs = len(docs)\n",
    "\n",
    "num_tokens_first_doc = llm.get_num_tokens(docs[0].page_content)\n",
    "\n",
    "print(\n",
    "    f\"Now we have {num_docs} documents and the first one has {num_tokens_first_doc} tokens\"\n",
    ")"
   ]
  },
  {
   "cell_type": "markdown",
   "id": "a5f8ae45",
   "metadata": {},
   "source": [
    "## Summarise chunks using `refine`"
   ]
  },
  {
   "cell_type": "code",
   "execution_count": 6,
   "id": "b3b08c54",
   "metadata": {
    "tags": []
   },
   "outputs": [],
   "source": [
    "# Set verbose=True if you want to see the prompts being used\n",
    "from langchain.chains.summarize import load_summarize_chain\n",
    "summary_chain = load_summarize_chain(llm=llm, chain_type=\"refine\", verbose=False)"
   ]
  },
  {
   "cell_type": "markdown",
   "id": "c33fdeb2-b709-4c96-b95b-c655dfca4315",
   "metadata": {},
   "source": [
    "## Run the summary chain"
   ]
  },
  {
   "cell_type": "markdown",
   "id": "4f0eda5e-36a5-4618-ac5a-e272673d6f26",
   "metadata": {},
   "source": [
    "> ⏰ **Note:** Depending on your number of documents, Bedrock request rate quota, and configured retry settings - the chain below may take some time to run."
   ]
  },
  {
   "cell_type": "code",
   "execution_count": 8,
   "id": "ba73121e",
   "metadata": {
    "tags": []
   },
   "outputs": [],
   "source": [
    "output = \"\"\n",
    "try:\n",
    "    \n",
    "    output = summary_chain.run(docs)\n",
    "\n",
    "except ValueError as error:\n",
    "    if  \"AccessDeniedException\" in str(error):\n",
    "        print(f\"\\x1b[41m{error}\\\n",
    "        \\nTo troubeshoot this issue please refer to the following resources.\\\n",
    "         \\nhttps://docs.aws.amazon.com/IAM/latest/UserGuide/troubleshoot_access-denied.html\\\n",
    "         \\nhttps://docs.aws.amazon.com/bedrock/latest/userguide/security-iam.html\\x1b[0m\\n\")      \n",
    "        class StopExecution(ValueError):\n",
    "            def _render_traceback_(self):\n",
    "                pass\n",
    "        raise StopExecution        \n",
    "    else:\n",
    "        raise error"
   ]
  },
  {
   "cell_type": "markdown",
   "id": "53769d3e-9f5b-44c3-b957-ec06929dd4b3",
   "metadata": {},
   "source": [
    "## Print the response"
   ]
  },
  {
   "cell_type": "code",
   "execution_count": 9,
   "id": "f3f7eb9b",
   "metadata": {
    "tags": []
   },
   "outputs": [
    {
     "name": "stdout",
     "output_type": "stream",
     "text": [
      "Amazon's CEO expresses optimism and energy for the future despite facing challenges in 2022. The\n",
      "company grew demand, innovated in its largest businesses, and adjusted investment decisions. The CEO\n",
      "highlights the constant change and evolution Amazon has undergone since its inception, from selling\n",
      "books online to becoming a global marketplace and offering various technology infrastructure\n",
      "services. They mention the launch of Kindle, Alexa, and other innovations that have transformed the\n",
      "way people access information and shop.\n",
      "\n",
      "There have also been times when macroeconomic conditions or operating inefficiencies have presented\n",
      "us with new challenges. For instance, in the 2001 dot-com crash, we had to secure letters of credit\n",
      "to buy inventory for the holidays, streamline costs to deliver better profitability for the\n",
      "business, yet still prioritized the long-term customer experience and business we were trying to\n",
      "build (if you remember, we actually lowered prices in most of our categories during that tenuous\n",
      "2001 period). You saw this sort of balancing again in 2008-2009 as we endured the recession provoked\n",
      "by the mortgage-backed securities financial crisis. We took several actions to manage the cost\n",
      "structure and efficiency of our Stores business, but we also balanced this streamlining with\n",
      "investment in customer experiences that we believed could be substantial future businesses with\n",
      "strong returns for shareholders. In 2008, AWS was still a fairly small, fledgling business. We knew\n",
      "we were on to something, but it still required substantial capital investment. There were voices\n",
      "inside and outside of the company questioning why Amazon (known mostly as an online retailer then)\n",
      "would be investing so much in cloud computing. But, we knew we were inventing something special that\n",
      "could create a lot of value for customers and Amazon in the future. We had a head start on potential\n",
      "competitors; and if anything, we wanted to accelerate our pace of innovation. We made the long-term\n",
      "decision to continue investing in AWS. Fifteen years later, AWS is now an $85B annual revenue run\n",
      "rate business, with strong profitability, that has transformed how customers from start-ups to\n",
      "multinational companies to public sector organizations manage their technology infrastructure.\n",
      "Amazon would be a different company if we’d slowed investment in AWS during that 2008-2009 period.\n",
      "\n",
      "Change is always around the corner. Sometimes, you proactively invite it in, and sometimes it just\n",
      "comes a-knocking. But, when you see it’s coming, you have to embrace it. And, the companies that do\n",
      "this well over a long period of time usually succeed. I’m optimistic about our future prospects\n",
      "because I like the way our team is responding to the changes we see in front of us.\n",
      "\n",
      "Over the last several months, we took a deep look across the company, business by business,\n",
      "invention by invention, and asked ourselves whether we had conviction about each initiative’s long-\n",
      "term potential to drive enough revenue, operating income, free cash flow, and return on invested\n",
      "capital. In some cases, it led to us shuttering certain businesses. For instance, we stopped\n",
      "pursuing physical store concepts like our Bookstores and 4 Star stores, closed our Amazon Fabric and\n",
      "Amazon Care efforts, and moved on from some newer devices where we didn’t see a path to meaningful\n",
      "returns. In other cases, we looked at some programs that weren’t producing the returns we’d hoped\n",
      "(e.g. free shipping for all online grocery orders over $35) and amended them. We also reprioritized\n",
      "where to spend our resources, which ultimately led to the hard decision to eliminate 27,000\n",
      "corporate roles. There are a number of other changes that we’ve made over the last several months to\n",
      "streamline our overall costs, and like most leadership teams, we’ll continue to evaluate what we’re\n",
      "seeing in our business and proceed adaptively.\n",
      "\n",
      "We have the opportunity to refine the existing summary (only if needed) with some more context\n",
      "below.\n",
      "------------\n",
      "We also looked hard at how we were working together as a team and asked our corporate employees to\n",
      "come back to the office at least three days a week, beginning in May. During the pandemic, our\n",
      "employees rallied to get work done from home and did everything possible to keep up with the\n",
      "unexpected circumstances that presented themselves. It was impressive and I’m proud of the way our\n",
      "collective team came together to overcome unprecedented challenges for our customers, communities,\n",
      "and business. But, we don’t think it’s the best long-term approach. We’ve become convinced that\n",
      "collaborating and inventing is easier and more effective when we’re working together and learning\n",
      "from one another in person. The energy and riffing on one another’s ideas happen more freely, and\n",
      "many of the best Amazon inventions have had their breakthrough moments from people staying behind\n",
      "after a meeting and working through ideas on a whiteboard, or continuing the conversation on the\n",
      "walk back from a meeting, or just popping by a teammate’s office later that day with another\n",
      "thought. Invention is often messy. It wanders and meanders and marinates. Serendipitous interactions\n",
      "help it, and there are more of those in-person than virtually. It’s also significantly easier to\n",
      "learn, model, practice, and strengthen our culture when we’re in the office together most of the\n",
      "time and surrounded by our colleagues. Innovation and our unique culture have been incredibly\n",
      "important in our first 29 years as a company, and I expect it will be comparably so in the next 29.\n",
      "------------\n"
     ]
    }
   ],
   "source": [
    "print_ww(output.strip())"
   ]
  },
  {
   "cell_type": "markdown",
   "id": "9958e19f-1ed2-4eec-b390-5bce550b5923",
   "metadata": {},
   "source": [
    "## Pre-prepared output\n",
    "\n",
    "```\n",
    "Jeff Bezos, the CEO of Amazon, is positive and energized about the company's future despite facing\n",
    "challenges in 2022. The company grew demand, innovated in its largest businesses, and made\n",
    "adjustments to its investment decisions while preserving long-term investments. Amazon's success can\n",
    "be attributed to its ability to adapt to changing market conditions and customer needs. The company\n",
    "has embraced change and taken steps to streamline its costs, such as shutting down certain\n",
    "businesses, amending programs, and eliminating 27,000 corporate roles. Amazon is optimistic about\n",
    "its future prospects and believes that its team is responding to the changes in front of them\n",
    "effectively.\n",
    "\n",
    "Amazon has decided to require its corporate employees to return to the office at least three days a\n",
    "week, starting in May. The company believes that collaborating and inventing is easier and more\n",
    "effective when done in person, and many of its best inventions have come from serendipitous\n",
    "interactions in the office. The rising cost to serve in its Stores fulfillment network has been a\n",
    "critical challenge, and the company has made several changes to improve fulfillment costs and speed\n",
    "of delivery. During the early part of the pandemic, Amazon's consumer business grew at an\n",
    "extraordinary clip, doubling the fulfillment center footprint and substantially accelerating\n",
    "building a last-mile transportation network.\n",
    "\n",
    "Amazon has made significant structural changes to deliver lower costs and faster speed for many\n",
    "years to come. These changes include reevaluating how its US fulfillment network was organized and\n",
    "leveraging its larger fulfillment center footprint to move from a national fulfillment network to a\n",
    "regionalized network model. Advanced machine learning algorithms are being used to better predict\n",
    "what customers in various parts of the country will need, and the regional roll out has been\n",
    "completed. AWS has an $85B annualized revenue run rate and is still early in its adoption curve, but\n",
    "faces short-term headwinds due to companies being more cautious in spending. AWS is taking a\n",
    "different tack, focusing on building customer relationships and a business that outlast all of us.\n",
    "Its sales and support teams are spending much of their time helping customers optimize their AWS\n",
    "spend so they can better weather this uncertain economy.\n",
    "\n",
    "AWS faces short-term challenges, but it remains strong due to a robust customer pipeline, active\n",
    "migrations, and enterprises opting for AWS for its agility, innovation, cost-efficiency, and\n",
    "security benefits. The company continues to deliver new capabilities rapidly and invests in long-\n",
    "term inventions, such as its Graviton CPU processors and machine learning training and inference\n",
    "chips. Despite these challenges, AWS is well-positioned for unusual growth in the next decade.\n",
    "Amazon Advertising is committed to being the best place for advertisers to build their brands. They\n",
    "are investing in machine learning to improve their advertising selection algorithms and building\n",
    "comprehensive, flexible, and durable planning and measurement solutions. Amazon Marketing Cloud\n",
    "(AMC) is a secure digital environment where advertisers can run custom audience and campaign\n",
    "analytics in a privacy-safe manner.\n",
    "\n",
    "The Advertising and AWS teams have collaborated to enable companies to store their data in AWS,\n",
    "operate securely in AMC, perform analytics in AWS, and activate advertising on Amazon or third-party\n",
    "publishers through the Amazon Demand-Side Platform. They are also looking at new investment\n",
    "opportunities, such as expanding from just selling Books to adding categories like Music, Video,\n",
    "Electronics, and Toys. In 2022, their international consumer segment drove $118B of revenue, with\n",
    "30% compound annual growth rate (CAGR) in the UK, 26% in Germany, and 21% in Japan. They have also\n",
    "invested in new international geographies, such as India, Brazil, Mexico, Australia, various\n",
    "European countries, the Middle East, and parts of Africa. To solve these challenges, they are\n",
    "working with partners to deliver solutions for customers. Ultimately, this investment in serving a\n",
    "broader geographical footprint will allow them to help more customers across the world and build a\n",
    "larger free cash flow-generating consumer business.\n",
    "\n",
    "Amazon has been expanding its customer offerings across large, unique product retail market\n",
    "segments, such as grocery. It has built a significant grocery business over nearly 20 years,\n",
    "offering more than three million items compared to a typical supermarket's 30K. To serve more of its\n",
    "customers' grocery needs, Amazon needs a broader physical store footprint. Whole Foods Market\n",
    "pioneered the natural and organic specialty grocery store concept 40 years ago, and Amazon Fresh is\n",
    "the brand they've been experimenting with for a few years. Amazon Business is an investment where\n",
    "ecommerce and logistics capabilities position Amazon well to pursue the large market segment. It\n",
    "launched in 2015 and drives $35B in annualized gross sales, with more than six million active\n",
    "customers, including 96 of the global Fortune 100 companies.\n",
    "\n",
    "Amazon has developed Buy with Prime to assist third-party brands and sellers in offering their\n",
    "products on their websites to Amazon Prime members. It provides merchants with additional benefits\n",
    "such as Amazon handling product storage, picking, packing, delivery, payment, and returns. It has\n",
    "increased shopper conversion on third-party shopping sites by 25% on average. Amazon is expanding\n",
    "internationally, pursuing large retail market segments, and using its unique assets to help\n",
    "merchants sell more effectively on their websites. In 2003, AWS was a classic example; in 2023,\n",
    "Amazon Healthcare and Kuiper are potential analogues.\n",
    "\n",
    "Amazon Pharmacy is a full-service, online pharmacy that offers transparent pricing, easy refills,\n",
    "and savings for Prime members. However, customers have expressed a strong desire for Amazon to\n",
    "provide a better alternative to the inefficient and unsatisfying broader healthcare experience. In\n",
    "July 2022, Amazon announced its acquisition of One Medical, a patient-focused experience with a\n",
    "digital app and offices in cities across the US. One Medical has relationships with specialty\n",
    "physicians and works closely with local hospital systems to make seeing specialists easy. Amazon and\n",
    "One Medical will continue to innovate together to change primary care.\n",
    "\n",
    "Amazon is creating Kuiper, a low-Earth orbit satellite system to deliver high-quality broadband\n",
    "internet service to places around the world that don't currently have it. The system will deliver\n",
    "not only accessibility but affordability, with low-cost antennas that will lower the barriers to\n",
    "access. The company is preparing to launch two prototype satellites to test the entire end-to-end\n",
    "communications network this year and plans to be in beta with commercial customers in 2024. Kuiper\n",
    "represents a large potential opportunity for Amazon, with a large prospective consumer, enterprise,\n",
    "and government customer base, significant revenue and operating profit potential, and relatively few\n",
    "companies with the technical and inventive aptitude to go after it.\n",
    "\n",
    "Amazon is investing heavily in Large Language Models (LLMs) and Generative AI to invent in every\n",
    "area of its business for many decades to come. Machine learning has been a technology with high\n",
    "promise for several decades, but it has only been the last five to ten years that it has started to\n",
    "be used more pervasively by companies. Generative AI is based on very Large Language Models (trained\n",
    "on up to hundreds of billions of parameters, and growing), across expansive datasets, and has\n",
    "radically general and broad recall and learning capabilities. AWS is offering the most price-\n",
    "performant machine learning chips in Trainium and Inferentia so small and large companies can afford\n",
    "to train and run their LLMs in production. LLMs and Generative AI are going to be a big deal for\n",
    "customers, our shareholders, and Amazon, and AWS is democratizing this technology so companies of\n",
    "all sizes can leverage it.\n",
    "\n",
    "The most important details in this text are the two simple statistics that underline Amazon's\n",
    "immense future opportunity. While Amazon has a consumer business that's $434B in 2022, the vast\n",
    "majority of total market segment share in global retail still resides in physical stores (roughly\n",
    "80%). And, it's a similar story for Global IT spending, where AWS revenue of $80B in 2022, with\n",
    "about 90% of Global IT spending still on-premises and yet to migrate to the cloud. As these\n",
    "equations steadily flip, Amazon believes its leading customer experiences, relentless invention,\n",
    "customer focus, and hard work will result in significant growth in the coming years. Additionally,\n",
    "Amazon is pursuing other businesses and experiences, all of which are still in their early days. The\n",
    "CEO is optimistic that Amazon will emerge from this challenging macroeconomic time in a stronger\n",
    "position than when it entered it and looks forward to working with his teammates to make it so.\n",
    "```"
   ]
  }
 ],
 "metadata": {
  "availableInstances": [
   {
    "_defaultOrder": 0,
    "_isFastLaunch": true,
    "category": "General purpose",
    "gpuNum": 0,
    "hideHardwareSpecs": false,
    "memoryGiB": 4,
    "name": "ml.t3.medium",
    "vcpuNum": 2
   },
   {
    "_defaultOrder": 1,
    "_isFastLaunch": false,
    "category": "General purpose",
    "gpuNum": 0,
    "hideHardwareSpecs": false,
    "memoryGiB": 8,
    "name": "ml.t3.large",
    "vcpuNum": 2
   },
   {
    "_defaultOrder": 2,
    "_isFastLaunch": false,
    "category": "General purpose",
    "gpuNum": 0,
    "hideHardwareSpecs": false,
    "memoryGiB": 16,
    "name": "ml.t3.xlarge",
    "vcpuNum": 4
   },
   {
    "_defaultOrder": 3,
    "_isFastLaunch": false,
    "category": "General purpose",
    "gpuNum": 0,
    "hideHardwareSpecs": false,
    "memoryGiB": 32,
    "name": "ml.t3.2xlarge",
    "vcpuNum": 8
   },
   {
    "_defaultOrder": 4,
    "_isFastLaunch": true,
    "category": "General purpose",
    "gpuNum": 0,
    "hideHardwareSpecs": false,
    "memoryGiB": 8,
    "name": "ml.m5.large",
    "vcpuNum": 2
   },
   {
    "_defaultOrder": 5,
    "_isFastLaunch": false,
    "category": "General purpose",
    "gpuNum": 0,
    "hideHardwareSpecs": false,
    "memoryGiB": 16,
    "name": "ml.m5.xlarge",
    "vcpuNum": 4
   },
   {
    "_defaultOrder": 6,
    "_isFastLaunch": false,
    "category": "General purpose",
    "gpuNum": 0,
    "hideHardwareSpecs": false,
    "memoryGiB": 32,
    "name": "ml.m5.2xlarge",
    "vcpuNum": 8
   },
   {
    "_defaultOrder": 7,
    "_isFastLaunch": false,
    "category": "General purpose",
    "gpuNum": 0,
    "hideHardwareSpecs": false,
    "memoryGiB": 64,
    "name": "ml.m5.4xlarge",
    "vcpuNum": 16
   },
   {
    "_defaultOrder": 8,
    "_isFastLaunch": false,
    "category": "General purpose",
    "gpuNum": 0,
    "hideHardwareSpecs": false,
    "memoryGiB": 128,
    "name": "ml.m5.8xlarge",
    "vcpuNum": 32
   },
   {
    "_defaultOrder": 9,
    "_isFastLaunch": false,
    "category": "General purpose",
    "gpuNum": 0,
    "hideHardwareSpecs": false,
    "memoryGiB": 192,
    "name": "ml.m5.12xlarge",
    "vcpuNum": 48
   },
   {
    "_defaultOrder": 10,
    "_isFastLaunch": false,
    "category": "General purpose",
    "gpuNum": 0,
    "hideHardwareSpecs": false,
    "memoryGiB": 256,
    "name": "ml.m5.16xlarge",
    "vcpuNum": 64
   },
   {
    "_defaultOrder": 11,
    "_isFastLaunch": false,
    "category": "General purpose",
    "gpuNum": 0,
    "hideHardwareSpecs": false,
    "memoryGiB": 384,
    "name": "ml.m5.24xlarge",
    "vcpuNum": 96
   },
   {
    "_defaultOrder": 12,
    "_isFastLaunch": false,
    "category": "General purpose",
    "gpuNum": 0,
    "hideHardwareSpecs": false,
    "memoryGiB": 8,
    "name": "ml.m5d.large",
    "vcpuNum": 2
   },
   {
    "_defaultOrder": 13,
    "_isFastLaunch": false,
    "category": "General purpose",
    "gpuNum": 0,
    "hideHardwareSpecs": false,
    "memoryGiB": 16,
    "name": "ml.m5d.xlarge",
    "vcpuNum": 4
   },
   {
    "_defaultOrder": 14,
    "_isFastLaunch": false,
    "category": "General purpose",
    "gpuNum": 0,
    "hideHardwareSpecs": false,
    "memoryGiB": 32,
    "name": "ml.m5d.2xlarge",
    "vcpuNum": 8
   },
   {
    "_defaultOrder": 15,
    "_isFastLaunch": false,
    "category": "General purpose",
    "gpuNum": 0,
    "hideHardwareSpecs": false,
    "memoryGiB": 64,
    "name": "ml.m5d.4xlarge",
    "vcpuNum": 16
   },
   {
    "_defaultOrder": 16,
    "_isFastLaunch": false,
    "category": "General purpose",
    "gpuNum": 0,
    "hideHardwareSpecs": false,
    "memoryGiB": 128,
    "name": "ml.m5d.8xlarge",
    "vcpuNum": 32
   },
   {
    "_defaultOrder": 17,
    "_isFastLaunch": false,
    "category": "General purpose",
    "gpuNum": 0,
    "hideHardwareSpecs": false,
    "memoryGiB": 192,
    "name": "ml.m5d.12xlarge",
    "vcpuNum": 48
   },
   {
    "_defaultOrder": 18,
    "_isFastLaunch": false,
    "category": "General purpose",
    "gpuNum": 0,
    "hideHardwareSpecs": false,
    "memoryGiB": 256,
    "name": "ml.m5d.16xlarge",
    "vcpuNum": 64
   },
   {
    "_defaultOrder": 19,
    "_isFastLaunch": false,
    "category": "General purpose",
    "gpuNum": 0,
    "hideHardwareSpecs": false,
    "memoryGiB": 384,
    "name": "ml.m5d.24xlarge",
    "vcpuNum": 96
   },
   {
    "_defaultOrder": 20,
    "_isFastLaunch": false,
    "category": "General purpose",
    "gpuNum": 0,
    "hideHardwareSpecs": true,
    "memoryGiB": 0,
    "name": "ml.geospatial.interactive",
    "supportedImageNames": [
     "sagemaker-geospatial-v1-0"
    ],
    "vcpuNum": 0
   },
   {
    "_defaultOrder": 21,
    "_isFastLaunch": true,
    "category": "Compute optimized",
    "gpuNum": 0,
    "hideHardwareSpecs": false,
    "memoryGiB": 4,
    "name": "ml.c5.large",
    "vcpuNum": 2
   },
   {
    "_defaultOrder": 22,
    "_isFastLaunch": false,
    "category": "Compute optimized",
    "gpuNum": 0,
    "hideHardwareSpecs": false,
    "memoryGiB": 8,
    "name": "ml.c5.xlarge",
    "vcpuNum": 4
   },
   {
    "_defaultOrder": 23,
    "_isFastLaunch": false,
    "category": "Compute optimized",
    "gpuNum": 0,
    "hideHardwareSpecs": false,
    "memoryGiB": 16,
    "name": "ml.c5.2xlarge",
    "vcpuNum": 8
   },
   {
    "_defaultOrder": 24,
    "_isFastLaunch": false,
    "category": "Compute optimized",
    "gpuNum": 0,
    "hideHardwareSpecs": false,
    "memoryGiB": 32,
    "name": "ml.c5.4xlarge",
    "vcpuNum": 16
   },
   {
    "_defaultOrder": 25,
    "_isFastLaunch": false,
    "category": "Compute optimized",
    "gpuNum": 0,
    "hideHardwareSpecs": false,
    "memoryGiB": 72,
    "name": "ml.c5.9xlarge",
    "vcpuNum": 36
   },
   {
    "_defaultOrder": 26,
    "_isFastLaunch": false,
    "category": "Compute optimized",
    "gpuNum": 0,
    "hideHardwareSpecs": false,
    "memoryGiB": 96,
    "name": "ml.c5.12xlarge",
    "vcpuNum": 48
   },
   {
    "_defaultOrder": 27,
    "_isFastLaunch": false,
    "category": "Compute optimized",
    "gpuNum": 0,
    "hideHardwareSpecs": false,
    "memoryGiB": 144,
    "name": "ml.c5.18xlarge",
    "vcpuNum": 72
   },
   {
    "_defaultOrder": 28,
    "_isFastLaunch": false,
    "category": "Compute optimized",
    "gpuNum": 0,
    "hideHardwareSpecs": false,
    "memoryGiB": 192,
    "name": "ml.c5.24xlarge",
    "vcpuNum": 96
   },
   {
    "_defaultOrder": 29,
    "_isFastLaunch": true,
    "category": "Accelerated computing",
    "gpuNum": 1,
    "hideHardwareSpecs": false,
    "memoryGiB": 16,
    "name": "ml.g4dn.xlarge",
    "vcpuNum": 4
   },
   {
    "_defaultOrder": 30,
    "_isFastLaunch": false,
    "category": "Accelerated computing",
    "gpuNum": 1,
    "hideHardwareSpecs": false,
    "memoryGiB": 32,
    "name": "ml.g4dn.2xlarge",
    "vcpuNum": 8
   },
   {
    "_defaultOrder": 31,
    "_isFastLaunch": false,
    "category": "Accelerated computing",
    "gpuNum": 1,
    "hideHardwareSpecs": false,
    "memoryGiB": 64,
    "name": "ml.g4dn.4xlarge",
    "vcpuNum": 16
   },
   {
    "_defaultOrder": 32,
    "_isFastLaunch": false,
    "category": "Accelerated computing",
    "gpuNum": 1,
    "hideHardwareSpecs": false,
    "memoryGiB": 128,
    "name": "ml.g4dn.8xlarge",
    "vcpuNum": 32
   },
   {
    "_defaultOrder": 33,
    "_isFastLaunch": false,
    "category": "Accelerated computing",
    "gpuNum": 4,
    "hideHardwareSpecs": false,
    "memoryGiB": 192,
    "name": "ml.g4dn.12xlarge",
    "vcpuNum": 48
   },
   {
    "_defaultOrder": 34,
    "_isFastLaunch": false,
    "category": "Accelerated computing",
    "gpuNum": 1,
    "hideHardwareSpecs": false,
    "memoryGiB": 256,
    "name": "ml.g4dn.16xlarge",
    "vcpuNum": 64
   },
   {
    "_defaultOrder": 35,
    "_isFastLaunch": false,
    "category": "Accelerated computing",
    "gpuNum": 1,
    "hideHardwareSpecs": false,
    "memoryGiB": 61,
    "name": "ml.p3.2xlarge",
    "vcpuNum": 8
   },
   {
    "_defaultOrder": 36,
    "_isFastLaunch": false,
    "category": "Accelerated computing",
    "gpuNum": 4,
    "hideHardwareSpecs": false,
    "memoryGiB": 244,
    "name": "ml.p3.8xlarge",
    "vcpuNum": 32
   },
   {
    "_defaultOrder": 37,
    "_isFastLaunch": false,
    "category": "Accelerated computing",
    "gpuNum": 8,
    "hideHardwareSpecs": false,
    "memoryGiB": 488,
    "name": "ml.p3.16xlarge",
    "vcpuNum": 64
   },
   {
    "_defaultOrder": 38,
    "_isFastLaunch": false,
    "category": "Accelerated computing",
    "gpuNum": 8,
    "hideHardwareSpecs": false,
    "memoryGiB": 768,
    "name": "ml.p3dn.24xlarge",
    "vcpuNum": 96
   },
   {
    "_defaultOrder": 39,
    "_isFastLaunch": false,
    "category": "Memory Optimized",
    "gpuNum": 0,
    "hideHardwareSpecs": false,
    "memoryGiB": 16,
    "name": "ml.r5.large",
    "vcpuNum": 2
   },
   {
    "_defaultOrder": 40,
    "_isFastLaunch": false,
    "category": "Memory Optimized",
    "gpuNum": 0,
    "hideHardwareSpecs": false,
    "memoryGiB": 32,
    "name": "ml.r5.xlarge",
    "vcpuNum": 4
   },
   {
    "_defaultOrder": 41,
    "_isFastLaunch": false,
    "category": "Memory Optimized",
    "gpuNum": 0,
    "hideHardwareSpecs": false,
    "memoryGiB": 64,
    "name": "ml.r5.2xlarge",
    "vcpuNum": 8
   },
   {
    "_defaultOrder": 42,
    "_isFastLaunch": false,
    "category": "Memory Optimized",
    "gpuNum": 0,
    "hideHardwareSpecs": false,
    "memoryGiB": 128,
    "name": "ml.r5.4xlarge",
    "vcpuNum": 16
   },
   {
    "_defaultOrder": 43,
    "_isFastLaunch": false,
    "category": "Memory Optimized",
    "gpuNum": 0,
    "hideHardwareSpecs": false,
    "memoryGiB": 256,
    "name": "ml.r5.8xlarge",
    "vcpuNum": 32
   },
   {
    "_defaultOrder": 44,
    "_isFastLaunch": false,
    "category": "Memory Optimized",
    "gpuNum": 0,
    "hideHardwareSpecs": false,
    "memoryGiB": 384,
    "name": "ml.r5.12xlarge",
    "vcpuNum": 48
   },
   {
    "_defaultOrder": 45,
    "_isFastLaunch": false,
    "category": "Memory Optimized",
    "gpuNum": 0,
    "hideHardwareSpecs": false,
    "memoryGiB": 512,
    "name": "ml.r5.16xlarge",
    "vcpuNum": 64
   },
   {
    "_defaultOrder": 46,
    "_isFastLaunch": false,
    "category": "Memory Optimized",
    "gpuNum": 0,
    "hideHardwareSpecs": false,
    "memoryGiB": 768,
    "name": "ml.r5.24xlarge",
    "vcpuNum": 96
   },
   {
    "_defaultOrder": 47,
    "_isFastLaunch": false,
    "category": "Accelerated computing",
    "gpuNum": 1,
    "hideHardwareSpecs": false,
    "memoryGiB": 16,
    "name": "ml.g5.xlarge",
    "vcpuNum": 4
   },
   {
    "_defaultOrder": 48,
    "_isFastLaunch": false,
    "category": "Accelerated computing",
    "gpuNum": 1,
    "hideHardwareSpecs": false,
    "memoryGiB": 32,
    "name": "ml.g5.2xlarge",
    "vcpuNum": 8
   },
   {
    "_defaultOrder": 49,
    "_isFastLaunch": false,
    "category": "Accelerated computing",
    "gpuNum": 1,
    "hideHardwareSpecs": false,
    "memoryGiB": 64,
    "name": "ml.g5.4xlarge",
    "vcpuNum": 16
   },
   {
    "_defaultOrder": 50,
    "_isFastLaunch": false,
    "category": "Accelerated computing",
    "gpuNum": 1,
    "hideHardwareSpecs": false,
    "memoryGiB": 128,
    "name": "ml.g5.8xlarge",
    "vcpuNum": 32
   },
   {
    "_defaultOrder": 51,
    "_isFastLaunch": false,
    "category": "Accelerated computing",
    "gpuNum": 1,
    "hideHardwareSpecs": false,
    "memoryGiB": 256,
    "name": "ml.g5.16xlarge",
    "vcpuNum": 64
   },
   {
    "_defaultOrder": 52,
    "_isFastLaunch": false,
    "category": "Accelerated computing",
    "gpuNum": 4,
    "hideHardwareSpecs": false,
    "memoryGiB": 192,
    "name": "ml.g5.12xlarge",
    "vcpuNum": 48
   },
   {
    "_defaultOrder": 53,
    "_isFastLaunch": false,
    "category": "Accelerated computing",
    "gpuNum": 4,
    "hideHardwareSpecs": false,
    "memoryGiB": 384,
    "name": "ml.g5.24xlarge",
    "vcpuNum": 96
   },
   {
    "_defaultOrder": 54,
    "_isFastLaunch": false,
    "category": "Accelerated computing",
    "gpuNum": 8,
    "hideHardwareSpecs": false,
    "memoryGiB": 768,
    "name": "ml.g5.48xlarge",
    "vcpuNum": 192
   },
   {
    "_defaultOrder": 55,
    "_isFastLaunch": false,
    "category": "Accelerated computing",
    "gpuNum": 8,
    "hideHardwareSpecs": false,
    "memoryGiB": 1152,
    "name": "ml.p4d.24xlarge",
    "vcpuNum": 96
   },
   {
    "_defaultOrder": 56,
    "_isFastLaunch": false,
    "category": "Accelerated computing",
    "gpuNum": 8,
    "hideHardwareSpecs": false,
    "memoryGiB": 1152,
    "name": "ml.p4de.24xlarge",
    "vcpuNum": 96
   },
   {
    "_defaultOrder": 57,
    "_isFastLaunch": false,
    "category": "Accelerated computing",
    "gpuNum": 0,
    "hideHardwareSpecs": false,
    "memoryGiB": 32,
    "name": "ml.trn1.2xlarge",
    "vcpuNum": 8
   },
   {
    "_defaultOrder": 58,
    "_isFastLaunch": false,
    "category": "Accelerated computing",
    "gpuNum": 0,
    "hideHardwareSpecs": false,
    "memoryGiB": 512,
    "name": "ml.trn1.32xlarge",
    "vcpuNum": 128
   },
   {
    "_defaultOrder": 59,
    "_isFastLaunch": false,
    "category": "Accelerated computing",
    "gpuNum": 0,
    "hideHardwareSpecs": false,
    "memoryGiB": 512,
    "name": "ml.trn1n.32xlarge",
    "vcpuNum": 128
   }
  ],
  "instance_type": "ml.t3.medium",
  "kernelspec": {
   "display_name": "Python 3 (ipykernel)",
   "language": "python",
   "name": "python3"
  },
  "language_info": {
   "codemirror_mode": {
    "name": "ipython",
    "version": 3
   },
   "file_extension": ".py",
   "mimetype": "text/x-python",
   "name": "python",
   "nbconvert_exporter": "python",
   "pygments_lexer": "ipython3",
   "version": "3.10.14"
  }
 },
 "nbformat": 4,
 "nbformat_minor": 5
}
