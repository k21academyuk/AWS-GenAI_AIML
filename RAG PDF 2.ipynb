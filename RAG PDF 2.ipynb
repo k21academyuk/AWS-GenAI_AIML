{
 "cells": [
  {
   "cell_type": "code",
   "execution_count": 1,
   "metadata": {},
   "outputs": [
    {
     "name": "stdout",
     "output_type": "stream",
     "text": [
      "Note: you may need to restart the kernel to use updated packages.\n"
     ]
    }
   ],
   "source": [
    "%pip install -qU pypdf langchain_community"
   ]
  },
  {
   "cell_type": "code",
   "execution_count": 2,
   "metadata": {},
   "outputs": [
    {
     "name": "stdout",
     "output_type": "stream",
     "text": [
      "3\n"
     ]
    }
   ],
   "source": [
    "from langchain_community.document_loaders import PyPDFLoader\n",
    "\n",
    "file_path = \"k21.pdf\"\n",
    "loader = PyPDFLoader(file_path)\n",
    "\n",
    "docs = loader.load()\n",
    "\n",
    "print(len(docs))"
   ]
  },
  {
   "cell_type": "code",
   "execution_count": 3,
   "metadata": {},
   "outputs": [
    {
     "data": {
      "text/plain": [
       "[Document(metadata={'producer': 'PyFPDF 1.7.2 http://pyfpdf.googlecode.com/', 'creator': 'PyPDF', 'creationdate': 'D:20240812131928', 'source': 'k21.pdf', 'total_pages': 3, 'page': 0, 'page_label': '1'}, page_content=\"Everything About Amazon Q\\nIntroduction\\nOverview of Amazon Q: This section provides a brief introduction to Amazon Q, explaining what it is,\\nits primary functions, and its significance in the market. It sets the stage for the rest of the document.\\nPurpose and Scope of the Document: This part outlines the objectives of the document and what it\\naims to cover. It defines the audience and the key topics that will be discussed.\\nAmazon Q Business Overview\\nBackground and History: A look into the origins of Amazon Q, including its development, launch,\\nand evolution over time. This section may also cover key milestones and significant events in its\\nhistory.\\nMarket Position and Competitors: Analysis of Amazon Q's position within the market, including a\\ncomparison with its competitors. This section might also explore market share, customer base, and\\ngeographic presence.\\nBusiness Strategy: Insight into Amazon Q's business strategies, including its growth tactics,\\nmarketing approaches, and how it plans to maintain or improve its market position.\\nKey Partnerships and Alliances: Details about Amazon Q's strategic partnerships and alliances,\\nwhich help in expanding its reach, enhancing its offerings, or improving its technology.\\nRevenue Streams and Financials: Information about how Amazon Q generates revenue, including\\nits main income sources, and a look at its financial performance.\\nAmazon Q Applications\\nConsumer Applications: \\n- Overview of Consumer-Focused Features: Describes the features of Amazon Q that are tailored to\\nindividual consumers, such as user-friendly interfaces, personalization, and convenience.\\n- Popular Use Cases: Examples of how consumers use Amazon Q in their daily lives or for specific\"),\n",
       " Document(metadata={'producer': 'PyFPDF 1.7.2 http://pyfpdf.googlecode.com/', 'creator': 'PyPDF', 'creationdate': 'D:20240812131928', 'source': 'k21.pdf', 'total_pages': 3, 'page': 1, 'page_label': '2'}, page_content=\"needs, highlighting its practicality and utility.\\nBusiness Applications:\\n- Enterprise Solutions: This part focuses on Amazon Q's offerings for businesses, including any\\nspecialized tools or services that cater to enterprise clients.\\n- Case Studies and Success Stories: Real-world examples of businesses that have successfully\\nimplemented Amazon Q, showcasing the benefits and outcomes they've achieved.\\nAmazon Q for Developers\\nDeveloper Resources:\\n- SDKs and APIs: Information about the software development kits (SDKs) and application\\nprogramming interfaces (APIs) available to developers working with Amazon Q.\\n- Documentation and Tutorials: An overview of the learning materials provided by Amazon Q to help\\ndevelopers understand and utilize its capabilities effectively.\\n- Developer Community and Support: Details about the community support available, such as\\nforums, online communities, and official support channels.\\nIntegration with AWS:\\n- Key Services and Tools: How Amazon Q integrates with other AWS services, providing developers\\nwith a comprehensive ecosystem for building and deploying applications.\\n- Sample Projects: Examples of projects that have been built using Amazon Q, illustrating its\\npotential and versatility.\\nDevelopment Best Practices:\\n- Security and Compliance: Guidelines on how to ensure that applications built on Amazon Q are\\nsecure and comply with relevant regulations.\\n- Performance Optimization: Tips and techniques for optimizing the performance of applications\\nusing Amazon Q, ensuring efficiency and scalability.\\nFuture Outlook\"),\n",
       " Document(metadata={'producer': 'PyFPDF 1.7.2 http://pyfpdf.googlecode.com/', 'creator': 'PyPDF', 'creationdate': 'D:20240812131928', 'source': 'k21.pdf', 'total_pages': 3, 'page': 2, 'page_label': '3'}, page_content='Innovations in the Pipeline: A look at the upcoming features, tools, or updates planned for Amazon\\nQ, giving insight into its future development.\\nIndustry Trends: Exploration of broader trends in the industry that might impact or be influenced by\\nAmazon Q, such as technological advancements or changes in consumer behavior.\\nChallenges and Opportunities: An analysis of potential challenges Amazon Q might face, as well as\\nopportunities for growth or improvement.\\nConclusion\\nSummary of Key Points: A brief recap of the most important information covered in the document,\\nreinforcing the main takeaways.\\nFinal Thoughts: Concluding remarks that provide closure to the document, possibly offering\\npredictions or recommendations for readers.\\nAppendices\\nGlossary of Terms: A list of key terms and definitions used throughout the document, helping\\nreaders understand technical or industry-specific language.\\nAdditional Resources and References: Links or references to additional materials, such as articles,\\nwhitepapers, or websites, where readers can learn more about Amazon Q.')]"
      ]
     },
     "execution_count": 3,
     "metadata": {},
     "output_type": "execute_result"
    }
   ],
   "source": [
    "docs"
   ]
  },
  {
   "cell_type": "code",
   "execution_count": 4,
   "metadata": {},
   "outputs": [
    {
     "name": "stdout",
     "output_type": "stream",
     "text": [
      "Langchain key to start tracing\n"
     ]
    }
   ],
   "source": [
    "# %pip install --upgrade langsmith\n",
    "\n",
    "import os\n",
    "\n",
    "print(\"Langchain key to start tracing\")\n",
    "os.environ[\"LANGCHAIN_TRACING_V2\"] = \"true\"\n",
    "os.environ[\"LANGCHAIN_PROJECT\"] = \"pr-aching-poisoning-52\"\n",
    "os.environ[\"LANGCHAIN_API_KEY\"] = \"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\""
   ]
  },
  {
   "cell_type": "code",
   "execution_count": 5,
   "metadata": {},
   "outputs": [],
   "source": [
    "from getpass import getpass\n",
    "import boto3\n",
    "\n",
    "\n",
    "AWS_REGION = \"us-east-1\"\n",
    "\n",
    "bedrock_client = boto3.client(\n",
    "    service_name=\"bedrock-runtime\",\n",
    "    region_name=AWS_REGION,\n",
    ")"
   ]
  },
  {
   "cell_type": "code",
   "execution_count": 6,
   "metadata": {},
   "outputs": [],
   "source": [
    "from langchain_aws import BedrockLLM\n",
    "\n",
    "llm = BedrockLLM(client=bedrock_client,model_id=\"amazon.titan-text-express-v1\")"
   ]
  },
  {
   "cell_type": "code",
   "execution_count": 7,
   "metadata": {},
   "outputs": [],
   "source": [
    "from langchain_text_splitters import RecursiveCharacterTextSplitter\n",
    "\n",
    "text_splitter = RecursiveCharacterTextSplitter(chunk_size=100, chunk_overlap=15)\n",
    "all_splits = text_splitter.split_documents(docs)\n"
   ]
  },
  {
   "cell_type": "code",
   "execution_count": 8,
   "metadata": {},
   "outputs": [
    {
     "data": {
      "text/plain": [
       "[Document(metadata={'producer': 'PyFPDF 1.7.2 http://pyfpdf.googlecode.com/', 'creator': 'PyPDF', 'creationdate': 'D:20240812131928', 'source': 'k21.pdf', 'total_pages': 3, 'page': 0, 'page_label': '1'}, page_content='Everything About Amazon Q\\nIntroduction'),\n",
       " Document(metadata={'producer': 'PyFPDF 1.7.2 http://pyfpdf.googlecode.com/', 'creator': 'PyPDF', 'creationdate': 'D:20240812131928', 'source': 'k21.pdf', 'total_pages': 3, 'page': 0, 'page_label': '1'}, page_content='Overview of Amazon Q: This section provides a brief introduction to Amazon Q, explaining what it'),\n",
       " Document(metadata={'producer': 'PyFPDF 1.7.2 http://pyfpdf.googlecode.com/', 'creator': 'PyPDF', 'creationdate': 'D:20240812131928', 'source': 'k21.pdf', 'total_pages': 3, 'page': 0, 'page_label': '1'}, page_content='what it is,'),\n",
       " Document(metadata={'producer': 'PyFPDF 1.7.2 http://pyfpdf.googlecode.com/', 'creator': 'PyPDF', 'creationdate': 'D:20240812131928', 'source': 'k21.pdf', 'total_pages': 3, 'page': 0, 'page_label': '1'}, page_content='its primary functions, and its significance in the market. It sets the stage for the rest of the'),\n",
       " Document(metadata={'producer': 'PyFPDF 1.7.2 http://pyfpdf.googlecode.com/', 'creator': 'PyPDF', 'creationdate': 'D:20240812131928', 'source': 'k21.pdf', 'total_pages': 3, 'page': 0, 'page_label': '1'}, page_content='rest of the document.'),\n",
       " Document(metadata={'producer': 'PyFPDF 1.7.2 http://pyfpdf.googlecode.com/', 'creator': 'PyPDF', 'creationdate': 'D:20240812131928', 'source': 'k21.pdf', 'total_pages': 3, 'page': 0, 'page_label': '1'}, page_content='Purpose and Scope of the Document: This part outlines the objectives of the document and what it'),\n",
       " Document(metadata={'producer': 'PyFPDF 1.7.2 http://pyfpdf.googlecode.com/', 'creator': 'PyPDF', 'creationdate': 'D:20240812131928', 'source': 'k21.pdf', 'total_pages': 3, 'page': 0, 'page_label': '1'}, page_content='aims to cover. It defines the audience and the key topics that will be discussed.'),\n",
       " Document(metadata={'producer': 'PyFPDF 1.7.2 http://pyfpdf.googlecode.com/', 'creator': 'PyPDF', 'creationdate': 'D:20240812131928', 'source': 'k21.pdf', 'total_pages': 3, 'page': 0, 'page_label': '1'}, page_content='Amazon Q Business Overview'),\n",
       " Document(metadata={'producer': 'PyFPDF 1.7.2 http://pyfpdf.googlecode.com/', 'creator': 'PyPDF', 'creationdate': 'D:20240812131928', 'source': 'k21.pdf', 'total_pages': 3, 'page': 0, 'page_label': '1'}, page_content='Background and History: A look into the origins of Amazon Q, including its development, launch,'),\n",
       " Document(metadata={'producer': 'PyFPDF 1.7.2 http://pyfpdf.googlecode.com/', 'creator': 'PyPDF', 'creationdate': 'D:20240812131928', 'source': 'k21.pdf', 'total_pages': 3, 'page': 0, 'page_label': '1'}, page_content='and evolution over time. This section may also cover key milestones and significant events in its'),\n",
       " Document(metadata={'producer': 'PyFPDF 1.7.2 http://pyfpdf.googlecode.com/', 'creator': 'PyPDF', 'creationdate': 'D:20240812131928', 'source': 'k21.pdf', 'total_pages': 3, 'page': 0, 'page_label': '1'}, page_content='history.'),\n",
       " Document(metadata={'producer': 'PyFPDF 1.7.2 http://pyfpdf.googlecode.com/', 'creator': 'PyPDF', 'creationdate': 'D:20240812131928', 'source': 'k21.pdf', 'total_pages': 3, 'page': 0, 'page_label': '1'}, page_content=\"Market Position and Competitors: Analysis of Amazon Q's position within the market, including a\"),\n",
       " Document(metadata={'producer': 'PyFPDF 1.7.2 http://pyfpdf.googlecode.com/', 'creator': 'PyPDF', 'creationdate': 'D:20240812131928', 'source': 'k21.pdf', 'total_pages': 3, 'page': 0, 'page_label': '1'}, page_content='comparison with its competitors. This section might also explore market share, customer base, and'),\n",
       " Document(metadata={'producer': 'PyFPDF 1.7.2 http://pyfpdf.googlecode.com/', 'creator': 'PyPDF', 'creationdate': 'D:20240812131928', 'source': 'k21.pdf', 'total_pages': 3, 'page': 0, 'page_label': '1'}, page_content='geographic presence.'),\n",
       " Document(metadata={'producer': 'PyFPDF 1.7.2 http://pyfpdf.googlecode.com/', 'creator': 'PyPDF', 'creationdate': 'D:20240812131928', 'source': 'k21.pdf', 'total_pages': 3, 'page': 0, 'page_label': '1'}, page_content=\"Business Strategy: Insight into Amazon Q's business strategies, including its growth tactics,\"),\n",
       " Document(metadata={'producer': 'PyFPDF 1.7.2 http://pyfpdf.googlecode.com/', 'creator': 'PyPDF', 'creationdate': 'D:20240812131928', 'source': 'k21.pdf', 'total_pages': 3, 'page': 0, 'page_label': '1'}, page_content='marketing approaches, and how it plans to maintain or improve its market position.'),\n",
       " Document(metadata={'producer': 'PyFPDF 1.7.2 http://pyfpdf.googlecode.com/', 'creator': 'PyPDF', 'creationdate': 'D:20240812131928', 'source': 'k21.pdf', 'total_pages': 3, 'page': 0, 'page_label': '1'}, page_content=\"Key Partnerships and Alliances: Details about Amazon Q's strategic partnerships and alliances,\"),\n",
       " Document(metadata={'producer': 'PyFPDF 1.7.2 http://pyfpdf.googlecode.com/', 'creator': 'PyPDF', 'creationdate': 'D:20240812131928', 'source': 'k21.pdf', 'total_pages': 3, 'page': 0, 'page_label': '1'}, page_content='which help in expanding its reach, enhancing its offerings, or improving its technology.'),\n",
       " Document(metadata={'producer': 'PyFPDF 1.7.2 http://pyfpdf.googlecode.com/', 'creator': 'PyPDF', 'creationdate': 'D:20240812131928', 'source': 'k21.pdf', 'total_pages': 3, 'page': 0, 'page_label': '1'}, page_content='Revenue Streams and Financials: Information about how Amazon Q generates revenue, including'),\n",
       " Document(metadata={'producer': 'PyFPDF 1.7.2 http://pyfpdf.googlecode.com/', 'creator': 'PyPDF', 'creationdate': 'D:20240812131928', 'source': 'k21.pdf', 'total_pages': 3, 'page': 0, 'page_label': '1'}, page_content='its main income sources, and a look at its financial performance.\\nAmazon Q Applications'),\n",
       " Document(metadata={'producer': 'PyFPDF 1.7.2 http://pyfpdf.googlecode.com/', 'creator': 'PyPDF', 'creationdate': 'D:20240812131928', 'source': 'k21.pdf', 'total_pages': 3, 'page': 0, 'page_label': '1'}, page_content='Consumer Applications:'),\n",
       " Document(metadata={'producer': 'PyFPDF 1.7.2 http://pyfpdf.googlecode.com/', 'creator': 'PyPDF', 'creationdate': 'D:20240812131928', 'source': 'k21.pdf', 'total_pages': 3, 'page': 0, 'page_label': '1'}, page_content='- Overview of Consumer-Focused Features: Describes the features of Amazon Q that are tailored to'),\n",
       " Document(metadata={'producer': 'PyFPDF 1.7.2 http://pyfpdf.googlecode.com/', 'creator': 'PyPDF', 'creationdate': 'D:20240812131928', 'source': 'k21.pdf', 'total_pages': 3, 'page': 0, 'page_label': '1'}, page_content='individual consumers, such as user-friendly interfaces, personalization, and convenience.'),\n",
       " Document(metadata={'producer': 'PyFPDF 1.7.2 http://pyfpdf.googlecode.com/', 'creator': 'PyPDF', 'creationdate': 'D:20240812131928', 'source': 'k21.pdf', 'total_pages': 3, 'page': 0, 'page_label': '1'}, page_content='- Popular Use Cases: Examples of how consumers use Amazon Q in their daily lives or for specific'),\n",
       " Document(metadata={'producer': 'PyFPDF 1.7.2 http://pyfpdf.googlecode.com/', 'creator': 'PyPDF', 'creationdate': 'D:20240812131928', 'source': 'k21.pdf', 'total_pages': 3, 'page': 1, 'page_label': '2'}, page_content='needs, highlighting its practicality and utility.\\nBusiness Applications:'),\n",
       " Document(metadata={'producer': 'PyFPDF 1.7.2 http://pyfpdf.googlecode.com/', 'creator': 'PyPDF', 'creationdate': 'D:20240812131928', 'source': 'k21.pdf', 'total_pages': 3, 'page': 1, 'page_label': '2'}, page_content=\"- Enterprise Solutions: This part focuses on Amazon Q's offerings for businesses, including any\"),\n",
       " Document(metadata={'producer': 'PyFPDF 1.7.2 http://pyfpdf.googlecode.com/', 'creator': 'PyPDF', 'creationdate': 'D:20240812131928', 'source': 'k21.pdf', 'total_pages': 3, 'page': 1, 'page_label': '2'}, page_content='specialized tools or services that cater to enterprise clients.'),\n",
       " Document(metadata={'producer': 'PyFPDF 1.7.2 http://pyfpdf.googlecode.com/', 'creator': 'PyPDF', 'creationdate': 'D:20240812131928', 'source': 'k21.pdf', 'total_pages': 3, 'page': 1, 'page_label': '2'}, page_content='- Case Studies and Success Stories: Real-world examples of businesses that have successfully'),\n",
       " Document(metadata={'producer': 'PyFPDF 1.7.2 http://pyfpdf.googlecode.com/', 'creator': 'PyPDF', 'creationdate': 'D:20240812131928', 'source': 'k21.pdf', 'total_pages': 3, 'page': 1, 'page_label': '2'}, page_content=\"implemented Amazon Q, showcasing the benefits and outcomes they've achieved.\"),\n",
       " Document(metadata={'producer': 'PyFPDF 1.7.2 http://pyfpdf.googlecode.com/', 'creator': 'PyPDF', 'creationdate': 'D:20240812131928', 'source': 'k21.pdf', 'total_pages': 3, 'page': 1, 'page_label': '2'}, page_content='Amazon Q for Developers\\nDeveloper Resources:'),\n",
       " Document(metadata={'producer': 'PyFPDF 1.7.2 http://pyfpdf.googlecode.com/', 'creator': 'PyPDF', 'creationdate': 'D:20240812131928', 'source': 'k21.pdf', 'total_pages': 3, 'page': 1, 'page_label': '2'}, page_content='- SDKs and APIs: Information about the software development kits (SDKs) and application'),\n",
       " Document(metadata={'producer': 'PyFPDF 1.7.2 http://pyfpdf.googlecode.com/', 'creator': 'PyPDF', 'creationdate': 'D:20240812131928', 'source': 'k21.pdf', 'total_pages': 3, 'page': 1, 'page_label': '2'}, page_content='programming interfaces (APIs) available to developers working with Amazon Q.'),\n",
       " Document(metadata={'producer': 'PyFPDF 1.7.2 http://pyfpdf.googlecode.com/', 'creator': 'PyPDF', 'creationdate': 'D:20240812131928', 'source': 'k21.pdf', 'total_pages': 3, 'page': 1, 'page_label': '2'}, page_content='- Documentation and Tutorials: An overview of the learning materials provided by Amazon Q to help'),\n",
       " Document(metadata={'producer': 'PyFPDF 1.7.2 http://pyfpdf.googlecode.com/', 'creator': 'PyPDF', 'creationdate': 'D:20240812131928', 'source': 'k21.pdf', 'total_pages': 3, 'page': 1, 'page_label': '2'}, page_content='developers understand and utilize its capabilities effectively.'),\n",
       " Document(metadata={'producer': 'PyFPDF 1.7.2 http://pyfpdf.googlecode.com/', 'creator': 'PyPDF', 'creationdate': 'D:20240812131928', 'source': 'k21.pdf', 'total_pages': 3, 'page': 1, 'page_label': '2'}, page_content='- Developer Community and Support: Details about the community support available, such as'),\n",
       " Document(metadata={'producer': 'PyFPDF 1.7.2 http://pyfpdf.googlecode.com/', 'creator': 'PyPDF', 'creationdate': 'D:20240812131928', 'source': 'k21.pdf', 'total_pages': 3, 'page': 1, 'page_label': '2'}, page_content='forums, online communities, and official support channels.\\nIntegration with AWS:'),\n",
       " Document(metadata={'producer': 'PyFPDF 1.7.2 http://pyfpdf.googlecode.com/', 'creator': 'PyPDF', 'creationdate': 'D:20240812131928', 'source': 'k21.pdf', 'total_pages': 3, 'page': 1, 'page_label': '2'}, page_content='- Key Services and Tools: How Amazon Q integrates with other AWS services, providing developers'),\n",
       " Document(metadata={'producer': 'PyFPDF 1.7.2 http://pyfpdf.googlecode.com/', 'creator': 'PyPDF', 'creationdate': 'D:20240812131928', 'source': 'k21.pdf', 'total_pages': 3, 'page': 1, 'page_label': '2'}, page_content='with a comprehensive ecosystem for building and deploying applications.'),\n",
       " Document(metadata={'producer': 'PyFPDF 1.7.2 http://pyfpdf.googlecode.com/', 'creator': 'PyPDF', 'creationdate': 'D:20240812131928', 'source': 'k21.pdf', 'total_pages': 3, 'page': 1, 'page_label': '2'}, page_content='- Sample Projects: Examples of projects that have been built using Amazon Q, illustrating its'),\n",
       " Document(metadata={'producer': 'PyFPDF 1.7.2 http://pyfpdf.googlecode.com/', 'creator': 'PyPDF', 'creationdate': 'D:20240812131928', 'source': 'k21.pdf', 'total_pages': 3, 'page': 1, 'page_label': '2'}, page_content='potential and versatility.\\nDevelopment Best Practices:'),\n",
       " Document(metadata={'producer': 'PyFPDF 1.7.2 http://pyfpdf.googlecode.com/', 'creator': 'PyPDF', 'creationdate': 'D:20240812131928', 'source': 'k21.pdf', 'total_pages': 3, 'page': 1, 'page_label': '2'}, page_content='- Security and Compliance: Guidelines on how to ensure that applications built on Amazon Q are'),\n",
       " Document(metadata={'producer': 'PyFPDF 1.7.2 http://pyfpdf.googlecode.com/', 'creator': 'PyPDF', 'creationdate': 'D:20240812131928', 'source': 'k21.pdf', 'total_pages': 3, 'page': 1, 'page_label': '2'}, page_content='secure and comply with relevant regulations.'),\n",
       " Document(metadata={'producer': 'PyFPDF 1.7.2 http://pyfpdf.googlecode.com/', 'creator': 'PyPDF', 'creationdate': 'D:20240812131928', 'source': 'k21.pdf', 'total_pages': 3, 'page': 1, 'page_label': '2'}, page_content='- Performance Optimization: Tips and techniques for optimizing the performance of applications'),\n",
       " Document(metadata={'producer': 'PyFPDF 1.7.2 http://pyfpdf.googlecode.com/', 'creator': 'PyPDF', 'creationdate': 'D:20240812131928', 'source': 'k21.pdf', 'total_pages': 3, 'page': 1, 'page_label': '2'}, page_content='using Amazon Q, ensuring efficiency and scalability.\\nFuture Outlook'),\n",
       " Document(metadata={'producer': 'PyFPDF 1.7.2 http://pyfpdf.googlecode.com/', 'creator': 'PyPDF', 'creationdate': 'D:20240812131928', 'source': 'k21.pdf', 'total_pages': 3, 'page': 2, 'page_label': '3'}, page_content='Innovations in the Pipeline: A look at the upcoming features, tools, or updates planned for Amazon'),\n",
       " Document(metadata={'producer': 'PyFPDF 1.7.2 http://pyfpdf.googlecode.com/', 'creator': 'PyPDF', 'creationdate': 'D:20240812131928', 'source': 'k21.pdf', 'total_pages': 3, 'page': 2, 'page_label': '3'}, page_content='Q, giving insight into its future development.'),\n",
       " Document(metadata={'producer': 'PyFPDF 1.7.2 http://pyfpdf.googlecode.com/', 'creator': 'PyPDF', 'creationdate': 'D:20240812131928', 'source': 'k21.pdf', 'total_pages': 3, 'page': 2, 'page_label': '3'}, page_content='Industry Trends: Exploration of broader trends in the industry that might impact or be influenced'),\n",
       " Document(metadata={'producer': 'PyFPDF 1.7.2 http://pyfpdf.googlecode.com/', 'creator': 'PyPDF', 'creationdate': 'D:20240812131928', 'source': 'k21.pdf', 'total_pages': 3, 'page': 2, 'page_label': '3'}, page_content='be influenced by'),\n",
       " Document(metadata={'producer': 'PyFPDF 1.7.2 http://pyfpdf.googlecode.com/', 'creator': 'PyPDF', 'creationdate': 'D:20240812131928', 'source': 'k21.pdf', 'total_pages': 3, 'page': 2, 'page_label': '3'}, page_content='Amazon Q, such as technological advancements or changes in consumer behavior.'),\n",
       " Document(metadata={'producer': 'PyFPDF 1.7.2 http://pyfpdf.googlecode.com/', 'creator': 'PyPDF', 'creationdate': 'D:20240812131928', 'source': 'k21.pdf', 'total_pages': 3, 'page': 2, 'page_label': '3'}, page_content='Challenges and Opportunities: An analysis of potential challenges Amazon Q might face, as well as'),\n",
       " Document(metadata={'producer': 'PyFPDF 1.7.2 http://pyfpdf.googlecode.com/', 'creator': 'PyPDF', 'creationdate': 'D:20240812131928', 'source': 'k21.pdf', 'total_pages': 3, 'page': 2, 'page_label': '3'}, page_content='opportunities for growth or improvement.\\nConclusion'),\n",
       " Document(metadata={'producer': 'PyFPDF 1.7.2 http://pyfpdf.googlecode.com/', 'creator': 'PyPDF', 'creationdate': 'D:20240812131928', 'source': 'k21.pdf', 'total_pages': 3, 'page': 2, 'page_label': '3'}, page_content='Summary of Key Points: A brief recap of the most important information covered in the document,'),\n",
       " Document(metadata={'producer': 'PyFPDF 1.7.2 http://pyfpdf.googlecode.com/', 'creator': 'PyPDF', 'creationdate': 'D:20240812131928', 'source': 'k21.pdf', 'total_pages': 3, 'page': 2, 'page_label': '3'}, page_content='reinforcing the main takeaways.'),\n",
       " Document(metadata={'producer': 'PyFPDF 1.7.2 http://pyfpdf.googlecode.com/', 'creator': 'PyPDF', 'creationdate': 'D:20240812131928', 'source': 'k21.pdf', 'total_pages': 3, 'page': 2, 'page_label': '3'}, page_content='Final Thoughts: Concluding remarks that provide closure to the document, possibly offering'),\n",
       " Document(metadata={'producer': 'PyFPDF 1.7.2 http://pyfpdf.googlecode.com/', 'creator': 'PyPDF', 'creationdate': 'D:20240812131928', 'source': 'k21.pdf', 'total_pages': 3, 'page': 2, 'page_label': '3'}, page_content='predictions or recommendations for readers.\\nAppendices'),\n",
       " Document(metadata={'producer': 'PyFPDF 1.7.2 http://pyfpdf.googlecode.com/', 'creator': 'PyPDF', 'creationdate': 'D:20240812131928', 'source': 'k21.pdf', 'total_pages': 3, 'page': 2, 'page_label': '3'}, page_content='Glossary of Terms: A list of key terms and definitions used throughout the document, helping'),\n",
       " Document(metadata={'producer': 'PyFPDF 1.7.2 http://pyfpdf.googlecode.com/', 'creator': 'PyPDF', 'creationdate': 'D:20240812131928', 'source': 'k21.pdf', 'total_pages': 3, 'page': 2, 'page_label': '3'}, page_content='readers understand technical or industry-specific language.'),\n",
       " Document(metadata={'producer': 'PyFPDF 1.7.2 http://pyfpdf.googlecode.com/', 'creator': 'PyPDF', 'creationdate': 'D:20240812131928', 'source': 'k21.pdf', 'total_pages': 3, 'page': 2, 'page_label': '3'}, page_content='Additional Resources and References: Links or references to additional materials, such as articles,'),\n",
       " Document(metadata={'producer': 'PyFPDF 1.7.2 http://pyfpdf.googlecode.com/', 'creator': 'PyPDF', 'creationdate': 'D:20240812131928', 'source': 'k21.pdf', 'total_pages': 3, 'page': 2, 'page_label': '3'}, page_content='whitepapers, or websites, where readers can learn more about Amazon Q.')]"
      ]
     },
     "execution_count": 8,
     "metadata": {},
     "output_type": "execute_result"
    }
   ],
   "source": [
    "all_splits"
   ]
  },
  {
   "cell_type": "code",
   "execution_count": 11,
   "metadata": {},
   "outputs": [],
   "source": [
    "from langchain.vectorstores import Chroma\n",
    "from langchain_aws.embeddings.bedrock import BedrockEmbeddings\n",
    "\n",
    "vectorstore = Chroma.from_documents(documents=all_splits, embedding=BedrockEmbeddings(client=bedrock_client,model_id=\"amazon.titan-embed-text-v2:0\"))"
   ]
  },
  {
   "cell_type": "code",
   "execution_count": 12,
   "metadata": {},
   "outputs": [],
   "source": [
    "retriever = vectorstore.as_retriever()"
   ]
  },
  {
   "cell_type": "code",
   "execution_count": 13,
   "metadata": {},
   "outputs": [
    {
     "data": {
      "text/plain": [
       "3"
      ]
     },
     "execution_count": 13,
     "metadata": {},
     "output_type": "execute_result"
    }
   ],
   "source": [
    "retriever = vectorstore.as_retriever(search_type=\"similarity\", search_kwargs={\"k\": 3})\n",
    "\n",
    "retrieved_docs = retriever.invoke(\"what is the expiry date?\")\n",
    "\n",
    "len(retrieved_docs)"
   ]
  },
  {
   "cell_type": "code",
   "execution_count": 14,
   "metadata": {},
   "outputs": [
    {
     "name": "stdout",
     "output_type": "stream",
     "text": [
      "history.\n",
      "---------\n",
      "history.\n",
      "---------\n",
      "Innovations in the Pipeline: A look at the upcoming features, tools, or updates planned for Amazon\n"
     ]
    }
   ],
   "source": [
    "print(retrieved_docs[0].page_content)\n",
    "print('---------')\n",
    "print(retrieved_docs[1].page_content)\n",
    "print('---------')\n",
    "print(retrieved_docs[2].page_content)\n"
   ]
  },
  {
   "cell_type": "code",
   "execution_count": 15,
   "metadata": {},
   "outputs": [
    {
     "name": "stderr",
     "output_type": "stream",
     "text": [
      "Error in LangChainTracer.on_llm_end callback: TracerException('No indexed run ID bf90075e-8ff4-4e56-878d-20603b260822.')\n"
     ]
    },
    {
     "data": {
      "text/plain": [
       "{'input': 'what is the expiry date?',\n",
       " 'context': [Document(metadata={'creationdate': 'D:20240812131928', 'creator': 'PyPDF', 'page': 0, 'page_label': '1', 'producer': 'PyFPDF 1.7.2 http://pyfpdf.googlecode.com/', 'source': 'k21.pdf', 'total_pages': 3}, page_content='history.'),\n",
       "  Document(metadata={'creationdate': 'D:20240812131928', 'creator': 'PyPDF', 'page': 0, 'page_label': '1', 'producer': 'PyFPDF 1.7.2 http://pyfpdf.googlecode.com/', 'source': 'k21.pdf', 'total_pages': 3}, page_content='history.'),\n",
       "  Document(metadata={'creationdate': 'D:20240812131928', 'creator': 'PyPDF', 'page': 2, 'page_label': '3', 'producer': 'PyFPDF 1.7.2 http://pyfpdf.googlecode.com/', 'source': 'k21.pdf', 'total_pages': 3}, page_content='Innovations in the Pipeline: A look at the upcoming features, tools, or updates planned for Amazon')],\n",
       " 'answer': '\\nThe model cannot identify what the prompt is asking, and no search results are available for the question.'}"
      ]
     },
     "execution_count": 15,
     "metadata": {},
     "output_type": "execute_result"
    }
   ],
   "source": [
    "from langchain.chains import create_retrieval_chain\n",
    "from langchain.chains.combine_documents import create_stuff_documents_chain\n",
    "from langchain_core.prompts import ChatPromptTemplate\n",
    "\n",
    "system_prompt = (\n",
    "    \"You are an assistant for question-answering tasks. \"\n",
    "    \"Use the following pieces of retrieved context to answer \"\n",
    "    \"the question. If you don't know the answer, say that you \"\n",
    "    \"don't know. Use three sentences maximum and keep the \"\n",
    "    \"answer concise. Don't answer anything based on your \"\n",
    "    \"prior knowledge only answer with information from document.\"\n",
    "    \"Don't avoid even personal information from the document.\"\n",
    "    \"\\n\\n\"\n",
    "    \"{context}\"\n",
    ")\n",
    "\n",
    "prompt = ChatPromptTemplate.from_messages(\n",
    "    [\n",
    "        (\"system\", system_prompt),\n",
    "        (\"human\", \"{input}\"),\n",
    "    ]\n",
    ")\n",
    "\n",
    "\n",
    "question_answer_chain = create_stuff_documents_chain(llm, prompt)\n",
    "rag_chain = create_retrieval_chain(retriever, question_answer_chain)\n",
    "\n",
    "results = rag_chain.invoke({\"input\": \"what is the expiry date?\"})\n",
    "\n",
    "results"
   ]
  },
  {
   "cell_type": "code",
   "execution_count": null,
   "metadata": {},
   "outputs": [],
   "source": []
  }
 ],
 "metadata": {
  "kernelspec": {
   "display_name": "conda_python3",
   "language": "python",
   "name": "conda_python3"
  },
  "language_info": {
   "codemirror_mode": {
    "name": "ipython",
    "version": 3
   },
   "file_extension": ".py",
   "mimetype": "text/x-python",
   "name": "python",
   "nbconvert_exporter": "python",
   "pygments_lexer": "ipython3",
   "version": "3.10.16"
  }
 },
 "nbformat": 4,
 "nbformat_minor": 4
}
