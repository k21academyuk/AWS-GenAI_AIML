{
 "cells": [
  {
   "attachments": {},
   "cell_type": "markdown",
   "metadata": {
    "pycharm": {
     "name": "#%% md\n"
    }
   },
   "source": [
    "# Build a Customer Churn Model for Music Streaming App Users: Overview and Data Preparation\n"
   ]
  },
  {
   "attachments": {},
   "cell_type": "markdown",
   "metadata": {},
   "source": [
    "---\n",
    "\n",
    "This notebook's CI test result for us-west-2 is as follows. CI test results in other regions can be found at the end of the notebook. \n",
    "\n",
    "![This us-west-2 badge failed to load. Check your device's internet connectivity, otherwise the service is currently unavailable](https://prod.us-west-2.tcx-beacon.docs.aws.dev/sagemaker-nb/us-west-2/use-cases|customer_churn|1_cust_churn_dataprep.ipynb)\n",
    "\n",
    "---"
   ]
  },
  {
   "attachments": {},
   "cell_type": "markdown",
   "metadata": {
    "pycharm": {
     "name": "#%% md\n"
    }
   },
   "source": [
    "\n",
    "## Background\n",
    "\n",
    "This notebook is one of a sequence of notebooks that show you how to use various SageMaker functionalities to build, train, and deploy the model from end to end, including data pre-processing steps like ingestion, cleaning and processing, feature engineering, training and hyperparameter tuning, model explainability, and eventually deploy the model. There are two parts of the demo: \n",
    "\n",
    "1. Build a Customer Churn Model for Music Streaming App Users: Overview and Data Preparation (current notebook) - you will process the data with the help of Data Wrangler, then create features from the cleaned data. By the end of part 1, you will have a complete feature data set that contains all attributes built for each user, and it is ready for modeling.\n",
    "1. Build a Customer Churn Model for Music Streaming App Users: Model Selection and Model Explainability - you will use the data set built from part 1 to find an optimal model for the use case, then test the model predictability with the test data. \n",
    "\n",
    "For how to set up the SageMaker Studio Notebook environment, please check the [onboarding video]( https://www.youtube.com/watch?v=wiDHCWVrjCU&feature=youtu.be). And for a list of services covered in the use case demo, please check the documentation linked in each section.\n",
    "\n",
    "\n",
    "## Content\n",
    "* [Overview](#Overview)\n",
    "* [Data Selection](#Data-Selection)\n",
    "* [Ingest Data](#Ingest-Data)\n",
    "* [Data Cleaning and Data Exploration](#Data-Cleaning)\n",
    "* [Pre-processing with SageMaker Data Wrangler](#Pre-processing-with-SageMaker-Data-Wrangler)\n",
    "* [Feature Engineering with SageMaker Processing](#Feature-Engineering-with-SageMaker-Processing)\n",
    "* [Data Splitting](#Data-Splitting)"
   ]
  },
  {
   "attachments": {},
   "cell_type": "markdown",
   "metadata": {
    "pycharm": {
     "name": "#%% md\n"
    }
   },
   "source": [
    "## Overview\n",
    "\n",
    "### What is Customer Churn and why is it important for businesses?\n",
    "Customer churn, or customer retention/attrition, means a customer has the tendency to leave and stop paying for a business. It is one of the primary metrics companies want to track to get a sense of their customer satisfaction, especially for a subscription-based business model. The company can track churn rate (defined as the percentage of customers churned during a period) as a health indicator for the business, but we would love to identify the at-risk customers before they churn and offer appropriate treatment to keep them with the business, and this is where machine learning comes into play.\n",
    "\n",
    "### Use Cases for Customer Churn\n",
    "\n",
    "Any subscription-based business would track customer churn as one of the most critical Key Performance Indicators (KPIs). Such companies and industries include Telecom companies (cable, cell phone, internet, etc.), digital subscriptions of media (news, forums, blogposts platforms, etc.), music and video streaming services, and other Software as a Service (SaaS) providers (e-commerce, CRM, Mar-Tech, cloud computing, video conference provider, and visualization and data science tools, etc.)\n",
    "\n",
    "### Define Business problem\n",
    "\n",
    "To start with, here are some common business problems to consider depending on your specific use cases and your focus:\n",
    "\n",
    " * Will this customer churn (cancel the plan, cancel the subscription)?\n",
    " * Will this customer downgrade a pricing plan?\n",
    " * For a subscription business model, will a customer renew his/her subscription?\n",
    "\n",
    "### Machine learning problem formulation\n",
    "\n",
    "#### Classification: will this customer churn?\n",
    "\n",
    "To goal of classification is to identify the at-risk customers and sometimes their unusual behavior, such as: will this customer churn or downgrade their plan? Is there any unusual behavior for a customer? The latter question can be formulated as an anomaly detection problem.\n",
    "\n",
    "#### Time Series: will this customer churn in the next X months? When will this customer churn?\n",
    "\n",
    "You can further explore your users by formulating the problem as a time series one and detect when will the customer churn.\n",
    "\n",
    "### Data Requirements\n",
    "\n",
    "#### Data collection Sources\n",
    "\n",
    "Some most common data sources used to construct a data set for churn analysis are:\n",
    "\n",
    "* Customer Relationship Management platform (CRM), \n",
    "* engagement and usage data (analytics services), \n",
    "* passive feedback (ratings based on your request), and active feedback (customer support request, feedback on social media and review platforms).\n",
    "\n",
    "#### Construct a Data Set for Churn Analysis\n",
    "\n",
    "Most raw data collected from the sources mentioned above are huge and often needs a lot of cleaning and pre-processing. For example, usage data is usually event-based log data and can be more than a few gigabytes every day; you can aggregate the data to user-level daily for further analysis. Feedback and review data are mostly text data, so you would need to clean and pre-process the natural language data to be normalized, machine-readable data. If you are joining multiple data sources (especially from different platforms) together, you would want to make sure all data points are consistent, and the user identity can be matched across different platforms.\n",
    "           \n",
    "#### Challenges with Customer Churn\n",
    "\n",
    "* Business related\n",
    "    * Importance of domain knowledge: this is critical when you start building features for the machine learning model. It is important to understand the business enough to decide which features would trigger retention.\n",
    "* Data issues\n",
    "    * fewer churn data available (imbalanced classes): data for churn analysis is often very imbalanced as most of the customers of a business are happy customers (usually).\n",
    "    * User identity mapping problem: if you are joining data from different platforms (CRM, email, feedback, mobile app, and website usage data), you would want to make sure user A is recognized as the same user across multiple platforms. There are third-party solutions that help you tackle this problem.\n",
    "    * Not collecting the right data for the use case or Lacking enough data"
   ]
  },
  {
   "attachments": {},
   "cell_type": "markdown",
   "metadata": {
    "pycharm": {
     "name": "#%% md\n"
    }
   },
   "source": [
    "## Data Selection\n",
    "\n",
    "You will use generated music streaming data that is simulated to imitate music streaming user behaviors. The data simulated contains 1100 users and their user behavior for one year (2019/10/28 - 2020/10/28). Data is simulated using the [EventSim](https://github.com/Interana/eventsim) and does not contain any real user data.\n",
    "\n",
    "* Observation window: you will use 1 year of data to generate predictions.\n",
    "* Explanation of fields:\n",
    "    * `ts`: event UNIX timestamp\n",
    "    * `userId`: a randomly assigned unique user id\n",
    "    * `sessionId`: a randomly assigned session id unique to each user\n",
    "    * `page`: event taken by the user, e.g. \"next song\", \"upgrade\", \"cancel\"\n",
    "    * `auth`: whether the user is a logged-in user\n",
    "    * `method`: request method, GET or PUT\n",
    "    * `status`: request status\n",
    "    * `level`: if the user is a free or paid user\n",
    "    * `itemInSession`: event happened in the session\n",
    "    * `location`: location of the user's IP address\n",
    "    * `userAgent`: agent of the user's device\n",
    "    * `lastName`: user's last name\n",
    "    * `firstName`: user's first name\n",
    "    * `registration`: user's time of registration\n",
    "    * `gender`: gender of the user\n",
    "    * `artist`: artist of the song the user is playing at the event\n",
    "    * `song`: song title the user is playing at the event\n",
    "    * `length`: length of the session\n",
    " \n",
    " \n",
    " * the data will be downloaded from Github and contained in an [Amazon Simple Storage Service](https://aws.amazon.com/s3/) (Amazon S3) bucket."
   ]
  },
  {
   "attachments": {},
   "cell_type": "markdown",
   "metadata": {
    "pycharm": {
     "name": "#%% md\n"
    }
   },
   "source": [
    "For this specific use case, you will focus on a solution to predict whether a customer will cancel the subscription. Some possible expansion of the work includes:\n",
    "\n",
    "* predict plan downgrading\n",
    "* when a user will churn\n",
    "* add song attributes (genre, playlist, charts) and user attributes (demographics) to the data\n",
    "* add user feedback and customer service requests to the data\n"
   ]
  },
  {
   "attachments": {},
   "cell_type": "markdown",
   "metadata": {
    "pycharm": {
     "name": "#%% md\n"
    }
   },
   "source": [
    "## PART 1: Prepare Data"
   ]
  },
  {
   "attachments": {},
   "cell_type": "markdown",
   "metadata": {
    "pycharm": {
     "name": "#%% md\n"
    }
   },
   "source": [
    "### Set Up Notebook"
   ]
  },
  {
   "cell_type": "code",
   "execution_count": 1,
   "metadata": {
    "pycharm": {
     "name": "#%%\n"
    }
   },
   "outputs": [
    {
     "name": "stdout",
     "output_type": "stream",
     "text": [
      "Requirement already satisfied: sagemaker in /opt/conda/lib/python3.11/site-packages (2.227.0)\n",
      "Collecting sagemaker\n",
      "  Using cached sagemaker-2.232.2-py3-none-any.whl.metadata (16 kB)\n",
      "Requirement already satisfied: boto3 in /opt/conda/lib/python3.11/site-packages (1.34.131)\n",
      "Collecting boto3\n",
      "  Downloading boto3-1.35.41-py3-none-any.whl.metadata (6.7 kB)\n",
      "Requirement already satisfied: attrs<24,>=23.1.0 in /opt/conda/lib/python3.11/site-packages (from sagemaker) (23.2.0)\n",
      "Requirement already satisfied: cloudpickle==2.2.1 in /opt/conda/lib/python3.11/site-packages (from sagemaker) (2.2.1)\n",
      "Requirement already satisfied: docker in /opt/conda/lib/python3.11/site-packages (from sagemaker) (7.1.0)\n",
      "Requirement already satisfied: google-pasta in /opt/conda/lib/python3.11/site-packages (from sagemaker) (0.2.0)\n",
      "Requirement already satisfied: importlib-metadata<7.0,>=1.4.0 in /opt/conda/lib/python3.11/site-packages (from sagemaker) (6.10.0)\n",
      "Requirement already satisfied: jsonschema in /opt/conda/lib/python3.11/site-packages (from sagemaker) (4.21.1)\n",
      "Requirement already satisfied: numpy<2.0,>=1.9.0 in /opt/conda/lib/python3.11/site-packages (from sagemaker) (1.26.4)\n",
      "Requirement already satisfied: packaging>=20.0 in /opt/conda/lib/python3.11/site-packages (from sagemaker) (24.1)\n",
      "Requirement already satisfied: pandas in /opt/conda/lib/python3.11/site-packages (from sagemaker) (2.2.2)\n",
      "Requirement already satisfied: pathos in /opt/conda/lib/python3.11/site-packages (from sagemaker) (0.3.2)\n",
      "Requirement already satisfied: platformdirs in /opt/conda/lib/python3.11/site-packages (from sagemaker) (3.11.0)\n",
      "Requirement already satisfied: protobuf<5.0,>=3.12 in /opt/conda/lib/python3.11/site-packages (from sagemaker) (4.25.3)\n",
      "Requirement already satisfied: psutil in /opt/conda/lib/python3.11/site-packages (from sagemaker) (5.9.8)\n",
      "Requirement already satisfied: pyyaml~=6.0 in /opt/conda/lib/python3.11/site-packages (from sagemaker) (6.0.2)\n",
      "Requirement already satisfied: requests in /opt/conda/lib/python3.11/site-packages (from sagemaker) (2.32.3)\n",
      "Collecting sagemaker-core<2.0.0,>=1.0.0 (from sagemaker)\n",
      "  Using cached sagemaker_core-1.0.10-py3-none-any.whl.metadata (4.9 kB)\n",
      "Requirement already satisfied: sagemaker-mlflow in /opt/conda/lib/python3.11/site-packages (from sagemaker) (0.1.0)\n",
      "Requirement already satisfied: schema in /opt/conda/lib/python3.11/site-packages (from sagemaker) (0.7.7)\n",
      "Requirement already satisfied: smdebug-rulesconfig==1.0.1 in /opt/conda/lib/python3.11/site-packages (from sagemaker) (1.0.1)\n",
      "Requirement already satisfied: tblib<4,>=1.7.0 in /opt/conda/lib/python3.11/site-packages (from sagemaker) (2.0.0)\n",
      "Requirement already satisfied: tqdm in /opt/conda/lib/python3.11/site-packages (from sagemaker) (4.66.5)\n",
      "Requirement already satisfied: urllib3<3.0.0,>=1.26.8 in /opt/conda/lib/python3.11/site-packages (from sagemaker) (1.26.19)\n",
      "Collecting botocore<1.36.0,>=1.35.41 (from boto3)\n",
      "  Downloading botocore-1.35.41-py3-none-any.whl.metadata (5.7 kB)\n",
      "Requirement already satisfied: jmespath<2.0.0,>=0.7.1 in /opt/conda/lib/python3.11/site-packages (from boto3) (1.0.1)\n",
      "Requirement already satisfied: s3transfer<0.11.0,>=0.10.0 in /opt/conda/lib/python3.11/site-packages (from boto3) (0.10.2)\n",
      "Requirement already satisfied: python-dateutil<3.0.0,>=2.1 in /opt/conda/lib/python3.11/site-packages (from botocore<1.36.0,>=1.35.41->boto3) (2.9.0)\n",
      "Requirement already satisfied: zipp>=0.5 in /opt/conda/lib/python3.11/site-packages (from importlib-metadata<7.0,>=1.4.0->sagemaker) (3.20.0)\n",
      "Requirement already satisfied: pydantic<3.0.0,>=1.7.0 in /opt/conda/lib/python3.11/site-packages (from sagemaker-core<2.0.0,>=1.0.0->sagemaker) (1.10.17)\n",
      "Collecting platformdirs (from sagemaker)\n",
      "  Using cached platformdirs-4.3.6-py3-none-any.whl.metadata (11 kB)\n",
      "Requirement already satisfied: rich<14.0.0,>=13.0.0 in /opt/conda/lib/python3.11/site-packages (from sagemaker-core<2.0.0,>=1.0.0->sagemaker) (13.7.1)\n",
      "Collecting mock<5.0,>4.0 (from sagemaker-core<2.0.0,>=1.0.0->sagemaker)\n",
      "  Using cached mock-4.0.3-py3-none-any.whl.metadata (2.8 kB)\n",
      "Requirement already satisfied: jsonschema-specifications>=2023.03.6 in /opt/conda/lib/python3.11/site-packages (from jsonschema->sagemaker) (2023.12.1)\n",
      "Requirement already satisfied: referencing>=0.28.4 in /opt/conda/lib/python3.11/site-packages (from jsonschema->sagemaker) (0.35.1)\n",
      "Requirement already satisfied: rpds-py>=0.7.1 in /opt/conda/lib/python3.11/site-packages (from jsonschema->sagemaker) (0.20.0)\n",
      "Requirement already satisfied: charset-normalizer<4,>=2 in /opt/conda/lib/python3.11/site-packages (from requests->sagemaker) (3.3.2)\n",
      "Requirement already satisfied: idna<4,>=2.5 in /opt/conda/lib/python3.11/site-packages (from requests->sagemaker) (3.7)\n",
      "Requirement already satisfied: certifi>=2017.4.17 in /opt/conda/lib/python3.11/site-packages (from requests->sagemaker) (2024.7.4)\n",
      "Requirement already satisfied: six in /opt/conda/lib/python3.11/site-packages (from google-pasta->sagemaker) (1.16.0)\n",
      "Requirement already satisfied: pytz>=2020.1 in /opt/conda/lib/python3.11/site-packages (from pandas->sagemaker) (2023.3)\n",
      "Requirement already satisfied: tzdata>=2022.7 in /opt/conda/lib/python3.11/site-packages (from pandas->sagemaker) (2024.1)\n",
      "Requirement already satisfied: ppft>=1.7.6.8 in /opt/conda/lib/python3.11/site-packages (from pathos->sagemaker) (1.7.6.8)\n",
      "Requirement already satisfied: dill>=0.3.8 in /opt/conda/lib/python3.11/site-packages (from pathos->sagemaker) (0.3.8)\n",
      "Requirement already satisfied: pox>=0.3.4 in /opt/conda/lib/python3.11/site-packages (from pathos->sagemaker) (0.3.4)\n",
      "Requirement already satisfied: multiprocess>=0.70.16 in /opt/conda/lib/python3.11/site-packages (from pathos->sagemaker) (0.70.16)\n",
      "Requirement already satisfied: mlflow>=2.8 in /opt/conda/lib/python3.11/site-packages (from sagemaker-mlflow->sagemaker) (2.15.1)\n",
      "Requirement already satisfied: Flask<4 in /opt/conda/lib/python3.11/site-packages (from mlflow>=2.8->sagemaker-mlflow->sagemaker) (3.0.3)\n",
      "Requirement already satisfied: alembic!=1.10.0,<2 in /opt/conda/lib/python3.11/site-packages (from mlflow>=2.8->sagemaker-mlflow->sagemaker) (1.13.2)\n",
      "Requirement already satisfied: cachetools<6,>=5.0.0 in /opt/conda/lib/python3.11/site-packages (from mlflow>=2.8->sagemaker-mlflow->sagemaker) (5.5.0)\n",
      "Requirement already satisfied: click<9,>=7.0 in /opt/conda/lib/python3.11/site-packages (from mlflow>=2.8->sagemaker-mlflow->sagemaker) (8.1.7)\n",
      "Requirement already satisfied: databricks-sdk<1,>=0.20.0 in /opt/conda/lib/python3.11/site-packages (from mlflow>=2.8->sagemaker-mlflow->sagemaker) (0.30.0)\n",
      "Requirement already satisfied: entrypoints<1 in /opt/conda/lib/python3.11/site-packages (from mlflow>=2.8->sagemaker-mlflow->sagemaker) (0.4)\n",
      "Requirement already satisfied: gitpython<4,>=3.1.9 in /opt/conda/lib/python3.11/site-packages (from mlflow>=2.8->sagemaker-mlflow->sagemaker) (3.1.43)\n",
      "Requirement already satisfied: graphene<4 in /opt/conda/lib/python3.11/site-packages (from mlflow>=2.8->sagemaker-mlflow->sagemaker) (3.3)\n",
      "Requirement already satisfied: markdown<4,>=3.3 in /opt/conda/lib/python3.11/site-packages (from mlflow>=2.8->sagemaker-mlflow->sagemaker) (3.6)\n",
      "Requirement already satisfied: matplotlib<4 in /opt/conda/lib/python3.11/site-packages (from mlflow>=2.8->sagemaker-mlflow->sagemaker) (3.9.2)\n",
      "Requirement already satisfied: opentelemetry-api<3,>=1.9.0 in /opt/conda/lib/python3.11/site-packages (from mlflow>=2.8->sagemaker-mlflow->sagemaker) (1.26.0)\n",
      "Requirement already satisfied: opentelemetry-sdk<3,>=1.9.0 in /opt/conda/lib/python3.11/site-packages (from mlflow>=2.8->sagemaker-mlflow->sagemaker) (1.26.0)\n",
      "Requirement already satisfied: pyarrow<16,>=4.0.0 in /opt/conda/lib/python3.11/site-packages (from mlflow>=2.8->sagemaker-mlflow->sagemaker) (15.0.2)\n",
      "Requirement already satisfied: querystring-parser<2 in /opt/conda/lib/python3.11/site-packages (from mlflow>=2.8->sagemaker-mlflow->sagemaker) (1.2.4)\n",
      "Requirement already satisfied: scikit-learn<2 in /opt/conda/lib/python3.11/site-packages (from mlflow>=2.8->sagemaker-mlflow->sagemaker) (1.4.2)\n",
      "Requirement already satisfied: scipy<2 in /opt/conda/lib/python3.11/site-packages (from mlflow>=2.8->sagemaker-mlflow->sagemaker) (1.12.0)\n",
      "Requirement already satisfied: sqlalchemy<3,>=1.4.0 in /opt/conda/lib/python3.11/site-packages (from mlflow>=2.8->sagemaker-mlflow->sagemaker) (2.0.30)\n",
      "Requirement already satisfied: sqlparse<1,>=0.4.0 in /opt/conda/lib/python3.11/site-packages (from mlflow>=2.8->sagemaker-mlflow->sagemaker) (0.5.1)\n",
      "Requirement already satisfied: Jinja2<4,>=2.11 in /opt/conda/lib/python3.11/site-packages (from mlflow>=2.8->sagemaker-mlflow->sagemaker) (3.1.4)\n",
      "Requirement already satisfied: gunicorn<23 in /opt/conda/lib/python3.11/site-packages (from mlflow>=2.8->sagemaker-mlflow->sagemaker) (22.0.0)\n",
      "Requirement already satisfied: typing-extensions>=4.2.0 in /opt/conda/lib/python3.11/site-packages (from pydantic<3.0.0,>=1.7.0->sagemaker-core<2.0.0,>=1.0.0->sagemaker) (4.12.2)\n",
      "Requirement already satisfied: markdown-it-py>=2.2.0 in /opt/conda/lib/python3.11/site-packages (from rich<14.0.0,>=13.0.0->sagemaker-core<2.0.0,>=1.0.0->sagemaker) (3.0.0)\n",
      "Requirement already satisfied: pygments<3.0.0,>=2.13.0 in /opt/conda/lib/python3.11/site-packages (from rich<14.0.0,>=13.0.0->sagemaker-core<2.0.0,>=1.0.0->sagemaker) (2.18.0)\n",
      "Requirement already satisfied: Mako in /opt/conda/lib/python3.11/site-packages (from alembic!=1.10.0,<2->mlflow>=2.8->sagemaker-mlflow->sagemaker) (1.3.5)\n",
      "Requirement already satisfied: google-auth~=2.0 in /opt/conda/lib/python3.11/site-packages (from databricks-sdk<1,>=0.20.0->mlflow>=2.8->sagemaker-mlflow->sagemaker) (2.33.0)\n",
      "Requirement already satisfied: Werkzeug>=3.0.0 in /opt/conda/lib/python3.11/site-packages (from Flask<4->mlflow>=2.8->sagemaker-mlflow->sagemaker) (3.0.3)\n",
      "Requirement already satisfied: itsdangerous>=2.1.2 in /opt/conda/lib/python3.11/site-packages (from Flask<4->mlflow>=2.8->sagemaker-mlflow->sagemaker) (2.2.0)\n",
      "Requirement already satisfied: blinker>=1.6.2 in /opt/conda/lib/python3.11/site-packages (from Flask<4->mlflow>=2.8->sagemaker-mlflow->sagemaker) (1.8.2)\n",
      "Requirement already satisfied: gitdb<5,>=4.0.1 in /opt/conda/lib/python3.11/site-packages (from gitpython<4,>=3.1.9->mlflow>=2.8->sagemaker-mlflow->sagemaker) (4.0.11)\n",
      "Requirement already satisfied: graphql-core<3.3,>=3.1 in /opt/conda/lib/python3.11/site-packages (from graphene<4->mlflow>=2.8->sagemaker-mlflow->sagemaker) (3.2.3)\n",
      "Requirement already satisfied: graphql-relay<3.3,>=3.1 in /opt/conda/lib/python3.11/site-packages (from graphene<4->mlflow>=2.8->sagemaker-mlflow->sagemaker) (3.2.0)\n",
      "Requirement already satisfied: aniso8601<10,>=8 in /opt/conda/lib/python3.11/site-packages (from graphene<4->mlflow>=2.8->sagemaker-mlflow->sagemaker) (9.0.1)\n",
      "Requirement already satisfied: MarkupSafe>=2.0 in /opt/conda/lib/python3.11/site-packages (from Jinja2<4,>=2.11->mlflow>=2.8->sagemaker-mlflow->sagemaker) (2.1.5)\n",
      "Requirement already satisfied: mdurl~=0.1 in /opt/conda/lib/python3.11/site-packages (from markdown-it-py>=2.2.0->rich<14.0.0,>=13.0.0->sagemaker-core<2.0.0,>=1.0.0->sagemaker) (0.1.2)\n",
      "Requirement already satisfied: contourpy>=1.0.1 in /opt/conda/lib/python3.11/site-packages (from matplotlib<4->mlflow>=2.8->sagemaker-mlflow->sagemaker) (1.2.1)\n",
      "Requirement already satisfied: cycler>=0.10 in /opt/conda/lib/python3.11/site-packages (from matplotlib<4->mlflow>=2.8->sagemaker-mlflow->sagemaker) (0.12.1)\n",
      "Requirement already satisfied: fonttools>=4.22.0 in /opt/conda/lib/python3.11/site-packages (from matplotlib<4->mlflow>=2.8->sagemaker-mlflow->sagemaker) (4.53.1)\n",
      "Requirement already satisfied: kiwisolver>=1.3.1 in /opt/conda/lib/python3.11/site-packages (from matplotlib<4->mlflow>=2.8->sagemaker-mlflow->sagemaker) (1.4.5)\n",
      "Requirement already satisfied: pillow>=8 in /opt/conda/lib/python3.11/site-packages (from matplotlib<4->mlflow>=2.8->sagemaker-mlflow->sagemaker) (10.4.0)\n",
      "Requirement already satisfied: pyparsing>=2.3.1 in /opt/conda/lib/python3.11/site-packages (from matplotlib<4->mlflow>=2.8->sagemaker-mlflow->sagemaker) (3.1.2)\n",
      "Requirement already satisfied: deprecated>=1.2.6 in /opt/conda/lib/python3.11/site-packages (from opentelemetry-api<3,>=1.9.0->mlflow>=2.8->sagemaker-mlflow->sagemaker) (1.2.14)\n",
      "Requirement already satisfied: opentelemetry-semantic-conventions==0.47b0 in /opt/conda/lib/python3.11/site-packages (from opentelemetry-sdk<3,>=1.9.0->mlflow>=2.8->sagemaker-mlflow->sagemaker) (0.47b0)\n",
      "Requirement already satisfied: joblib>=1.2.0 in /opt/conda/lib/python3.11/site-packages (from scikit-learn<2->mlflow>=2.8->sagemaker-mlflow->sagemaker) (1.4.2)\n",
      "Requirement already satisfied: threadpoolctl>=2.0.0 in /opt/conda/lib/python3.11/site-packages (from scikit-learn<2->mlflow>=2.8->sagemaker-mlflow->sagemaker) (3.5.0)\n",
      "Requirement already satisfied: greenlet!=0.4.17 in /opt/conda/lib/python3.11/site-packages (from sqlalchemy<3,>=1.4.0->mlflow>=2.8->sagemaker-mlflow->sagemaker) (3.0.3)\n",
      "Requirement already satisfied: wrapt<2,>=1.10 in /opt/conda/lib/python3.11/site-packages (from deprecated>=1.2.6->opentelemetry-api<3,>=1.9.0->mlflow>=2.8->sagemaker-mlflow->sagemaker) (1.16.0)\n",
      "Requirement already satisfied: smmap<6,>=3.0.1 in /opt/conda/lib/python3.11/site-packages (from gitdb<5,>=4.0.1->gitpython<4,>=3.1.9->mlflow>=2.8->sagemaker-mlflow->sagemaker) (5.0.0)\n",
      "Requirement already satisfied: pyasn1-modules>=0.2.1 in /opt/conda/lib/python3.11/site-packages (from google-auth~=2.0->databricks-sdk<1,>=0.20.0->mlflow>=2.8->sagemaker-mlflow->sagemaker) (0.4.0)\n",
      "Requirement already satisfied: rsa<5,>=3.1.4 in /opt/conda/lib/python3.11/site-packages (from google-auth~=2.0->databricks-sdk<1,>=0.20.0->mlflow>=2.8->sagemaker-mlflow->sagemaker) (4.9)\n",
      "Requirement already satisfied: pyasn1<0.7.0,>=0.4.6 in /opt/conda/lib/python3.11/site-packages (from pyasn1-modules>=0.2.1->google-auth~=2.0->databricks-sdk<1,>=0.20.0->mlflow>=2.8->sagemaker-mlflow->sagemaker) (0.6.0)\n",
      "Using cached sagemaker-2.232.2-py3-none-any.whl (1.6 MB)\n",
      "Downloading boto3-1.35.41-py3-none-any.whl (139 kB)\n",
      "Downloading botocore-1.35.41-py3-none-any.whl (12.6 MB)\n",
      "\u001b[2K   \u001b[90m━━━━━━━━━━━━━━━━━━━━━━━━━━━━━━━━━━━━━━━━\u001b[0m \u001b[32m12.6/12.6 MB\u001b[0m \u001b[31m107.7 MB/s\u001b[0m eta \u001b[36m0:00:00\u001b[0m\n",
      "\u001b[?25hUsing cached sagemaker_core-1.0.10-py3-none-any.whl (388 kB)\n",
      "Using cached platformdirs-4.3.6-py3-none-any.whl (18 kB)\n",
      "Using cached mock-4.0.3-py3-none-any.whl (28 kB)\n",
      "Installing collected packages: platformdirs, mock, botocore, boto3, sagemaker-core, sagemaker\n",
      "  Attempting uninstall: platformdirs\n",
      "    Found existing installation: platformdirs 3.11.0\n",
      "    Uninstalling platformdirs-3.11.0:\n",
      "      Successfully uninstalled platformdirs-3.11.0\n",
      "  Attempting uninstall: mock\n",
      "    Found existing installation: mock 5.1.0\n",
      "    Uninstalling mock-5.1.0:\n",
      "      Successfully uninstalled mock-5.1.0\n",
      "  Attempting uninstall: botocore\n",
      "    Found existing installation: botocore 1.34.131\n",
      "    Uninstalling botocore-1.34.131:\n",
      "      Successfully uninstalled botocore-1.34.131\n",
      "  Attempting uninstall: boto3\n",
      "    Found existing installation: boto3 1.34.131\n",
      "    Uninstalling boto3-1.34.131:\n",
      "      Successfully uninstalled boto3-1.34.131\n",
      "  Attempting uninstall: sagemaker\n",
      "    Found existing installation: sagemaker 2.227.0\n",
      "    Uninstalling sagemaker-2.227.0:\n",
      "      Successfully uninstalled sagemaker-2.227.0\n",
      "\u001b[31mERROR: pip's dependency resolver does not currently take into account all the packages that are installed. This behaviour is the source of the following dependency conflicts.\n",
      "autogluon-multimodal 1.1.1 requires nvidia-ml-py3==7.352.0, which is not installed.\n",
      "aiobotocore 2.13.2 requires botocore<1.34.132,>=1.34.70, but you have botocore 1.35.41 which is incompatible.\n",
      "amazon-sagemaker-sql-magic 0.1.3 requires sqlparse==0.5.0, but you have sqlparse 0.5.1 which is incompatible.\n",
      "autogluon-core 1.1.1 requires scikit-learn<1.4.1,>=1.3.0, but you have scikit-learn 1.4.2 which is incompatible.\n",
      "autogluon-features 1.1.1 requires scikit-learn<1.4.1,>=1.3.0, but you have scikit-learn 1.4.2 which is incompatible.\n",
      "autogluon-multimodal 1.1.1 requires omegaconf<2.3.0,>=2.1.1, but you have omegaconf 2.3.0 which is incompatible.\n",
      "autogluon-multimodal 1.1.1 requires scikit-learn<1.4.1,>=1.3.0, but you have scikit-learn 1.4.2 which is incompatible.\n",
      "autogluon-tabular 1.1.1 requires scikit-learn<1.4.1,>=1.3.0, but you have scikit-learn 1.4.2 which is incompatible.\n",
      "autogluon-timeseries 1.1.1 requires gluonts==0.15.1, but you have gluonts 0.14.3 which is incompatible.\n",
      "langchain-aws 0.1.16 requires boto3<1.35.0,>=1.34.131, but you have boto3 1.35.41 which is incompatible.\n",
      "sparkmagic 0.21.0 requires pandas<2.0.0,>=0.17.1, but you have pandas 2.2.2 which is incompatible.\n",
      "virtualenv 20.21.0 requires platformdirs<4,>=2.4, but you have platformdirs 4.3.6 which is incompatible.\u001b[0m\u001b[31m\n",
      "\u001b[0mSuccessfully installed boto3-1.35.41 botocore-1.35.41 mock-4.0.3 platformdirs-4.3.6 sagemaker-2.232.2 sagemaker-core-1.0.10\n"
     ]
    }
   ],
   "source": [
    "!pip install -q 's3fs==0.4.2' 'sagemaker-experiments'\n",
    "!pip install --upgrade sagemaker boto3\n",
    "# s3fs is needed for pandas to read files from S3"
   ]
  },
  {
   "cell_type": "code",
   "execution_count": 2,
   "metadata": {
    "pycharm": {
     "name": "#%%\n"
    }
   },
   "outputs": [
    {
     "name": "stdout",
     "output_type": "stream",
     "text": [
      "sagemaker.config INFO - Not applying SDK defaults from location: /etc/xdg/sagemaker/config.yaml\n",
      "sagemaker.config INFO - Not applying SDK defaults from location: /home/sagemaker-user/.config/sagemaker/config.yaml\n"
     ]
    }
   ],
   "source": [
    "import sagemaker\n",
    "import json\n",
    "import pandas as pd\n",
    "import glob\n",
    "import s3fs\n",
    "import boto3\n",
    "import numpy as np"
   ]
  },
  {
   "attachments": {},
   "cell_type": "markdown",
   "metadata": {
    "pycharm": {
     "name": "#%% md\n"
    }
   },
   "source": [
    "### Parameters \n",
    "The following lists configurable parameters that are used throughout the whole notebook."
   ]
  },
  {
   "cell_type": "code",
   "execution_count": 3,
   "metadata": {
    "pycharm": {
     "name": "#%%\n"
    }
   },
   "outputs": [],
   "source": [
    "sagemaker_session = sagemaker.Session()\n",
    "bucket = sagemaker_session.default_bucket()  # replace with your own bucket name if you have one\n",
    "s3 = sagemaker_session.boto_session.resource(\"s3\")\n",
    "\n",
    "region = boto3.Session().region_name\n",
    "role = sagemaker.get_execution_role()\n",
    "smclient = boto3.Session().client(\"sagemaker\")\n",
    "\n",
    "prefix = \"music-streaming\""
   ]
  },
  {
   "attachments": {},
   "cell_type": "markdown",
   "metadata": {
    "pycharm": {
     "name": "#%% md\n"
    }
   },
   "source": [
    "### Ingest Data\n",
    "\n",
    "We ingest the simulated data from the public SageMaker S3 training database."
   ]
  },
  {
   "cell_type": "code",
   "execution_count": 4,
   "metadata": {
    "pycharm": {
     "name": "#%%\n"
    }
   },
   "outputs": [],
   "source": [
    "##### Alternative: copy data from a public S3 bucket to your own bucket\n",
    "##### data file should include full_data.csv and sample.json\n",
    "#### cell 5 - 7 is not needed; the processing job before data wrangler screenshots is not needed\n",
    "!mkdir -p data/raw\n",
    "s3 = boto3.client(\"s3\")\n",
    "s3.download_file(\n",
    "    f\"sagemaker-example-files-prod-{region}\",\n",
    "    \"datasets/tabular/customer-churn/customer-churn-data-v2.zip\",\n",
    "    \"data/raw/customer-churn-data.zip\",\n",
    ")"
   ]
  },
  {
   "cell_type": "code",
   "execution_count": 5,
   "metadata": {
    "pycharm": {
     "name": "#%%\n"
    }
   },
   "outputs": [
    {
     "name": "stdout",
     "output_type": "stream",
     "text": [
      "Archive:  ./data/raw/customer-churn-data.zip\n",
      "  inflating: ./data/validation_w_header.csv  \n",
      "  inflating: ./data/train_w_header.csv  \n",
      "  inflating: ./data/processing_job_output.csv  \n",
      "  inflating: ./data/full_feature_data.csv  \n",
      " extracting: ./data/sample.zip       \n",
      "  inflating: ./data/test.csv         \n",
      "  inflating: ./data/test_updated.csv  \n",
      "  inflating: ./data/data_wrangler_output.csv  \n",
      "  inflating: ./data/sample.csv       \n",
      "  inflating: ./data/validation_updated.csv  \n",
      "  inflating: ./data/test_w_header.csv  \n",
      "  inflating: ./data/train_updated.csv  \n",
      " extracting: ./data/simu-4.zip       \n",
      " extracting: ./data/simu-3.zip       \n",
      " extracting: ./data/simu-2.zip       \n",
      " extracting: ./data/simu-1.zip       \n"
     ]
    }
   ],
   "source": [
    "!unzip -o ./data/raw/customer-churn-data.zip -d ./data"
   ]
  },
  {
   "cell_type": "code",
   "execution_count": 6,
   "metadata": {
    "pycharm": {
     "name": "#%%\n"
    }
   },
   "outputs": [
    {
     "name": "stdout",
     "output_type": "stream",
     "text": [
      "Archive:  data/simu-1.zip\n",
      "  inflating: data/raw/simu-1.json    \n",
      "Archive:  data/simu-2.zip\n",
      "  inflating: data/raw/simu-2.json    \n",
      "Archive:  data/simu-3.zip\n",
      "  inflating: data/raw/simu-3.json    \n",
      "Archive:  data/simu-4.zip\n",
      "  inflating: data/raw/simu-4.json    \n"
     ]
    }
   ],
   "source": [
    "# unzip the partitioned data files into the same folder\n",
    "!unzip -o data/simu-1.zip -d data/raw\n",
    "!unzip -o data/simu-2.zip -d data/raw\n",
    "!unzip -o data/simu-3.zip -d data/raw\n",
    "!unzip -o data/simu-4.zip -d data/raw"
   ]
  },
  {
   "cell_type": "code",
   "execution_count": 7,
   "metadata": {
    "pycharm": {
     "name": "#%%\n"
    }
   },
   "outputs": [],
   "source": [
    "!rm ./data/raw/*.zip"
   ]
  },
  {
   "cell_type": "code",
   "execution_count": 8,
   "metadata": {
    "pycharm": {
     "name": "#%%\n"
    }
   },
   "outputs": [
    {
     "name": "stdout",
     "output_type": "stream",
     "text": [
      "Archive:  data/sample.zip\n",
      "  inflating: data/raw/sample.json    \n"
     ]
    }
   ],
   "source": [
    "!unzip -o data/sample.zip -d data/raw"
   ]
  },
  {
   "cell_type": "code",
   "execution_count": 9,
   "metadata": {
    "pycharm": {
     "name": "#%%\n"
    }
   },
   "outputs": [
    {
     "name": "stdout",
     "output_type": "stream",
     "text": [
      "upload: data/raw/sample.json to s3://sagemaker-us-west-2-533266972807/music-streaming/data/json/sample.json\n",
      "upload: data/raw/simu-3.json to s3://sagemaker-us-west-2-533266972807/music-streaming/data/json/simu-3.json\n",
      "upload: data/raw/simu-1.json to s3://sagemaker-us-west-2-533266972807/music-streaming/data/json/simu-1.json\n",
      "upload: data/raw/simu-2.json to s3://sagemaker-us-west-2-533266972807/music-streaming/data/json/simu-2.json\n",
      "upload: data/raw/simu-4.json to s3://sagemaker-us-west-2-533266972807/music-streaming/data/json/simu-4.json\n"
     ]
    }
   ],
   "source": [
    "!aws s3 cp  ./data/raw s3://$bucket/$prefix/data/json/  --recursive"
   ]
  },
  {
   "attachments": {},
   "cell_type": "markdown",
   "metadata": {
    "pycharm": {
     "name": "#%% md\n"
    }
   },
   "source": [
    "### Data Cleaning\n",
    "\n",
    "Due to the size of the data (~2GB), you will start exploring our data starting with a smaller sample, decide which pre-processing steps are necessary, and apply them to the whole dataset."
   ]
  },
  {
   "cell_type": "code",
   "execution_count": 10,
   "metadata": {
    "pycharm": {
     "name": "#%%\n"
    }
   },
   "outputs": [],
   "source": [
    "import os\n",
    "\n",
    "# if your SageMaker Studio notebook's memory is getting full, you can run the following command to remove the raw data files from the instance and free up some memory.\n",
    "# You will read data from your S3 bucket onwards and will not need the raw data stored in the instance.\n",
    "os.remove(\"data/simu-1.zip\")\n",
    "os.remove(\"data/simu-2.zip\")\n",
    "os.remove(\"data/simu-3.zip\")\n",
    "os.remove(\"data/simu-4.zip\")\n",
    "os.remove(\"data/sample.zip\")"
   ]
  },
  {
   "cell_type": "code",
   "execution_count": 11,
   "metadata": {
    "pycharm": {
     "name": "#%%\n"
    }
   },
   "outputs": [],
   "source": [
    "sample_file_name = \"./data/raw/sample.json\"\n",
    "# s3_sample_file_name =  \"data/json/sample.json\"\n",
    "# sample_path = \"s3://{}/{}/{}\".format(bucket, prefix, s3_sample_file_name)\n",
    "sample = pd.read_json(sample_file_name, lines=True)"
   ]
  },
  {
   "cell_type": "code",
   "execution_count": 12,
   "metadata": {
    "pycharm": {
     "name": "#%%\n"
    }
   },
   "outputs": [
    {
     "data": {
      "text/html": [
       "<div>\n",
       "<style scoped>\n",
       "    .dataframe tbody tr th:only-of-type {\n",
       "        vertical-align: middle;\n",
       "    }\n",
       "\n",
       "    .dataframe tbody tr th {\n",
       "        vertical-align: top;\n",
       "    }\n",
       "\n",
       "    .dataframe thead th {\n",
       "        text-align: right;\n",
       "    }\n",
       "</style>\n",
       "<table border=\"1\" class=\"dataframe\">\n",
       "  <thead>\n",
       "    <tr style=\"text-align: right;\">\n",
       "      <th></th>\n",
       "      <th>ts</th>\n",
       "      <th>userId</th>\n",
       "      <th>sessionId</th>\n",
       "      <th>page</th>\n",
       "      <th>auth</th>\n",
       "      <th>method</th>\n",
       "      <th>status</th>\n",
       "      <th>level</th>\n",
       "      <th>itemInSession</th>\n",
       "      <th>location</th>\n",
       "      <th>userAgent</th>\n",
       "      <th>lastName</th>\n",
       "      <th>firstName</th>\n",
       "      <th>registration</th>\n",
       "      <th>gender</th>\n",
       "      <th>artist</th>\n",
       "      <th>song</th>\n",
       "      <th>length</th>\n",
       "    </tr>\n",
       "  </thead>\n",
       "  <tbody>\n",
       "    <tr>\n",
       "      <th>0</th>\n",
       "      <td>1592146267731</td>\n",
       "      <td>12065</td>\n",
       "      <td>118</td>\n",
       "      <td>NextSong</td>\n",
       "      <td>Logged In</td>\n",
       "      <td>PUT</td>\n",
       "      <td>200</td>\n",
       "      <td>paid</td>\n",
       "      <td>0</td>\n",
       "      <td>Richmond, VA</td>\n",
       "      <td>\"Mozilla/5.0 (Windows NT 6.1; WOW64) AppleWebK...</td>\n",
       "      <td>Davis</td>\n",
       "      <td>Bristol</td>\n",
       "      <td>1.591971e+12</td>\n",
       "      <td>M</td>\n",
       "      <td>Peter Tosh</td>\n",
       "      <td>Wanted Dread And Alive (2002 Digital Remaster)</td>\n",
       "      <td>267.85914</td>\n",
       "    </tr>\n",
       "    <tr>\n",
       "      <th>1</th>\n",
       "      <td>1592146268731</td>\n",
       "      <td>12065</td>\n",
       "      <td>118</td>\n",
       "      <td>Thumbs Down</td>\n",
       "      <td>Logged In</td>\n",
       "      <td>PUT</td>\n",
       "      <td>307</td>\n",
       "      <td>paid</td>\n",
       "      <td>1</td>\n",
       "      <td>Richmond, VA</td>\n",
       "      <td>\"Mozilla/5.0 (Windows NT 6.1; WOW64) AppleWebK...</td>\n",
       "      <td>Davis</td>\n",
       "      <td>Bristol</td>\n",
       "      <td>1.591971e+12</td>\n",
       "      <td>M</td>\n",
       "      <td>NaN</td>\n",
       "      <td>NaN</td>\n",
       "      <td>NaN</td>\n",
       "    </tr>\n",
       "  </tbody>\n",
       "</table>\n",
       "</div>"
      ],
      "text/plain": [
       "              ts userId  sessionId         page       auth method  status  \\\n",
       "0  1592146267731  12065        118     NextSong  Logged In    PUT     200   \n",
       "1  1592146268731  12065        118  Thumbs Down  Logged In    PUT     307   \n",
       "\n",
       "  level  itemInSession      location  \\\n",
       "0  paid              0  Richmond, VA   \n",
       "1  paid              1  Richmond, VA   \n",
       "\n",
       "                                           userAgent lastName firstName  \\\n",
       "0  \"Mozilla/5.0 (Windows NT 6.1; WOW64) AppleWebK...    Davis   Bristol   \n",
       "1  \"Mozilla/5.0 (Windows NT 6.1; WOW64) AppleWebK...    Davis   Bristol   \n",
       "\n",
       "   registration gender      artist  \\\n",
       "0  1.591971e+12      M  Peter Tosh   \n",
       "1  1.591971e+12      M         NaN   \n",
       "\n",
       "                                             song     length  \n",
       "0  Wanted Dread And Alive (2002 Digital Remaster)  267.85914  \n",
       "1                                             NaN        NaN  "
      ]
     },
     "execution_count": 12,
     "metadata": {},
     "output_type": "execute_result"
    }
   ],
   "source": [
    "sample.head(2)"
   ]
  },
  {
   "attachments": {},
   "cell_type": "markdown",
   "metadata": {
    "pycharm": {
     "name": "#%% md\n"
    }
   },
   "source": [
    "#### Remove irrelevant columns\n",
    "\n",
    "From the first look of data, you can notice that columns `lastName`, `firstName`, `method` and `status` are not relevant features. These will be dropped from the data."
   ]
  },
  {
   "cell_type": "code",
   "execution_count": 13,
   "metadata": {
    "pycharm": {
     "name": "#%%\n"
    }
   },
   "outputs": [],
   "source": [
    "columns_to_remove = [\"method\", \"status\", \"lastName\", \"firstName\"]\n",
    "sample = sample.drop(columns=columns_to_remove)"
   ]
  },
  {
   "attachments": {},
   "cell_type": "markdown",
   "metadata": {
    "pycharm": {
     "name": "#%% md\n"
    }
   },
   "source": [
    "#### Check for null values\n",
    "\n",
    "You are going to remove all events without an `userId` assigned since you are predicting which recognized user will churn from our service. In this case, all the rows(events) have a `userId` and `sessionId` assigned, but you will still run this step for the full dataset. For other columns, there are ~3% of data that are missing some demographic information of the users, and ~20% missing the song attributes, which is because the events contain not only playing a song, but also other actions including login and log out, downgrade, cancellation, etc. There are ~3% of users that do not have a registration time, so you will remove these anonymous users from the record."
   ]
  },
  {
   "cell_type": "code",
   "execution_count": 14,
   "metadata": {
    "pycharm": {
     "name": "#%%\n"
    }
   },
   "outputs": [
    {
     "name": "stdout",
     "output_type": "stream",
     "text": [
      "percentage of the value missing in each column is: \n"
     ]
    },
    {
     "data": {
      "text/plain": [
       "ts               0.000000\n",
       "userId           0.000000\n",
       "sessionId        0.000000\n",
       "page             0.000000\n",
       "auth             0.000000\n",
       "level            0.000000\n",
       "itemInSession    0.000000\n",
       "location         0.025447\n",
       "userAgent        0.025447\n",
       "registration     0.025447\n",
       "gender           0.025447\n",
       "artist           0.210330\n",
       "song             0.210330\n",
       "length           0.210330\n",
       "dtype: float64"
      ]
     },
     "execution_count": 14,
     "metadata": {},
     "output_type": "execute_result"
    }
   ],
   "source": [
    "print(\"percentage of the value missing in each column is: \")\n",
    "sample.isnull().sum() / len(sample)"
   ]
  },
  {
   "cell_type": "code",
   "execution_count": 15,
   "metadata": {
    "pycharm": {
     "name": "#%%\n"
    }
   },
   "outputs": [],
   "source": [
    "sample = sample[~sample[\"userId\"].isnull()]\n",
    "sample = sample[~sample[\"registration\"].isnull()]"
   ]
  },
  {
   "attachments": {},
   "cell_type": "markdown",
   "metadata": {
    "pycharm": {
     "name": "#%% md\n"
    }
   },
   "source": [
    "### Data Exploration\n",
    "\n",
    "Let's take a look at our categorical columns first: `page`, `auth`, `level`, `location`, `userAgent`, `gender`, `artist`, and `song`, and start with looking at unique values for `page`, `auth`, `level`, and `gender` since the other three have many unique values and you will take a different approach."
   ]
  },
  {
   "cell_type": "code",
   "execution_count": 16,
   "metadata": {
    "pycharm": {
     "name": "#%%\n"
    }
   },
   "outputs": [
    {
     "name": "stdout",
     "output_type": "stream",
     "text": [
      "The unique values in column page are: ['NextSong' 'Thumbs Down' 'Home' 'Settings' 'Thumbs Up' 'Add to Playlist'\n",
      " 'Roll Advert' 'Save Settings' 'Help' 'Logout' 'Add Friend' 'Downgrade'\n",
      " 'About' 'Upgrade' 'Error' 'Submit Upgrade' 'Submit Downgrade' 'Cancel'\n",
      " 'Cancellation Confirmation']\n",
      "The unique values in column auth are: ['Logged In' 'Cancelled']\n",
      "The unique values in column level are: ['paid' 'free']\n",
      "The unique values in column gender are: ['M' 'F']\n",
      "There are 72 unique values  in column location\n",
      "There are 37 unique values  in column userAgent\n",
      "There are 16207 unique values  in column artist\n",
      "There are 51447 unique values  in column song\n",
      "There are 101 unique values  in column userId\n"
     ]
    }
   ],
   "source": [
    "cat_columns = [\"page\", \"auth\", \"level\", \"gender\"]\n",
    "cat_columns_long = [\"location\", \"userAgent\", \"artist\", \"song\", \"userId\"]\n",
    "for col in cat_columns:\n",
    "    print(\"The unique values in column {} are: {}\".format(col, sample[col].unique()))\n",
    "for col in cat_columns_long:\n",
    "    print(\"There are {} unique values  in column {}\".format(sample[col].nunique(), col))"
   ]
  },
  {
   "attachments": {},
   "cell_type": "markdown",
   "metadata": {
    "pycharm": {
     "name": "#%% md\n"
    }
   },
   "source": [
    "#### Key observations from the above information\n",
    "\n",
    "* There are 101 unique users with 72 unique locations, this information may not be useful as a categorical feature. You can parse this field and only keep State information, but even that will give us 50 unique values in this category, so you can either remove this column or bucket it to a higher level (NY --> Northeast).\n",
    "* Artist and song details might not be helpful as categorical features as there are too many categories; you can quantify these to a user level, i.e. how many artists this user has listened to in total, how many songs this user has played in the last week, last month, in 180 days, in 365 days. You can also bring in external data to get song genres and other artist attributes to enrich this feature.\n",
    "* In the column `page`,  'Thumbs Down', 'Thumbs Up', 'Add to Playlist', 'Roll Advert','Help', 'Add Friend', 'Downgrade', 'Upgrade', and 'Error' can all be great features to churn analysis. You will aggregate them to user-level later. There is a \"cancellation confirmation\" value that can be used for the churn indicator.\n",
    "\n",
    "* Let's take a look at the column `userAgent`:\n"
   ]
  },
  {
   "attachments": {},
   "cell_type": "markdown",
   "metadata": {
    "pycharm": {
     "name": "#%% md\n"
    }
   },
   "source": [
    "UserAgent contains little useful information, but if you care about the browser type and mac/windows difference, you can parse the text and extract the information. Sometimes businesses would love to analyze user behavior based on their App version and device type (iOS v.s. Android), so these could be useful information. In this use case, for modeling purpose, we will remove this column. but you can keep it as a filter for data visualization."
   ]
  },
  {
   "cell_type": "code",
   "execution_count": 17,
   "metadata": {
    "pycharm": {
     "name": "#%%\n"
    }
   },
   "outputs": [],
   "source": [
    "columns_to_remove = [\"location\", \"userAgent\"]\n",
    "sample = sample.drop(columns=columns_to_remove)"
   ]
  },
  {
   "attachments": {},
   "cell_type": "markdown",
   "metadata": {
    "pycharm": {
     "name": "#%% md\n"
    }
   },
   "source": [
    "Let's take a closer look at the timestamp columns `ts` and `registration`. We can convert the event timestamp `ts` to year, month, week, day, day of the week, and hour of the day. The registration time should be the same for the same user, so we can aggregate this value to user-level and create a time delta column to calculate the time between registration and the newest event."
   ]
  },
  {
   "cell_type": "code",
   "execution_count": 18,
   "metadata": {
    "pycharm": {
     "name": "#%%\n"
    }
   },
   "outputs": [],
   "source": [
    "sample[\"date\"] = pd.to_datetime(sample[\"ts\"], unit=\"ms\")\n",
    "sample[\"ts_year\"] = sample[\"date\"].dt.year\n",
    "sample[\"ts_month\"] = sample[\"date\"].dt.month\n",
    "sample[\"ts_day\"] = sample[\"date\"].dt.day\n",
    "sample[\"ts_dow\"] = sample[\"date\"].dt.weekday\n",
    "sample[\"ts_hour\"] = sample[\"date\"].dt.hour\n",
    "sample[\"ts_date_day\"] = sample[\"date\"].dt.date\n",
    "sample[\"ts_is_weekday\"] = [1 if x in [0, 1, 2, 3, 4] else 0 for x in sample[\"ts_dow\"]]\n",
    "sample[\"registration_ts\"] = pd.to_datetime(sample[\"registration\"], unit=\"ms\").dt.date"
   ]
  },
  {
   "attachments": {},
   "cell_type": "markdown",
   "metadata": {
    "pycharm": {
     "name": "#%% md\n"
    }
   },
   "source": [
    "#### Define Churn\n",
    "\n",
    "In this use case, you will use `page == \"Cancellation Confirmation\"` as the indicator of a user churn. You can also use `page == 'downgrade` if you are interested in users downgrading their payment plan. There are ~13% users churned, so you will need to up-sample or down-sample the full dataset to deal with the imbalanced class, or carefully choose your algorithms."
   ]
  },
  {
   "cell_type": "code",
   "execution_count": 19,
   "metadata": {
    "pycharm": {
     "name": "#%%\n"
    }
   },
   "outputs": [
    {
     "name": "stdout",
     "output_type": "stream",
     "text": [
      "There are 12.87% of users churned in this dataset\n"
     ]
    }
   ],
   "source": [
    "print(\n",
    "    \"There are {:.2f}% of users churned in this dataset\".format(\n",
    "        (\n",
    "            (sample[sample[\"page\"] == \"Cancellation Confirmation\"][\"userId\"].nunique())\n",
    "            / sample[\"userId\"].nunique()\n",
    "        )\n",
    "        * 100\n",
    "    )\n",
    ")"
   ]
  },
  {
   "attachments": {},
   "cell_type": "markdown",
   "metadata": {
    "pycharm": {
     "name": "#%% md\n"
    }
   },
   "source": [
    "You can label a user by adding a churn label at a event level then aggregate this value to user level. "
   ]
  },
  {
   "cell_type": "code",
   "execution_count": 20,
   "metadata": {
    "pycharm": {
     "name": "#%%\n"
    }
   },
   "outputs": [],
   "source": [
    "sample[\"churned_event\"] = [1 if x == \"Cancellation Confirmation\" else 0 for x in sample[\"page\"]]\n",
    "sample[\"user_churned\"] = sample.groupby(\"userId\")[\"churned_event\"].transform(\"max\")"
   ]
  },
  {
   "attachments": {},
   "cell_type": "markdown",
   "metadata": {
    "pycharm": {
     "name": "#%% md\n"
    }
   },
   "source": [
    "#### Imbalanced Class\n",
    "\n",
    "Imbalanced class (much more positive cases than negative cases) is very common in churn analysis. It can be misleading for some machine learning model as the accuracy will be biased towards the majority class. Some useful tactics to deal with imbalanced class are [SMOTE](https://imbalanced-learn.readthedocs.io/en/stable/generated/imblearn.over_sampling.SMOTE.html), use algorithms that are less sensitive to imbalanced class like a tree-based algorithm or use a cost-sensitive algorithm that penalizes wrongly classified minority class."
   ]
  },
  {
   "attachments": {},
   "cell_type": "markdown",
   "metadata": {
    "pycharm": {
     "name": "#%% md\n"
    }
   },
   "source": [
    "To Summarize every pre-processing steps you have covered:\n",
    "* null removals\n",
    "* drop irrelevant columns\n",
    "* convert event timestamps to features used for analysis and modeling: year, month, week, day, day of week, hour, date, if the day is weekday or weekend, and convert registration timestamp to UTC.\n",
    "* create labels (whether the user churned eventually), which is calculated by if one churn event happened in the user's history, you can label the user as a churned user (1). "
   ]
  },
  {
   "attachments": {},
   "cell_type": "markdown",
   "metadata": {
    "pycharm": {
     "name": "#%% md\n"
    }
   },
   "source": [
    "#### Exploring Data\n",
    "\n",
    "Based on the available data, look at every column, and decide if you can create a feature from it. For all the columns, here are some directions to explore:\n",
    "\n",
    "    * `ts`: distribution of activity time: time of the day, day of the week\n",
    "    * `sessionId`: average number of sessions per user\n",
    "    * `page`:  number of thumbs up/thumbs down, added to the playlist, ads, add friend, if the user has downgrade or upgrade the plan, how many errors the user has encountered.\n",
    "    * `level`: if the user is a free or paid user\n",
    "    * `registration`: days the user being active, time the user joined the service\n",
    "    * `gender`: gender of the user\n",
    "    * `artist`: average number of artists the user listened to\n",
    "    * `song`: average number of songs listened per user\n",
    "    * `length`: average time spent per day per user\n",
    "   \n",
    "**Activity Time**\n",
    "\n",
    "1. Weekday v.s. weekend trends for churned users and active users. It seems like churned users are more active on weekdays than weekends whereas active users do not show a strong difference between weekday v.s. weekends. You can create some features from here: for each user, average events per day -- weekends, average events per day -- weekdays. You can also create features - average events per day of the week, but that will be converted to 7 features after one-hot-encoding, which may be less informative than the previous method.\n",
    "2. In terms of hours active during a day, our simulated data did not show a significant difference between day and night for both sets of users. You can have it on your checklist for your analysis, and similarly for the day of the month, the month of the year when you have more than a year of data."
   ]
  },
  {
   "cell_type": "code",
   "execution_count": 21,
   "metadata": {},
   "outputs": [
    {
     "name": "stdout",
     "output_type": "stream",
     "text": [
      "Requirement already satisfied: seaborn in /opt/conda/lib/python3.11/site-packages (0.13.2)\n",
      "Requirement already satisfied: numpy!=1.24.0,>=1.20 in /opt/conda/lib/python3.11/site-packages (from seaborn) (1.26.4)\n",
      "Requirement already satisfied: pandas>=1.2 in /opt/conda/lib/python3.11/site-packages (from seaborn) (2.2.2)\n",
      "Requirement already satisfied: matplotlib!=3.6.1,>=3.4 in /opt/conda/lib/python3.11/site-packages (from seaborn) (3.9.2)\n",
      "Requirement already satisfied: contourpy>=1.0.1 in /opt/conda/lib/python3.11/site-packages (from matplotlib!=3.6.1,>=3.4->seaborn) (1.2.1)\n",
      "Requirement already satisfied: cycler>=0.10 in /opt/conda/lib/python3.11/site-packages (from matplotlib!=3.6.1,>=3.4->seaborn) (0.12.1)\n",
      "Requirement already satisfied: fonttools>=4.22.0 in /opt/conda/lib/python3.11/site-packages (from matplotlib!=3.6.1,>=3.4->seaborn) (4.53.1)\n",
      "Requirement already satisfied: kiwisolver>=1.3.1 in /opt/conda/lib/python3.11/site-packages (from matplotlib!=3.6.1,>=3.4->seaborn) (1.4.5)\n",
      "Requirement already satisfied: packaging>=20.0 in /opt/conda/lib/python3.11/site-packages (from matplotlib!=3.6.1,>=3.4->seaborn) (24.1)\n",
      "Requirement already satisfied: pillow>=8 in /opt/conda/lib/python3.11/site-packages (from matplotlib!=3.6.1,>=3.4->seaborn) (10.4.0)\n",
      "Requirement already satisfied: pyparsing>=2.3.1 in /opt/conda/lib/python3.11/site-packages (from matplotlib!=3.6.1,>=3.4->seaborn) (3.1.2)\n",
      "Requirement already satisfied: python-dateutil>=2.7 in /opt/conda/lib/python3.11/site-packages (from matplotlib!=3.6.1,>=3.4->seaborn) (2.9.0)\n",
      "Requirement already satisfied: pytz>=2020.1 in /opt/conda/lib/python3.11/site-packages (from pandas>=1.2->seaborn) (2023.3)\n",
      "Requirement already satisfied: tzdata>=2022.7 in /opt/conda/lib/python3.11/site-packages (from pandas>=1.2->seaborn) (2024.1)\n",
      "Requirement already satisfied: six>=1.5 in /opt/conda/lib/python3.11/site-packages (from python-dateutil>=2.7->matplotlib!=3.6.1,>=3.4->seaborn) (1.16.0)\n",
      "Note: you may need to restart the kernel to use updated packages.\n"
     ]
    }
   ],
   "source": [
    "pip install seaborn\n"
   ]
  },
  {
   "cell_type": "code",
   "execution_count": 22,
   "metadata": {
    "pycharm": {
     "name": "#%%\n"
    }
   },
   "outputs": [
    {
     "data": {
      "image/png": "[encoded data removed]",
      "text/plain": [
       "<Figure size 640x480 with 1 Axes>"
      ]
     },
     "metadata": {},
     "output_type": "display_data"
    }
   ],
   "source": [
    "import seaborn as sns\n",
    "import matplotlib.pyplot as plt\n",
    "\n",
    "events_per_day_per_user = (\n",
    "    sample.groupby([\"userId\", \"ts_date_day\", \"ts_is_weekday\", \"user_churned\"])\n",
    "    .agg({\"page\": \"count\"})\n",
    "    .reset_index()\n",
    ")\n",
    "events_dist = (\n",
    "    events_per_day_per_user.groupby([\"userId\", \"ts_is_weekday\", \"user_churned\"])\n",
    "    .agg({\"page\": \"mean\"})\n",
    "    .reset_index()\n",
    ")\n",
    "\n",
    "\n",
    "def trend_plot(\n",
    "    df, plot_type, x, y, hue=None, title=None, x_axis=None, y_axis=None, xticks=None, yticks=None\n",
    "):\n",
    "    if plot_type == \"box\":\n",
    "        fig = sns.boxplot(x=\"page\", y=y, data=df, hue=hue, orient=\"h\")\n",
    "    elif plot_type == \"bar\":\n",
    "        fig = sns.barplot(x=x, y=y, data=df, hue=hue)\n",
    "\n",
    "    sns.set(rc={\"figure.figsize\": (12, 3)})\n",
    "    sns.set_palette(\"Set2\")\n",
    "    sns.set_style(\"darkgrid\")\n",
    "    plt.title(title)\n",
    "    plt.xlabel(x_axis)\n",
    "    plt.ylabel(y_axis)\n",
    "    plt.yticks([0, 1], yticks)\n",
    "    return plt.show(fig)\n",
    "\n",
    "\n",
    "trend_plot(\n",
    "    events_dist,\n",
    "    \"box\",\n",
    "    \"page\",\n",
    "    \"user_churned\",\n",
    "    \"ts_is_weekday\",\n",
    "    \"Weekday V.S. Weekends - Average events per day per user\",\n",
    "    \"average events per user per day\",\n",
    "    yticks=[\"active users\", \"churned users\"],\n",
    ")"
   ]
  },
  {
   "cell_type": "code",
   "execution_count": 23,
   "metadata": {
    "pycharm": {
     "name": "#%%\n"
    }
   },
   "outputs": [
    {
     "data": {
      "image/png": "[encoded data removed]",
      "text/plain": [
       "<Figure size 1200x300 with 1 Axes>"
      ]
     },
     "metadata": {},
     "output_type": "display_data"
    }
   ],
   "source": [
    "events_per_hour_per_user = (\n",
    "    sample.groupby([\"userId\", \"ts_date_day\", \"ts_hour\", \"user_churned\"])\n",
    "    .agg({\"page\": \"count\"})\n",
    "    .reset_index()\n",
    ")\n",
    "events_dist = (\n",
    "    events_per_hour_per_user.groupby([\"userId\", \"ts_hour\", \"user_churned\"])\n",
    "    .agg({\"page\": \"mean\"})\n",
    "    .reset_index()\n",
    "    .groupby([\"ts_hour\", \"user_churned\"])\n",
    "    .agg({\"page\": \"mean\"})\n",
    "    .reset_index()\n",
    ")\n",
    "trend_plot(\n",
    "    events_dist,\n",
    "    \"bar\",\n",
    "    \"ts_hour\",\n",
    "    \"page\",\n",
    "    \"user_churned\",\n",
    "    \"Hourly activity - Average events per hour of day per user\",\n",
    "    \"hour of the day\",\n",
    "    \"average events per user per hour\",\n",
    ")"
   ]
  },
  {
   "attachments": {},
   "cell_type": "markdown",
   "metadata": {
    "pycharm": {
     "name": "#%% md\n"
    }
   },
   "source": [
    "**Listening Behavior**\n",
    "\n",
    "You can look at some basic stats for a user's listening habits. Churned users generally listen to a wider variety of songs and artists and spend more time on the App/be with the App longer.\n",
    "* Average total: number of sessions, App usage length, number of songs listened, number of artists listened per user, number of ad days active\n",
    "* Average daily: number of sessions, App usage length, number of songs listened, number of artists listened per user\n"
   ]
  },
  {
   "cell_type": "code",
   "execution_count": 24,
   "metadata": {
    "pycharm": {
     "name": "#%%\n"
    }
   },
   "outputs": [
    {
     "name": "stdout",
     "output_type": "stream",
     "text": [
      "Average total: number of sessions, App usage length, number of songs listened, number of artists listened per user, days active: \n"
     ]
    },
    {
     "data": {
      "text/html": [
       "<div>\n",
       "<style scoped>\n",
       "    .dataframe tbody tr th:only-of-type {\n",
       "        vertical-align: middle;\n",
       "    }\n",
       "\n",
       "    .dataframe tbody tr th {\n",
       "        vertical-align: top;\n",
       "    }\n",
       "\n",
       "    .dataframe thead th {\n",
       "        text-align: right;\n",
       "    }\n",
       "</style>\n",
       "<table border=\"1\" class=\"dataframe\">\n",
       "  <thead>\n",
       "    <tr style=\"text-align: right;\">\n",
       "      <th></th>\n",
       "      <th>user_churned</th>\n",
       "      <th>sessionId</th>\n",
       "      <th>song</th>\n",
       "      <th>artist</th>\n",
       "      <th>length</th>\n",
       "      <th>ts_date_day</th>\n",
       "    </tr>\n",
       "  </thead>\n",
       "  <tbody>\n",
       "    <tr>\n",
       "      <th>0</th>\n",
       "      <td>0</td>\n",
       "      <td>2044.636364</td>\n",
       "      <td>1434.102273</td>\n",
       "      <td>1067.602273</td>\n",
       "      <td>412310.642096</td>\n",
       "      <td>2044.636364</td>\n",
       "    </tr>\n",
       "    <tr>\n",
       "      <th>1</th>\n",
       "      <td>1</td>\n",
       "      <td>3260.384615</td>\n",
       "      <td>2173.153846</td>\n",
       "      <td>1493.230769</td>\n",
       "      <td>656340.586522</td>\n",
       "      <td>3260.384615</td>\n",
       "    </tr>\n",
       "  </tbody>\n",
       "</table>\n",
       "</div>"
      ],
      "text/plain": [
       "   user_churned    sessionId         song       artist         length  \\\n",
       "0             0  2044.636364  1434.102273  1067.602273  412310.642096   \n",
       "1             1  3260.384615  2173.153846  1493.230769  656340.586522   \n",
       "\n",
       "   ts_date_day  \n",
       "0  2044.636364  \n",
       "1  3260.384615  "
      ]
     },
     "execution_count": 24,
     "metadata": {},
     "output_type": "execute_result"
    }
   ],
   "source": [
    "stats_per_user = (\n",
    "    sample.groupby([\"userId\", \"user_churned\"])\n",
    "    .agg(\n",
    "        {\n",
    "            \"sessionId\": \"count\",\n",
    "            \"song\": \"nunique\",\n",
    "            \"artist\": \"nunique\",\n",
    "            \"length\": \"sum\",\n",
    "            \"ts_date_day\": \"count\",\n",
    "        }\n",
    "    )\n",
    "    .reset_index()\n",
    ")\n",
    "avg_stats_group = (\n",
    "    stats_per_user.groupby([\"user_churned\"])\n",
    "    .agg(\n",
    "        {\n",
    "            \"sessionId\": \"mean\",\n",
    "            \"song\": \"mean\",\n",
    "            \"artist\": \"mean\",\n",
    "            \"length\": \"mean\",\n",
    "            \"ts_date_day\": \"mean\",\n",
    "        }\n",
    "    )\n",
    "    .reset_index()\n",
    ")\n",
    "\n",
    "print(\n",
    "    \"Average total: number of sessions, App usage length, number of songs listened, number of artists listened per user, days active: \"\n",
    ")\n",
    "avg_stats_group"
   ]
  },
  {
   "cell_type": "code",
   "execution_count": 25,
   "metadata": {
    "pycharm": {
     "name": "#%%\n"
    }
   },
   "outputs": [
    {
     "name": "stdout",
     "output_type": "stream",
     "text": [
      "Average daily: number of sessions, App usage length, number of songs listened, number of artists listened per user: \n"
     ]
    },
    {
     "data": {
      "text/html": [
       "<div>\n",
       "<style scoped>\n",
       "    .dataframe tbody tr th:only-of-type {\n",
       "        vertical-align: middle;\n",
       "    }\n",
       "\n",
       "    .dataframe tbody tr th {\n",
       "        vertical-align: top;\n",
       "    }\n",
       "\n",
       "    .dataframe thead th {\n",
       "        text-align: right;\n",
       "    }\n",
       "</style>\n",
       "<table border=\"1\" class=\"dataframe\">\n",
       "  <thead>\n",
       "    <tr style=\"text-align: right;\">\n",
       "      <th></th>\n",
       "      <th>user_churned</th>\n",
       "      <th>sessionId</th>\n",
       "      <th>song</th>\n",
       "      <th>artist</th>\n",
       "      <th>length</th>\n",
       "    </tr>\n",
       "  </thead>\n",
       "  <tbody>\n",
       "    <tr>\n",
       "      <th>0</th>\n",
       "      <td>0</td>\n",
       "      <td>76.597701</td>\n",
       "      <td>61.301831</td>\n",
       "      <td>59.323116</td>\n",
       "      <td>15446.290551</td>\n",
       "    </tr>\n",
       "    <tr>\n",
       "      <th>1</th>\n",
       "      <td>1</td>\n",
       "      <td>92.746171</td>\n",
       "      <td>74.291028</td>\n",
       "      <td>71.501094</td>\n",
       "      <td>18670.519967</td>\n",
       "    </tr>\n",
       "  </tbody>\n",
       "</table>\n",
       "</div>"
      ],
      "text/plain": [
       "   user_churned  sessionId       song     artist        length\n",
       "0             0  76.597701  61.301831  59.323116  15446.290551\n",
       "1             1  92.746171  74.291028  71.501094  18670.519967"
      ]
     },
     "execution_count": 25,
     "metadata": {},
     "output_type": "execute_result"
    }
   ],
   "source": [
    "stats_per_user = (\n",
    "    sample.groupby([\"userId\", \"ts_date_day\", \"user_churned\"])\n",
    "    .agg({\"sessionId\": \"count\", \"song\": \"nunique\", \"artist\": \"nunique\", \"length\": \"sum\"})\n",
    "    .reset_index()\n",
    ")\n",
    "avg_stats_group = (\n",
    "    stats_per_user.groupby([\"user_churned\"])\n",
    "    .agg({\"sessionId\": \"mean\", \"song\": \"mean\", \"artist\": \"mean\", \"length\": \"mean\"})\n",
    "    .reset_index()\n",
    ")\n",
    "print(\n",
    "    \"Average daily: number of sessions, App usage length, number of songs listened, number of artists listened per user: \"\n",
    ")\n",
    "avg_stats_group"
   ]
  },
  {
   "attachments": {},
   "cell_type": "markdown",
   "metadata": {
    "pycharm": {
     "name": "#%% md\n"
    }
   },
   "source": [
    "**App Usage Behavior**\n",
    "\n",
    "You can further explore how the users are using the App besides just listening: number of thumbs up/thumbs down, added to playlist, ads, add friend, if the user has downgrade or upgrade the plan, how many errors the user has encountered. Churned users are slightly more active than other users, and also encounter more errors, listened to more ads, and more downgrade and upgrade. These can be numerical features (number of total events per type per user), or more advanced time series numerical features (errors in last 7 days, errors in last month, etc.)."
   ]
  },
  {
   "cell_type": "code",
   "execution_count": 26,
   "metadata": {
    "pycharm": {
     "name": "#%%\n"
    }
   },
   "outputs": [],
   "source": [
    "events_list = [\n",
    "    \"NextSong\",\n",
    "    \"Thumbs Down\",\n",
    "    \"Thumbs Up\",\n",
    "    \"Add to Playlist\",\n",
    "    \"Roll Advert\",\n",
    "    \"Add Friend\",\n",
    "    \"Downgrade\",\n",
    "    \"Upgrade\",\n",
    "    \"Error\",\n",
    "]\n",
    "usage_column_name = []\n",
    "for event in events_list:\n",
    "    event_name = \"_\".join(event.split()).lower()\n",
    "    usage_column_name.append(event_name)\n",
    "    sample[event_name] = [1 if x == event else 0 for x in sample[\"page\"]]"
   ]
  },
  {
   "cell_type": "code",
   "execution_count": 27,
   "metadata": {
    "pycharm": {
     "name": "#%%\n"
    }
   },
   "outputs": [],
   "source": [
    "app_use_per_user = sample.groupby([\"userId\", \"user_churned\"])[usage_column_name].sum().reset_index()"
   ]
  },
  {
   "cell_type": "code",
   "execution_count": 28,
   "metadata": {
    "pycharm": {
     "name": "#%%\n"
    }
   },
   "outputs": [
    {
     "data": {
      "text/html": [
       "<div>\n",
       "<style scoped>\n",
       "    .dataframe tbody tr th:only-of-type {\n",
       "        vertical-align: middle;\n",
       "    }\n",
       "\n",
       "    .dataframe tbody tr th {\n",
       "        vertical-align: top;\n",
       "    }\n",
       "\n",
       "    .dataframe thead th {\n",
       "        text-align: right;\n",
       "    }\n",
       "</style>\n",
       "<table border=\"1\" class=\"dataframe\">\n",
       "  <thead>\n",
       "    <tr style=\"text-align: right;\">\n",
       "      <th></th>\n",
       "      <th>user_churned</th>\n",
       "      <th>nextsong</th>\n",
       "      <th>thumbs_down</th>\n",
       "      <th>thumbs_up</th>\n",
       "      <th>add_to_playlist</th>\n",
       "      <th>roll_advert</th>\n",
       "      <th>add_friend</th>\n",
       "      <th>downgrade</th>\n",
       "      <th>upgrade</th>\n",
       "      <th>error</th>\n",
       "    </tr>\n",
       "  </thead>\n",
       "  <tbody>\n",
       "    <tr>\n",
       "      <th>0</th>\n",
       "      <td>0</td>\n",
       "      <td>1656.204545</td>\n",
       "      <td>16.988636</td>\n",
       "      <td>150.477273</td>\n",
       "      <td>50.863636</td>\n",
       "      <td>7.613636</td>\n",
       "      <td>29.181818</td>\n",
       "      <td>9.568182</td>\n",
       "      <td>1.954545</td>\n",
       "      <td>2.193182</td>\n",
       "    </tr>\n",
       "    <tr>\n",
       "      <th>1</th>\n",
       "      <td>1</td>\n",
       "      <td>2645.538462</td>\n",
       "      <td>28.076923</td>\n",
       "      <td>239.615385</td>\n",
       "      <td>80.846154</td>\n",
       "      <td>10.923077</td>\n",
       "      <td>48.923077</td>\n",
       "      <td>12.615385</td>\n",
       "      <td>2.461538</td>\n",
       "      <td>3.461538</td>\n",
       "    </tr>\n",
       "  </tbody>\n",
       "</table>\n",
       "</div>"
      ],
      "text/plain": [
       "   user_churned     nextsong  thumbs_down   thumbs_up  add_to_playlist  \\\n",
       "0             0  1656.204545    16.988636  150.477273        50.863636   \n",
       "1             1  2645.538462    28.076923  239.615385        80.846154   \n",
       "\n",
       "   roll_advert  add_friend  downgrade   upgrade     error  \n",
       "0     7.613636   29.181818   9.568182  1.954545  2.193182  \n",
       "1    10.923077   48.923077  12.615385  2.461538  3.461538  "
      ]
     },
     "execution_count": 28,
     "metadata": {},
     "output_type": "execute_result"
    }
   ],
   "source": [
    "app_use_group = app_use_per_user.groupby([\"user_churned\"])[usage_column_name].mean().reset_index()\n",
    "app_use_group"
   ]
  },
  {
   "attachments": {},
   "cell_type": "markdown",
   "metadata": {
    "pycharm": {
     "name": "#%% md\n"
    }
   },
   "source": [
    "## Pre-processing with SageMaker Data Wrangler\n",
    "\n",
    "Now that you have a good understanding of your data and decided which steps are needed to pre-process your data, you can utilize the new Amazon SageMaker GUI tool **Data Wrangler**, without writing all the code for the SageMaker Processing Job.\n",
    "\n",
    "* Here we used a Processing Job to convert the raw streaming data files downloaded from the github repo (`simu-*.zip` files) to a full, CSV formatted file for Data Wrangler Ingestion purpose.\n",
    "you are importing the raw streaming data files downloaded from the github repo (`simu-*.zip` files). The raw JSON files were converted to CSV format and combined to one file for Data Wrangler Ingestion purpose."
   ]
  },
  {
   "cell_type": "code",
   "execution_count": 29,
   "metadata": {
    "collapsed": false,
    "jupyter": {
     "outputs_hidden": false
    },
    "pycharm": {
     "name": "#%%\n"
    }
   },
   "outputs": [
    {
     "name": "stdout",
     "output_type": "stream",
     "text": [
      "Requirement already satisfied: sagemaker in /opt/conda/lib/python3.11/site-packages (2.232.2)\n",
      "Requirement already satisfied: attrs<24,>=23.1.0 in /opt/conda/lib/python3.11/site-packages (from sagemaker) (23.2.0)\n",
      "Requirement already satisfied: boto3<2.0,>=1.34.142 in /opt/conda/lib/python3.11/site-packages (from sagemaker) (1.35.41)\n",
      "Requirement already satisfied: cloudpickle==2.2.1 in /opt/conda/lib/python3.11/site-packages (from sagemaker) (2.2.1)\n",
      "Requirement already satisfied: docker in /opt/conda/lib/python3.11/site-packages (from sagemaker) (7.1.0)\n",
      "Requirement already satisfied: google-pasta in /opt/conda/lib/python3.11/site-packages (from sagemaker) (0.2.0)\n",
      "Requirement already satisfied: importlib-metadata<7.0,>=1.4.0 in /opt/conda/lib/python3.11/site-packages (from sagemaker) (6.10.0)\n",
      "Requirement already satisfied: jsonschema in /opt/conda/lib/python3.11/site-packages (from sagemaker) (4.21.1)\n",
      "Requirement already satisfied: numpy<2.0,>=1.9.0 in /opt/conda/lib/python3.11/site-packages (from sagemaker) (1.26.4)\n",
      "Requirement already satisfied: packaging>=20.0 in /opt/conda/lib/python3.11/site-packages (from sagemaker) (24.1)\n",
      "Requirement already satisfied: pandas in /opt/conda/lib/python3.11/site-packages (from sagemaker) (2.2.2)\n",
      "Requirement already satisfied: pathos in /opt/conda/lib/python3.11/site-packages (from sagemaker) (0.3.2)\n",
      "Requirement already satisfied: platformdirs in /opt/conda/lib/python3.11/site-packages (from sagemaker) (4.3.6)\n",
      "Requirement already satisfied: protobuf<5.0,>=3.12 in /opt/conda/lib/python3.11/site-packages (from sagemaker) (4.25.3)\n",
      "Requirement already satisfied: psutil in /opt/conda/lib/python3.11/site-packages (from sagemaker) (5.9.8)\n",
      "Requirement already satisfied: pyyaml~=6.0 in /opt/conda/lib/python3.11/site-packages (from sagemaker) (6.0.2)\n",
      "Requirement already satisfied: requests in /opt/conda/lib/python3.11/site-packages (from sagemaker) (2.32.3)\n",
      "Requirement already satisfied: sagemaker-core<2.0.0,>=1.0.0 in /opt/conda/lib/python3.11/site-packages (from sagemaker) (1.0.10)\n",
      "Requirement already satisfied: sagemaker-mlflow in /opt/conda/lib/python3.11/site-packages (from sagemaker) (0.1.0)\n",
      "Requirement already satisfied: schema in /opt/conda/lib/python3.11/site-packages (from sagemaker) (0.7.7)\n",
      "Requirement already satisfied: smdebug-rulesconfig==1.0.1 in /opt/conda/lib/python3.11/site-packages (from sagemaker) (1.0.1)\n",
      "Requirement already satisfied: tblib<4,>=1.7.0 in /opt/conda/lib/python3.11/site-packages (from sagemaker) (2.0.0)\n",
      "Requirement already satisfied: tqdm in /opt/conda/lib/python3.11/site-packages (from sagemaker) (4.66.5)\n",
      "Requirement already satisfied: urllib3<3.0.0,>=1.26.8 in /opt/conda/lib/python3.11/site-packages (from sagemaker) (1.26.19)\n",
      "Requirement already satisfied: botocore<1.36.0,>=1.35.41 in /opt/conda/lib/python3.11/site-packages (from boto3<2.0,>=1.34.142->sagemaker) (1.35.41)\n",
      "Requirement already satisfied: jmespath<2.0.0,>=0.7.1 in /opt/conda/lib/python3.11/site-packages (from boto3<2.0,>=1.34.142->sagemaker) (1.0.1)\n",
      "Requirement already satisfied: s3transfer<0.11.0,>=0.10.0 in /opt/conda/lib/python3.11/site-packages (from boto3<2.0,>=1.34.142->sagemaker) (0.10.2)\n",
      "Requirement already satisfied: zipp>=0.5 in /opt/conda/lib/python3.11/site-packages (from importlib-metadata<7.0,>=1.4.0->sagemaker) (3.20.0)\n",
      "Requirement already satisfied: pydantic<3.0.0,>=1.7.0 in /opt/conda/lib/python3.11/site-packages (from sagemaker-core<2.0.0,>=1.0.0->sagemaker) (1.10.17)\n",
      "Requirement already satisfied: rich<14.0.0,>=13.0.0 in /opt/conda/lib/python3.11/site-packages (from sagemaker-core<2.0.0,>=1.0.0->sagemaker) (13.7.1)\n",
      "Requirement already satisfied: mock<5.0,>4.0 in /opt/conda/lib/python3.11/site-packages (from sagemaker-core<2.0.0,>=1.0.0->sagemaker) (4.0.3)\n",
      "Requirement already satisfied: jsonschema-specifications>=2023.03.6 in /opt/conda/lib/python3.11/site-packages (from jsonschema->sagemaker) (2023.12.1)\n",
      "Requirement already satisfied: referencing>=0.28.4 in /opt/conda/lib/python3.11/site-packages (from jsonschema->sagemaker) (0.35.1)\n",
      "Requirement already satisfied: rpds-py>=0.7.1 in /opt/conda/lib/python3.11/site-packages (from jsonschema->sagemaker) (0.20.0)\n",
      "Requirement already satisfied: charset-normalizer<4,>=2 in /opt/conda/lib/python3.11/site-packages (from requests->sagemaker) (3.3.2)\n",
      "Requirement already satisfied: idna<4,>=2.5 in /opt/conda/lib/python3.11/site-packages (from requests->sagemaker) (3.7)\n",
      "Requirement already satisfied: certifi>=2017.4.17 in /opt/conda/lib/python3.11/site-packages (from requests->sagemaker) (2024.7.4)\n",
      "Requirement already satisfied: six in /opt/conda/lib/python3.11/site-packages (from google-pasta->sagemaker) (1.16.0)\n",
      "Requirement already satisfied: python-dateutil>=2.8.2 in /opt/conda/lib/python3.11/site-packages (from pandas->sagemaker) (2.9.0)\n",
      "Requirement already satisfied: pytz>=2020.1 in /opt/conda/lib/python3.11/site-packages (from pandas->sagemaker) (2023.3)\n",
      "Requirement already satisfied: tzdata>=2022.7 in /opt/conda/lib/python3.11/site-packages (from pandas->sagemaker) (2024.1)\n",
      "Requirement already satisfied: ppft>=1.7.6.8 in /opt/conda/lib/python3.11/site-packages (from pathos->sagemaker) (1.7.6.8)\n",
      "Requirement already satisfied: dill>=0.3.8 in /opt/conda/lib/python3.11/site-packages (from pathos->sagemaker) (0.3.8)\n",
      "Requirement already satisfied: pox>=0.3.4 in /opt/conda/lib/python3.11/site-packages (from pathos->sagemaker) (0.3.4)\n",
      "Requirement already satisfied: multiprocess>=0.70.16 in /opt/conda/lib/python3.11/site-packages (from pathos->sagemaker) (0.70.16)\n",
      "Requirement already satisfied: mlflow>=2.8 in /opt/conda/lib/python3.11/site-packages (from sagemaker-mlflow->sagemaker) (2.15.1)\n",
      "Requirement already satisfied: Flask<4 in /opt/conda/lib/python3.11/site-packages (from mlflow>=2.8->sagemaker-mlflow->sagemaker) (3.0.3)\n",
      "Requirement already satisfied: alembic!=1.10.0,<2 in /opt/conda/lib/python3.11/site-packages (from mlflow>=2.8->sagemaker-mlflow->sagemaker) (1.13.2)\n",
      "Requirement already satisfied: cachetools<6,>=5.0.0 in /opt/conda/lib/python3.11/site-packages (from mlflow>=2.8->sagemaker-mlflow->sagemaker) (5.5.0)\n",
      "Requirement already satisfied: click<9,>=7.0 in /opt/conda/lib/python3.11/site-packages (from mlflow>=2.8->sagemaker-mlflow->sagemaker) (8.1.7)\n",
      "Requirement already satisfied: databricks-sdk<1,>=0.20.0 in /opt/conda/lib/python3.11/site-packages (from mlflow>=2.8->sagemaker-mlflow->sagemaker) (0.30.0)\n",
      "Requirement already satisfied: entrypoints<1 in /opt/conda/lib/python3.11/site-packages (from mlflow>=2.8->sagemaker-mlflow->sagemaker) (0.4)\n",
      "Requirement already satisfied: gitpython<4,>=3.1.9 in /opt/conda/lib/python3.11/site-packages (from mlflow>=2.8->sagemaker-mlflow->sagemaker) (3.1.43)\n",
      "Requirement already satisfied: graphene<4 in /opt/conda/lib/python3.11/site-packages (from mlflow>=2.8->sagemaker-mlflow->sagemaker) (3.3)\n",
      "Requirement already satisfied: markdown<4,>=3.3 in /opt/conda/lib/python3.11/site-packages (from mlflow>=2.8->sagemaker-mlflow->sagemaker) (3.6)\n",
      "Requirement already satisfied: matplotlib<4 in /opt/conda/lib/python3.11/site-packages (from mlflow>=2.8->sagemaker-mlflow->sagemaker) (3.9.2)\n",
      "Requirement already satisfied: opentelemetry-api<3,>=1.9.0 in /opt/conda/lib/python3.11/site-packages (from mlflow>=2.8->sagemaker-mlflow->sagemaker) (1.26.0)\n",
      "Requirement already satisfied: opentelemetry-sdk<3,>=1.9.0 in /opt/conda/lib/python3.11/site-packages (from mlflow>=2.8->sagemaker-mlflow->sagemaker) (1.26.0)\n",
      "Requirement already satisfied: pyarrow<16,>=4.0.0 in /opt/conda/lib/python3.11/site-packages (from mlflow>=2.8->sagemaker-mlflow->sagemaker) (15.0.2)\n",
      "Requirement already satisfied: querystring-parser<2 in /opt/conda/lib/python3.11/site-packages (from mlflow>=2.8->sagemaker-mlflow->sagemaker) (1.2.4)\n",
      "Requirement already satisfied: scikit-learn<2 in /opt/conda/lib/python3.11/site-packages (from mlflow>=2.8->sagemaker-mlflow->sagemaker) (1.4.2)\n",
      "Requirement already satisfied: scipy<2 in /opt/conda/lib/python3.11/site-packages (from mlflow>=2.8->sagemaker-mlflow->sagemaker) (1.12.0)\n",
      "Requirement already satisfied: sqlalchemy<3,>=1.4.0 in /opt/conda/lib/python3.11/site-packages (from mlflow>=2.8->sagemaker-mlflow->sagemaker) (2.0.30)\n",
      "Requirement already satisfied: sqlparse<1,>=0.4.0 in /opt/conda/lib/python3.11/site-packages (from mlflow>=2.8->sagemaker-mlflow->sagemaker) (0.5.1)\n",
      "Requirement already satisfied: Jinja2<4,>=2.11 in /opt/conda/lib/python3.11/site-packages (from mlflow>=2.8->sagemaker-mlflow->sagemaker) (3.1.4)\n",
      "Requirement already satisfied: gunicorn<23 in /opt/conda/lib/python3.11/site-packages (from mlflow>=2.8->sagemaker-mlflow->sagemaker) (22.0.0)\n",
      "Requirement already satisfied: typing-extensions>=4.2.0 in /opt/conda/lib/python3.11/site-packages (from pydantic<3.0.0,>=1.7.0->sagemaker-core<2.0.0,>=1.0.0->sagemaker) (4.12.2)\n",
      "Requirement already satisfied: markdown-it-py>=2.2.0 in /opt/conda/lib/python3.11/site-packages (from rich<14.0.0,>=13.0.0->sagemaker-core<2.0.0,>=1.0.0->sagemaker) (3.0.0)\n",
      "Requirement already satisfied: pygments<3.0.0,>=2.13.0 in /opt/conda/lib/python3.11/site-packages (from rich<14.0.0,>=13.0.0->sagemaker-core<2.0.0,>=1.0.0->sagemaker) (2.18.0)\n",
      "Requirement already satisfied: Mako in /opt/conda/lib/python3.11/site-packages (from alembic!=1.10.0,<2->mlflow>=2.8->sagemaker-mlflow->sagemaker) (1.3.5)\n",
      "Requirement already satisfied: google-auth~=2.0 in /opt/conda/lib/python3.11/site-packages (from databricks-sdk<1,>=0.20.0->mlflow>=2.8->sagemaker-mlflow->sagemaker) (2.33.0)\n",
      "Requirement already satisfied: Werkzeug>=3.0.0 in /opt/conda/lib/python3.11/site-packages (from Flask<4->mlflow>=2.8->sagemaker-mlflow->sagemaker) (3.0.3)\n",
      "Requirement already satisfied: itsdangerous>=2.1.2 in /opt/conda/lib/python3.11/site-packages (from Flask<4->mlflow>=2.8->sagemaker-mlflow->sagemaker) (2.2.0)\n",
      "Requirement already satisfied: blinker>=1.6.2 in /opt/conda/lib/python3.11/site-packages (from Flask<4->mlflow>=2.8->sagemaker-mlflow->sagemaker) (1.8.2)\n",
      "Requirement already satisfied: gitdb<5,>=4.0.1 in /opt/conda/lib/python3.11/site-packages (from gitpython<4,>=3.1.9->mlflow>=2.8->sagemaker-mlflow->sagemaker) (4.0.11)\n",
      "Requirement already satisfied: graphql-core<3.3,>=3.1 in /opt/conda/lib/python3.11/site-packages (from graphene<4->mlflow>=2.8->sagemaker-mlflow->sagemaker) (3.2.3)\n",
      "Requirement already satisfied: graphql-relay<3.3,>=3.1 in /opt/conda/lib/python3.11/site-packages (from graphene<4->mlflow>=2.8->sagemaker-mlflow->sagemaker) (3.2.0)\n",
      "Requirement already satisfied: aniso8601<10,>=8 in /opt/conda/lib/python3.11/site-packages (from graphene<4->mlflow>=2.8->sagemaker-mlflow->sagemaker) (9.0.1)\n",
      "Requirement already satisfied: MarkupSafe>=2.0 in /opt/conda/lib/python3.11/site-packages (from Jinja2<4,>=2.11->mlflow>=2.8->sagemaker-mlflow->sagemaker) (2.1.5)\n",
      "Requirement already satisfied: mdurl~=0.1 in /opt/conda/lib/python3.11/site-packages (from markdown-it-py>=2.2.0->rich<14.0.0,>=13.0.0->sagemaker-core<2.0.0,>=1.0.0->sagemaker) (0.1.2)\n",
      "Requirement already satisfied: contourpy>=1.0.1 in /opt/conda/lib/python3.11/site-packages (from matplotlib<4->mlflow>=2.8->sagemaker-mlflow->sagemaker) (1.2.1)\n",
      "Requirement already satisfied: cycler>=0.10 in /opt/conda/lib/python3.11/site-packages (from matplotlib<4->mlflow>=2.8->sagemaker-mlflow->sagemaker) (0.12.1)\n",
      "Requirement already satisfied: fonttools>=4.22.0 in /opt/conda/lib/python3.11/site-packages (from matplotlib<4->mlflow>=2.8->sagemaker-mlflow->sagemaker) (4.53.1)\n",
      "Requirement already satisfied: kiwisolver>=1.3.1 in /opt/conda/lib/python3.11/site-packages (from matplotlib<4->mlflow>=2.8->sagemaker-mlflow->sagemaker) (1.4.5)\n",
      "Requirement already satisfied: pillow>=8 in /opt/conda/lib/python3.11/site-packages (from matplotlib<4->mlflow>=2.8->sagemaker-mlflow->sagemaker) (10.4.0)\n",
      "Requirement already satisfied: pyparsing>=2.3.1 in /opt/conda/lib/python3.11/site-packages (from matplotlib<4->mlflow>=2.8->sagemaker-mlflow->sagemaker) (3.1.2)\n",
      "Requirement already satisfied: deprecated>=1.2.6 in /opt/conda/lib/python3.11/site-packages (from opentelemetry-api<3,>=1.9.0->mlflow>=2.8->sagemaker-mlflow->sagemaker) (1.2.14)\n",
      "Requirement already satisfied: opentelemetry-semantic-conventions==0.47b0 in /opt/conda/lib/python3.11/site-packages (from opentelemetry-sdk<3,>=1.9.0->mlflow>=2.8->sagemaker-mlflow->sagemaker) (0.47b0)\n",
      "Requirement already satisfied: joblib>=1.2.0 in /opt/conda/lib/python3.11/site-packages (from scikit-learn<2->mlflow>=2.8->sagemaker-mlflow->sagemaker) (1.4.2)\n",
      "Requirement already satisfied: threadpoolctl>=2.0.0 in /opt/conda/lib/python3.11/site-packages (from scikit-learn<2->mlflow>=2.8->sagemaker-mlflow->sagemaker) (3.5.0)\n",
      "Requirement already satisfied: greenlet!=0.4.17 in /opt/conda/lib/python3.11/site-packages (from sqlalchemy<3,>=1.4.0->mlflow>=2.8->sagemaker-mlflow->sagemaker) (3.0.3)\n",
      "Requirement already satisfied: wrapt<2,>=1.10 in /opt/conda/lib/python3.11/site-packages (from deprecated>=1.2.6->opentelemetry-api<3,>=1.9.0->mlflow>=2.8->sagemaker-mlflow->sagemaker) (1.16.0)\n",
      "Requirement already satisfied: smmap<6,>=3.0.1 in /opt/conda/lib/python3.11/site-packages (from gitdb<5,>=4.0.1->gitpython<4,>=3.1.9->mlflow>=2.8->sagemaker-mlflow->sagemaker) (5.0.0)\n",
      "Requirement already satisfied: pyasn1-modules>=0.2.1 in /opt/conda/lib/python3.11/site-packages (from google-auth~=2.0->databricks-sdk<1,>=0.20.0->mlflow>=2.8->sagemaker-mlflow->sagemaker) (0.4.0)\n",
      "Requirement already satisfied: rsa<5,>=3.1.4 in /opt/conda/lib/python3.11/site-packages (from google-auth~=2.0->databricks-sdk<1,>=0.20.0->mlflow>=2.8->sagemaker-mlflow->sagemaker) (4.9)\n",
      "Requirement already satisfied: pyasn1<0.7.0,>=0.4.6 in /opt/conda/lib/python3.11/site-packages (from pyasn1-modules>=0.2.1->google-auth~=2.0->databricks-sdk<1,>=0.20.0->mlflow>=2.8->sagemaker-mlflow->sagemaker) (0.6.0)\n"
     ]
    }
   ],
   "source": [
    "!pip install -U sagemaker"
   ]
  },
  {
   "cell_type": "code",
   "execution_count": 30,
   "metadata": {
    "collapsed": false,
    "jupyter": {
     "outputs_hidden": false
    },
    "pycharm": {
     "name": "#%%\n"
    }
   },
   "outputs": [
    {
     "name": "stdout",
     "output_type": "stream",
     "text": [
      "Overwriting preprocessing_predw.py\n"
     ]
    }
   ],
   "source": [
    "%%writefile preprocessing_predw.py\n",
    "\n",
    "import argparse\n",
    "import os\n",
    "import warnings\n",
    "import glob\n",
    "import time\n",
    "import pandas as pd\n",
    "import json\n",
    "import argparse\n",
    "\n",
    "from sklearn.exceptions import DataConversionWarning\n",
    "\n",
    "warnings.filterwarnings(action=\"ignore\", category=DataConversionWarning)\n",
    "start_time = time.time()\n",
    "\n",
    "if __name__ == \"__main__\":\n",
    "    parser = argparse.ArgumentParser()\n",
    "    parser.add_argument(\"--processing-output-filename\")\n",
    "\n",
    "    args, _ = parser.parse_known_args()\n",
    "    print(\"Received arguments {}\".format(args))\n",
    "\n",
    "    input_jsons = glob.glob(\"/opt/ml/processing/input/data/**/*.json\", recursive=True)\n",
    "\n",
    "    df_all = pd.DataFrame()\n",
    "    for name in input_jsons:\n",
    "        print(\"\\nStarting file: {}\".format(name))\n",
    "        df = pd.read_json(name, lines=True)\n",
    "        df_all = df_all.append(df)\n",
    "\n",
    "    output_filename = args.processing_output_filename\n",
    "    final_features_output_path = os.path.join(\"/opt/ml/processing/output\", output_filename)\n",
    "    print(\"Saving processed data to {}\".format(final_features_output_path))\n",
    "    df_all.to_csv(final_features_output_path, header=True, index=False)"
   ]
  },
  {
   "cell_type": "code",
   "execution_count": 31,
   "metadata": {
    "pycharm": {
     "name": "#%%\n"
    }
   },
   "outputs": [],
   "source": [
    "from sagemaker.sklearn.processing import SKLearnProcessor\n",
    "\n",
    "sklearn_processor = SKLearnProcessor(\n",
    "    framework_version=\"1.2-1\", role=role, instance_type=\"ml.m5.xlarge\", instance_count=1\n",
    ")"
   ]
  },
  {
   "cell_type": "code",
   "execution_count": 32,
   "metadata": {
    "pycharm": {
     "name": "#%%\n"
    }
   },
   "outputs": [
    {
     "data": {
      "text/plain": [
       "['s3://sagemaker-us-west-2-533266972807/music-streaming/data/json/sample.json',\n",
       " 's3://sagemaker-us-west-2-533266972807/music-streaming/data/json/simu-1.json',\n",
       " 's3://sagemaker-us-west-2-533266972807/music-streaming/data/json/simu-2.json',\n",
       " 's3://sagemaker-us-west-2-533266972807/music-streaming/data/json/simu-3.json',\n",
       " 's3://sagemaker-us-west-2-533266972807/music-streaming/data/json/simu-4.json']"
      ]
     },
     "execution_count": 32,
     "metadata": {},
     "output_type": "execute_result"
    }
   ],
   "source": [
    "s3_client = boto3.client(\"s3\")\n",
    "list_response = s3_client.list_objects_v2(Bucket=bucket, Prefix=f\"{prefix}/data/json\")\n",
    "s3_input_uris = [f\"s3://{bucket}/{i['Key']}\" for i in list_response[\"Contents\"]]\n",
    "s3_input_uris"
   ]
  },
  {
   "cell_type": "code",
   "execution_count": 33,
   "metadata": {
    "pycharm": {
     "name": "#%%\n"
    }
   },
   "outputs": [],
   "source": [
    "from sagemaker.processing import ProcessingInput, ProcessingOutput\n",
    "\n",
    "processing_inputs = []\n",
    "for i in s3_input_uris:\n",
    "    name = i.split(\"/\")[-1].split(\".\")[0]\n",
    "    processing_input = ProcessingInput(\n",
    "        source=i, input_name=name, destination=f\"/opt/ml/processing/input/data/{name}\"\n",
    "    )\n",
    "    processing_inputs.append(processing_input)"
   ]
  },
  {
   "cell_type": "code",
   "execution_count": 34,
   "metadata": {
    "pycharm": {
     "name": "#%%\n"
    }
   },
   "outputs": [
    {
     "name": "stderr",
     "output_type": "stream",
     "text": [
      "INFO:sagemaker:Creating processing-job with name sagemaker-scikit-learn-2024-10-16-06-50-25-621\n"
     ]
    },
    {
     "name": "stdout",
     "output_type": "stream",
     "text": [
      "............\u001b[34mReceived arguments Namespace(processing_output_filename='full_data.csv')\u001b[0m\n",
      "\u001b[34mStarting file: /opt/ml/processing/input/data/simu-2/simu-2.json\u001b[0m\n",
      "\u001b[34mStarting file: /opt/ml/processing/input/data/simu-4/simu-4.json\u001b[0m\n",
      "\u001b[34mStarting file: /opt/ml/processing/input/data/simu-3/simu-3.json\u001b[0m\n",
      "\u001b[34mStarting file: /opt/ml/processing/input/data/simu-1/simu-1.json\u001b[0m\n",
      "\u001b[34mStarting file: /opt/ml/processing/input/data/sample/sample.json\u001b[0m\n",
      "\u001b[34mSaving processed data to /opt/ml/processing/output/full_data.csv\u001b[0m\n",
      "\n",
      "CPU times: user 1.12 s, sys: 51 ms, total: 1.17 s\n",
      "Wall time: 7min 58s\n"
     ]
    }
   ],
   "source": [
    "%%time\n",
    "processing_output_path = f\"s3://{bucket}/{prefix}/data/processing\"\n",
    "final_features_filename = \"full_data.csv\"\n",
    "\n",
    "sklearn_processor.run(\n",
    "    code=\"preprocessing_predw.py\",\n",
    "    inputs=processing_inputs,\n",
    "    outputs=[\n",
    "        ProcessingOutput(\n",
    "            output_name=\"processed_data\",\n",
    "            source=\"/opt/ml/processing/output\",\n",
    "            destination=processing_output_path,\n",
    "        )\n",
    "    ],\n",
    "    arguments=[\"--processing-output-filename\", final_features_filename],\n",
    ")\n",
    "\n",
    "preprocessing_job_description = sklearn_processor.jobs[-1].describe()"
   ]
  },
  {
   "attachments": {},
   "cell_type": "markdown",
   "metadata": {
    "pycharm": {
     "name": "#%% md\n"
    }
   },
   "source": [
    "Now you can initiate a Data Wrangler flow. An example flow (`dw_example.flow`) is provided in the github repo. \n",
    "\n",
    "From the SageMaker Studio launcher page, choose **New data flow**, then choose **import from S3** and select processing_output_filename. \n",
    "\n",
    "<div>\n",
    "<img src=\"image/mo1.PNG\" width=\"600\"/>\n",
    "   </div>\n",
    "   \n",
    "You can import any .csv format file with SageMaker Data Wrangler, preview your data, and decide what pre-processing steps are needed.\n",
    "  <div>\n",
    "<img src=\"image/mo2.PNG\" width=\"600\"/>\n",
    "   </div> \n",
    "You can choose your pre-processing steps, including drop columns and rename columns from the pre-built solutions, also customize processing and feature engineering code in the custom Pandas code block.\n",
    "<div>\n",
    "<img src=\"image/mo3.PNG\" width=\"600\"/>\n",
    "\n",
    "</div>\n",
    "After everything run through, it will create a Processing job notebook for you. You can run through the notebook to kick off the Processing Job and check the status in the console.\n",
    "\n",
    "<div>\n",
    "<img src=\"image/mo4.PNG\" width=\"600\"/>\n",
    "\n",
    "</div>"
   ]
  },
  {
   "attachments": {},
   "cell_type": "markdown",
   "metadata": {
    "pycharm": {
     "name": "#%% md\n"
    }
   },
   "source": [
    "#### Find the data path of the SageMaker Data Wrangler Job\n",
    "\n",
    "You can get the results from your Data Wrangler Job, check the results, and use it as input for your feature engineering processing job."
   ]
  },
  {
   "cell_type": "code",
   "execution_count": 35,
   "metadata": {
    "pycharm": {
     "name": "#%%\n"
    }
   },
   "outputs": [
    {
     "data": {
      "text/plain": [
       "'s3://sagemaker-us-west-2-533266972807/music-streaming/data/processing/full_data.csv'"
      ]
     },
     "execution_count": 35,
     "metadata": {},
     "output_type": "execute_result"
    }
   ],
   "source": [
    "processing_output_filename = f\"{processing_output_path}/{final_features_filename}\"\n",
    "processing_output_filename"
   ]
  },
  {
   "cell_type": "code",
   "execution_count": 36,
   "metadata": {
    "pycharm": {
     "name": "#%%\n"
    }
   },
   "outputs": [
    {
     "data": {
      "text/plain": [
       "{'metadata': {'version': 1},\n",
       " 'nodes': [{'node_id': '660c3ee3-5207-4ded-b92f-7059831a7aed',\n",
       "   'type': 'SOURCE',\n",
       "   'operator': 'sagemaker.s3_source_0.1',\n",
       "   'parameters': {'dataset_definition': {'__typename': 'S3CreateDatasetDefinitionOutput',\n",
       "     'datasetSourceType': 'S3',\n",
       "     'name': 'full_data.csv',\n",
       "     'description': None,\n",
       "     's3ExecutionContext': {'__typename': 'S3ExecutionContext',\n",
       "      's3Uri': 's3://sagemaker-us-west-2-533266972807/music-streaming/data/processing/full_data.csv',\n",
       "      's3ContentType': 'csv',\n",
       "      's3HasHeader': True}}},\n",
       "   'inputs': [],\n",
       "   'outputs': [{'name': 'default',\n",
       "     'sampling': {'sampling_method': 'sample_by_ratio',\n",
       "      'sample_ratio': 0.06460757939298588}}]},\n",
       "  {'node_id': 'd04eac2a-92a9-4539-b22f-f0f30aa29877',\n",
       "   'type': 'TRANSFORM',\n",
       "   'operator': 'sagemaker.spark.infer_and_cast_type_0.1',\n",
       "   'parameters': {},\n",
       "   'trained_parameters': {'schema': {'ts': 'long',\n",
       "     'userId': 'long',\n",
       "     'sessionId': 'long',\n",
       "     'page': 'string',\n",
       "     'auth': 'string',\n",
       "     'method': 'string',\n",
       "     'status': 'long',\n",
       "     'level': 'string',\n",
       "     'itemInSession': 'long',\n",
       "     'location': 'string',\n",
       "     'userAgent': 'string',\n",
       "     'lastName': 'string',\n",
       "     'firstName': 'string',\n",
       "     'registration': 'float',\n",
       "     'gender': 'string',\n",
       "     'artist': 'string',\n",
       "     'song': 'string',\n",
       "     'length': 'long'}},\n",
       "   'inputs': [{'name': 'default',\n",
       "     'node_id': '660c3ee3-5207-4ded-b92f-7059831a7aed',\n",
       "     'output_name': 'default'}],\n",
       "   'outputs': [{'name': 'default'}]},\n",
       "  {'node_id': 'd1b462ec-bbae-466d-afbd-39e5eab8dcc9',\n",
       "   'type': 'TRANSFORM',\n",
       "   'operator': 'sagemaker.spark.manage_columns_0.1',\n",
       "   'parameters': {'operator': 'Drop column',\n",
       "    'drop_column_parameters': {'column_to_drop': 'method'}},\n",
       "   'inputs': [{'name': 'df',\n",
       "     'node_id': 'd04eac2a-92a9-4539-b22f-f0f30aa29877',\n",
       "     'output_name': 'default'}],\n",
       "   'outputs': [{'name': 'default'}]},\n",
       "  {'node_id': '4dfd1354-1904-4fa4-bff7-56a9e0e50d0a',\n",
       "   'type': 'TRANSFORM',\n",
       "   'operator': 'sagemaker.spark.manage_columns_0.1',\n",
       "   'parameters': {'operator': 'Drop column',\n",
       "    'drop_column_parameters': {'column_to_drop': 'status'}},\n",
       "   'inputs': [{'name': 'df',\n",
       "     'node_id': 'd1b462ec-bbae-466d-afbd-39e5eab8dcc9',\n",
       "     'output_name': 'default'}],\n",
       "   'outputs': [{'name': 'default'}]},\n",
       "  {'node_id': '92ac4b28-bfb1-47bf-848a-de23735a2570',\n",
       "   'type': 'TRANSFORM',\n",
       "   'operator': 'sagemaker.spark.manage_columns_0.1',\n",
       "   'parameters': {'operator': 'Drop column',\n",
       "    'drop_column_parameters': {'column_to_drop': 'location'}},\n",
       "   'inputs': [{'name': 'df',\n",
       "     'node_id': '4dfd1354-1904-4fa4-bff7-56a9e0e50d0a',\n",
       "     'output_name': 'default'}],\n",
       "   'outputs': [{'name': 'default'}]},\n",
       "  {'node_id': 'e1fd74c7-8240-4e99-876e-73b42a063e65',\n",
       "   'type': 'TRANSFORM',\n",
       "   'operator': 'sagemaker.spark.manage_columns_0.1',\n",
       "   'parameters': {'operator': 'Drop column',\n",
       "    'drop_column_parameters': {'column_to_drop': 'userAgent'}},\n",
       "   'inputs': [{'name': 'df',\n",
       "     'node_id': '92ac4b28-bfb1-47bf-848a-de23735a2570',\n",
       "     'output_name': 'default'}],\n",
       "   'outputs': [{'name': 'default'}]},\n",
       "  {'node_id': '1550cb2f-c734-46f8-bfdc-4f8614c30c09',\n",
       "   'type': 'TRANSFORM',\n",
       "   'operator': 'sagemaker.spark.manage_columns_0.1',\n",
       "   'parameters': {'operator': 'Drop column',\n",
       "    'drop_column_parameters': {'column_to_drop': 'lastName'}},\n",
       "   'inputs': [{'name': 'df',\n",
       "     'node_id': 'e1fd74c7-8240-4e99-876e-73b42a063e65',\n",
       "     'output_name': 'default'}],\n",
       "   'outputs': [{'name': 'default'}]},\n",
       "  {'node_id': '32405a27-8e85-4c9b-8142-dd75d56fa75d',\n",
       "   'type': 'TRANSFORM',\n",
       "   'operator': 'sagemaker.spark.manage_columns_0.1',\n",
       "   'parameters': {'operator': 'Drop column',\n",
       "    'drop_column_parameters': {'column_to_drop': 'firstName'}},\n",
       "   'inputs': [{'name': 'df',\n",
       "     'node_id': '1550cb2f-c734-46f8-bfdc-4f8614c30c09',\n",
       "     'output_name': 'default'}],\n",
       "   'outputs': [{'name': 'default'}]},\n",
       "  {'node_id': '7b74dbbc-6f7e-4656-8f78-25272604bc45',\n",
       "   'type': 'TRANSFORM',\n",
       "   'operator': 'sagemaker.spark.handle_missing_0.1',\n",
       "   'parameters': {'operator': 'Drop missing',\n",
       "    'drop_missing_parameters': {'dimension': 'Drop Rows',\n",
       "     'drop_rows_parameters': {'input_column': 'userId'}},\n",
       "    'impute_parameters': {'column_type': 'Numeric',\n",
       "     'numeric_parameters': {'strategy': 'Approximate Median'}}},\n",
       "   'inputs': [{'name': 'df',\n",
       "     'node_id': '32405a27-8e85-4c9b-8142-dd75d56fa75d',\n",
       "     'output_name': 'default'}],\n",
       "   'outputs': [{'name': 'default'}]},\n",
       "  {'node_id': '82cb5ad3-3b9c-428d-9260-ce6efcd4c4f8',\n",
       "   'type': 'TRANSFORM',\n",
       "   'operator': 'sagemaker.spark.handle_missing_0.1',\n",
       "   'parameters': {'operator': 'Drop missing',\n",
       "    'drop_missing_parameters': {'dimension': 'Drop Rows',\n",
       "     'drop_rows_parameters': {'input_column': 'registration'}},\n",
       "    'impute_parameters': {'column_type': 'Numeric',\n",
       "     'numeric_parameters': {'strategy': 'Approximate Median'}}},\n",
       "   'inputs': [{'name': 'df',\n",
       "     'node_id': '7b74dbbc-6f7e-4656-8f78-25272604bc45',\n",
       "     'output_name': 'default'}],\n",
       "   'outputs': [{'name': 'default'}]}]}"
      ]
     },
     "execution_count": 36,
     "metadata": {},
     "output_type": "execute_result"
    }
   ],
   "source": [
    "flow_file = \"dw_example.flow\"\n",
    "\n",
    "# read flow file and change the s3 location to our `processing_output_filename`\n",
    "with open(flow_file, \"r\") as f:\n",
    "    flow = f.read()\n",
    "\n",
    "    flow = json.loads(flow)\n",
    "    flow[\"nodes\"][0][\"parameters\"][\"dataset_definition\"][\"s3ExecutionContext\"][\n",
    "        \"s3Uri\"\n",
    "    ] = processing_output_filename\n",
    "\n",
    "with open(\"dw_example.flow\", \"w\") as f:\n",
    "    json.dump(flow, f)\n",
    "flow"
   ]
  },
  {
   "attachments": {},
   "cell_type": "markdown",
   "metadata": {
    "pycharm": {
     "name": "#%% md\n"
    }
   },
   "source": [
    "## Feature Engineering with SageMaker Processing\n",
    "\n",
    "\n",
    "For user churn analysis, usually, you can consider build features from the following aspects:\n",
    "\n",
    "* Generate base features:\n",
    "     * user behavior features (listening behavior, app behavior).\n",
    "     * customer demographic features.\n",
    "     * customer support features (interactions, ratings, etc.)\n",
    "* Formulate time series as features:\n",
    "    * construct streaming time as time series.\n",
    "    * build features in the different time windows (e.g. total songs listened in the last 7 days, 30 days, 180 days, etc.)\n",
    "   \n",
    "For this use case, after exploring the data and with all the findings you gathered, now is the time to create features used for your model. Since the data set is time series, you can enrich your features by adding a time factor to it: e.g., for the total number of songs listened, you can create features like total songs listened in the last 7 days, last 30 days, last 90 days, last 180 days, etc. The features built for these use cases will be at the user level - each row represents one user, and will include the following:\n",
    "\n",
    "* daily features:\n",
    "     * average_events_weekday (numerical): average number of events per day during weekday\n",
    "     * average_events_weekend (numerical): average number of events per day during the weekend\n",
    "     * num_ads_7d: number of ads in last 7 days\n",
    "     * num_error_7d: total errors encountered in last 7 days\n",
    "     * num_songs_played_7d: total songs played in last 7 days\n",
    "     * num_songs_played_30d: total songs played in last 30 days\n",
    "     * num_songs_played_90d: total songs played in last 90 days\n",
    "* user features:\n",
    "     * num_artists (numerical): number of artists the user has listened to\n",
    "     * num_songs (numerical): number of songs played\n",
    "     * num_ads (numerical): number of ads played\n",
    "     * num_thumbsup (numerical): number of times the user likes a song\n",
    "     * num_thumbsdown (numerical): number of times the user dislikes a song\n",
    "     * num_playlist (numerical): number of times user adds a song to a playlist\n",
    "     * num_addfriend (numerical): number of times user adds a friend\n",
    "     * num_error (numerical): number of times user encountered an error\n",
    "     * user_downgrade (binary): user has downgraded plan\n",
    "     * user_upgrade (binary): user has upgraded plan\n",
    "     * percentage_song: percentage of the user's action is 'NextSong' (only listens to songs) \n",
    "     * percentage_ad: percentage of the user's action is 'Roll Advert'\n",
    "     * repeats_ratio: percentage of total songs that are repeats\n",
    "     * days_since_active: days since the user registered and leave (if the user cancels)\n",
    "* Session features:\n",
    "     * num_sessions: number of total sessions\n",
    "     * avg_time_per_session: average time spent per session\n",
    "     * avg_events_per_session: average number of events per session\n",
    "     * avg_gap_between_session: average time between sessions\n",
    "   \n",
    "The following function will create the processing job with SageMaker Processing, a new Python SDK that lets data scientists and ML engineers easily run preprocessing, postprocessing and model evaluation workloads on Amazon SageMaker. This SDK uses SageMaker’s built-in container for scikit-learn, possibly the most popular library for data set transformation.\n",
    "You can find a complete guide to the SageMaker Processing job in [this blog](https://aws.amazon.com/blogs/aws/amazon-sagemaker-processing-fully-managed-data-processing-and-model-evaluation/)."
   ]
  },
  {
   "cell_type": "code",
   "execution_count": 37,
   "metadata": {
    "pycharm": {
     "name": "#%%\n"
    }
   },
   "outputs": [
    {
     "name": "stderr",
     "output_type": "stream",
     "text": [
      "INFO:sagemaker.image_uris:Defaulting to only available Python version: py3\n"
     ]
    }
   ],
   "source": [
    "from sagemaker.sklearn.processing import SKLearnProcessor\n",
    "\n",
    "sklearn_processor = SKLearnProcessor(\n",
    "    #     framework_version='0.20.0',\n",
    "    framework_version=\"1.2-1\",\n",
    "    role=role,\n",
    "    instance_type=\"ml.m5.xlarge\",\n",
    "    instance_count=1,\n",
    ")"
   ]
  },
  {
   "cell_type": "code",
   "execution_count": 38,
   "metadata": {
    "pycharm": {
     "name": "#%%\n"
    }
   },
   "outputs": [],
   "source": [
    "### SAVE THE OUTPUT FILE NAME FROM PROCESSING JOB\n",
    "processing_job_output_name = \"processing_job_output.csv\""
   ]
  },
  {
   "cell_type": "code",
   "execution_count": 39,
   "metadata": {
    "pycharm": {
     "name": "#%%\n"
    }
   },
   "outputs": [
    {
     "name": "stdout",
     "output_type": "stream",
     "text": [
      "Overwriting preprocessing.py\n"
     ]
    }
   ],
   "source": [
    "%%writefile preprocessing.py\n",
    "\n",
    "import sys\n",
    "import subprocess\n",
    "\n",
    "import os\n",
    "import warnings\n",
    "import time\n",
    "import argparse\n",
    "import boto3\n",
    "import pandas as pd\n",
    "\n",
    "start_time = time.time()\n",
    "\n",
    "if __name__ == \"__main__\":\n",
    "    parser = argparse.ArgumentParser()\n",
    "    parser.add_argument(\"--dw-output-path\")\n",
    "    parser.add_argument(\"--processing-output-filename\")\n",
    "\n",
    "    args, _ = parser.parse_known_args()\n",
    "    print(\"Received arguments {}\".format(args))\n",
    "\n",
    "    data_s3_uri = args.dw_output_path\n",
    "    output_filename = args.processing_output_filename\n",
    "\n",
    "    bucket = data_s3_uri.split(\"/\")[2]\n",
    "    key = \"/\".join(data_s3_uri.split(\"/\")[3:] + [\"full_data.csv\"])\n",
    "    s3_client = boto3.client(\"s3\")\n",
    "    s3_client.download_file(bucket, key, \"full_data.csv\")\n",
    "    df = pd.read_csv(\"full_data.csv\")\n",
    "\n",
    "    ## convert to time\n",
    "    df[\"date\"] = pd.to_datetime(df[\"ts\"], unit=\"ms\")\n",
    "    df[\"ts_dow\"] = df[\"date\"].dt.weekday\n",
    "    df[\"ts_date_day\"] = df[\"date\"].dt.date\n",
    "    df[\"ts_is_weekday\"] = [1 if x in [0, 1, 2, 3, 4] else 0 for x in df[\"ts_dow\"]]\n",
    "    df[\"registration_ts\"] = pd.to_datetime(df[\"registration\"], unit=\"ms\").dt.date\n",
    "    ## add labels\n",
    "    df[\"churned_event\"] = [1 if x == \"Cancellation Confirmation\" else 0 for x in df[\"page\"]]\n",
    "    df[\"user_churned\"] = df.groupby(\"userId\")[\"churned_event\"].transform(\"max\")\n",
    "\n",
    "    ## convert pages categorical variables to numerical\n",
    "    events_list = [\n",
    "        \"NextSong\",\n",
    "        \"Thumbs Down\",\n",
    "        \"Thumbs Up\",\n",
    "        \"Add to Playlist\",\n",
    "        \"Roll Advert\",\n",
    "        \"Add Friend\",\n",
    "        \"Downgrade\",\n",
    "        \"Upgrade\",\n",
    "        \"Error\",\n",
    "    ]\n",
    "    usage_column_name = []\n",
    "    for event in events_list:\n",
    "        event_name = \"_\".join(event.split()).lower()\n",
    "        usage_column_name.append(event_name)\n",
    "        df[event_name] = [1 if x == event else 0 for x in df[\"page\"]]\n",
    "    ## feature engineering\n",
    "    # average_events_weekday (numerical): average number of events per day during weekday\n",
    "    # average_events_weekend (numerical): average number of events per day during the weekend\n",
    "    base_df = (\n",
    "        df.groupby([\"userId\", \"ts_date_day\", \"ts_is_weekday\"])\n",
    "        .agg({\"page\": \"count\"})\n",
    "        .groupby([\"userId\", \"ts_is_weekday\"])[\"page\"]\n",
    "        .mean()\n",
    "        .unstack(fill_value=0)\n",
    "        .reset_index()\n",
    "        .rename(columns={0: \"average_events_weekend\", 1: \"average_events_weekday\"})\n",
    "    )\n",
    "\n",
    "    # num_ads_7d, num_songs_played_7d, num_songs_played_30d, num_songs_played_90d, num_ads_7d, num_error_7d\n",
    "    base_df_daily = (\n",
    "        df.groupby([\"userId\", \"ts_date_day\"])\n",
    "        .agg({\"page\": \"count\", \"nextsong\": \"sum\", \"roll_advert\": \"sum\", \"error\": \"sum\"})\n",
    "        .reset_index()\n",
    "    )\n",
    "    feature34 = (\n",
    "        base_df_daily.groupby([\"userId\", \"ts_date_day\"])\n",
    "        .tail(7)\n",
    "        .groupby([\"userId\"])\n",
    "        .agg({\"nextsong\": \"sum\", \"roll_advert\": \"sum\", \"error\": \"sum\"})\n",
    "        .reset_index()\n",
    "        .rename(\n",
    "            columns={\n",
    "                \"nextsong\": \"num_songs_played_7d\",\n",
    "                \"roll_advert\": \"num_ads_7d\",\n",
    "                \"error\": \"num_error_7d\",\n",
    "            }\n",
    "        )\n",
    "    )\n",
    "    feature5 = (\n",
    "        base_df_daily.groupby([\"userId\", \"ts_date_day\"])\n",
    "        .tail(30)\n",
    "        .groupby([\"userId\"])\n",
    "        .agg({\"nextsong\": \"sum\"})\n",
    "        .reset_index()\n",
    "        .rename(columns={\"nextsong\": \"num_songs_played_30d\"})\n",
    "    )\n",
    "    feature6 = (\n",
    "        base_df_daily.groupby([\"userId\", \"ts_date_day\"])\n",
    "        .tail(90)\n",
    "        .groupby([\"userId\"])\n",
    "        .agg({\"nextsong\": \"sum\"})\n",
    "        .reset_index()\n",
    "        .rename(columns={\"nextsong\": \"num_songs_played_90d\"})\n",
    "    )\n",
    "    # num_artists, num_songs, num_ads, num_thumbsup, num_thumbsdown, num_playlist, num_addfriend, num_error, user_downgrade,\n",
    "    # user_upgrade, percentage_ad, days_since_active\n",
    "    base_df_user = (\n",
    "        df.groupby([\"userId\"])\n",
    "        .agg(\n",
    "            {\n",
    "                \"page\": \"count\",\n",
    "                \"nextsong\": \"sum\",\n",
    "                \"artist\": \"nunique\",\n",
    "                \"song\": \"nunique\",\n",
    "                \"thumbs_down\": \"sum\",\n",
    "                \"thumbs_up\": \"sum\",\n",
    "                \"add_to_playlist\": \"sum\",\n",
    "                \"roll_advert\": \"sum\",\n",
    "                \"add_friend\": \"sum\",\n",
    "                \"downgrade\": \"max\",\n",
    "                \"upgrade\": \"max\",\n",
    "                \"error\": \"sum\",\n",
    "                \"ts_date_day\": \"max\",\n",
    "                \"registration_ts\": \"min\",\n",
    "                \"user_churned\": \"max\",\n",
    "            }\n",
    "        )\n",
    "        .reset_index()\n",
    "    )\n",
    "    base_df_user[\"percentage_ad\"] = base_df_user[\"roll_advert\"] / base_df_user[\"page\"]\n",
    "    base_df_user[\"days_since_active\"] = (\n",
    "        base_df_user[\"ts_date_day\"] - base_df_user[\"registration_ts\"]\n",
    "    ).dt.days\n",
    "    # repeats ratio\n",
    "    base_df_user[\"repeats_ratio\"] = 1 - base_df_user[\"song\"] / base_df_user[\"nextsong\"]\n",
    "\n",
    "    # num_sessions, avg_time_per_session, avg_events_per_session,\n",
    "    base_df_session = (\n",
    "        df.groupby([\"userId\", \"sessionId\"])\n",
    "        .agg({\"length\": \"sum\", \"page\": \"count\", \"date\": \"min\"})\n",
    "        .reset_index()\n",
    "    )\n",
    "    base_df_session[\"prev_session_ts\"] = base_df_session.groupby([\"userId\"])[\"date\"].shift(1)\n",
    "    base_df_session[\"gap_session\"] = (\n",
    "        base_df_session[\"date\"] - base_df_session[\"prev_session_ts\"]\n",
    "    ).dt.days\n",
    "    user_sessions = (\n",
    "        base_df_session.groupby(\"userId\")\n",
    "        .agg({\"sessionId\": \"count\", \"length\": \"mean\", \"page\": \"mean\", \"gap_session\": \"mean\"})\n",
    "        .reset_index()\n",
    "        .rename(\n",
    "            columns={\n",
    "                \"sessionId\": \"num_sessions\",\n",
    "                \"length\": \"avg_time_per_session\",\n",
    "                \"page\": \"avg_events_per_session\",\n",
    "                \"gap_session\": \"avg_gap_between_session\",\n",
    "            }\n",
    "        )\n",
    "    )\n",
    "\n",
    "    # merge features together\n",
    "    base_df[\"userId\"] = base_df[\"userId\"].astype(\"int\")\n",
    "    final_feature_df = base_df.merge(feature34, how=\"left\", on=\"userId\")\n",
    "    final_feature_df = final_feature_df.merge(feature5, how=\"left\", on=\"userId\")\n",
    "    final_feature_df = final_feature_df.merge(feature6, how=\"left\", on=\"userId\")\n",
    "    final_feature_df = final_feature_df.merge(user_sessions, how=\"left\", on=\"userId\")\n",
    "    final_feature_df = final_feature_df.merge(base_df_user, how=\"left\", on=\"userId\")\n",
    "\n",
    "    final_feature_df = final_feature_df.fillna(0)\n",
    "    # renaming columns\n",
    "    final_feature_df.columns = [\n",
    "        \"userId\",\n",
    "        \"average_events_weekend\",\n",
    "        \"average_events_weekday\",\n",
    "        \"num_songs_played_7d\",\n",
    "        \"num_ads_7d\",\n",
    "        \"num_error_7d\",\n",
    "        \"num_songs_played_30d\",\n",
    "        \"num_songs_played_90d\",\n",
    "        \"num_sessions\",\n",
    "        \"avg_time_per_session\",\n",
    "        \"avg_events_per_session\",\n",
    "        \"avg_gap_between_session\",\n",
    "        \"num_events\",\n",
    "        \"num_songs\",\n",
    "        \"num_artists\",\n",
    "        \"num_unique_songs\",\n",
    "        \"num_thumbs_down\",\n",
    "        \"num_thumbs_up\",\n",
    "        \"num_add_to_playlist\",\n",
    "        \"num_ads\",\n",
    "        \"num_add_friend\",\n",
    "        \"num_downgrade\",\n",
    "        \"num_upgrade\",\n",
    "        \"num_error\",\n",
    "        \"ts_date_day\",\n",
    "        \"registration_ts\",\n",
    "        \"user_churned\",\n",
    "        \"percentage_ad\",\n",
    "        \"days_since_active\",\n",
    "        \"repeats_ratio\",\n",
    "    ]\n",
    "    # only keep created feature columns\n",
    "    final_feature_df = final_feature_df[\n",
    "        [\n",
    "            \"userId\",\n",
    "            \"user_churned\",\n",
    "            \"average_events_weekend\",\n",
    "            \"average_events_weekday\",\n",
    "            \"num_songs_played_7d\",\n",
    "            \"num_ads_7d\",\n",
    "            \"num_error_7d\",\n",
    "            \"num_songs_played_30d\",\n",
    "            \"num_songs_played_90d\",\n",
    "            \"num_sessions\",\n",
    "            \"avg_time_per_session\",\n",
    "            \"avg_events_per_session\",\n",
    "            \"avg_gap_between_session\",\n",
    "            \"num_events\",\n",
    "            \"num_songs\",\n",
    "            \"num_artists\",\n",
    "            \"num_thumbs_down\",\n",
    "            \"num_thumbs_up\",\n",
    "            \"num_add_to_playlist\",\n",
    "            \"num_ads\",\n",
    "            \"num_add_friend\",\n",
    "            \"num_downgrade\",\n",
    "            \"num_upgrade\",\n",
    "            \"num_error\",\n",
    "            \"percentage_ad\",\n",
    "            \"days_since_active\",\n",
    "            \"repeats_ratio\",\n",
    "        ]\n",
    "    ]\n",
    "\n",
    "    print(\"shape of file to append:\\t\\t{}\".format(final_feature_df.shape))\n",
    "    iter_end_time = time.time()\n",
    "    end_time = time.time()\n",
    "    print(\"minutes elapsed: {}\".format(str((end_time - start_time) / 60)))\n",
    "\n",
    "    final_features_output_path = os.path.join(\"/opt/ml/processing/output\", output_filename)\n",
    "    print(\"Saving processed data to {}\".format(final_features_output_path))\n",
    "    final_feature_df.to_csv(final_features_output_path, header=True, index=False)"
   ]
  },
  {
   "cell_type": "code",
   "execution_count": 40,
   "metadata": {
    "pycharm": {
     "name": "#%%\n"
    }
   },
   "outputs": [],
   "source": [
    "output_path = processing_output_filename"
   ]
  },
  {
   "cell_type": "code",
   "execution_count": 41,
   "metadata": {
    "pycharm": {
     "name": "#%%\n"
    },
    "scrolled": true
   },
   "outputs": [
    {
     "name": "stderr",
     "output_type": "stream",
     "text": [
      "INFO:sagemaker:Creating processing-job with name sagemaker-scikit-learn-2024-10-16-06-58-24-168\n"
     ]
    },
    {
     "name": "stdout",
     "output_type": "stream",
     "text": [
      "...........\u001b[34mReceived arguments Namespace(dw_output_path='s3://sagemaker-us-west-2-533266972807/music-streaming/data/processing', processing_output_filename='processing_job_output.csv')\u001b[0m\n",
      "\u001b[34mshape of file to append:#011#011(1014, 27)\u001b[0m\n",
      "\u001b[34mminutes elapsed: 1.0555336991945903\u001b[0m\n",
      "\u001b[34mSaving processed data to /opt/ml/processing/output/processing_job_output.csv\u001b[0m\n",
      "\n",
      "CPU times: user 806 ms, sys: 29.9 ms, total: 836 ms\n",
      "Wall time: 5min 24s\n"
     ]
    }
   ],
   "source": [
    "%%time\n",
    "from sagemaker.processing import ProcessingInput, ProcessingOutput\n",
    "\n",
    "processing_job_output_path = f\"s3://{bucket}/{prefix}/data/processing\"\n",
    "\n",
    "sklearn_processor.run(\n",
    "    code=\"preprocessing.py\",\n",
    "    outputs=[\n",
    "        ProcessingOutput(\n",
    "            output_name=\"processed_data\",\n",
    "            source=\"/opt/ml/processing/output\",\n",
    "            destination=processing_job_output_path,\n",
    "        )\n",
    "    ],\n",
    "    arguments=[\n",
    "        \"--dw-output-path\",\n",
    "        processing_job_output_path,\n",
    "        \"--processing-output-filename\",\n",
    "        processing_job_output_name,\n",
    "    ],\n",
    ")\n",
    "\n",
    "preprocessing_job_description = sklearn_processor.jobs[-1].describe()"
   ]
  },
  {
   "cell_type": "code",
   "execution_count": 42,
   "metadata": {
    "pycharm": {
     "name": "#%%\n"
    }
   },
   "outputs": [
    {
     "data": {
      "text/plain": [
       "{'ProcessingInputs': [{'InputName': 'code',\n",
       "   'AppManaged': False,\n",
       "   'S3Input': {'S3Uri': 's3://sagemaker-us-west-2-533266972807/sagemaker-scikit-learn-2024-10-16-06-58-24-168/input/code/preprocessing.py',\n",
       "    'LocalPath': '/opt/ml/processing/input/code',\n",
       "    'S3DataType': 'S3Prefix',\n",
       "    'S3InputMode': 'File',\n",
       "    'S3DataDistributionType': 'FullyReplicated',\n",
       "    'S3CompressionType': 'None'}}],\n",
       " 'ProcessingOutputConfig': {'Outputs': [{'OutputName': 'processed_data',\n",
       "    'S3Output': {'S3Uri': 's3://sagemaker-us-west-2-533266972807/music-streaming/data/processing',\n",
       "     'LocalPath': '/opt/ml/processing/output',\n",
       "     'S3UploadMode': 'EndOfJob'},\n",
       "    'AppManaged': False}]},\n",
       " 'ProcessingJobName': 'sagemaker-scikit-learn-2024-10-16-06-58-24-168',\n",
       " 'ProcessingResources': {'ClusterConfig': {'InstanceCount': 1,\n",
       "   'InstanceType': 'ml.m5.xlarge',\n",
       "   'VolumeSizeInGB': 30}},\n",
       " 'StoppingCondition': {'MaxRuntimeInSeconds': 86400},\n",
       " 'AppSpecification': {'ImageUri': '246618743249.dkr.ecr.us-west-2.amazonaws.com/sagemaker-scikit-learn:1.2-1-cpu-py3',\n",
       "  'ContainerEntrypoint': ['python3',\n",
       "   '/opt/ml/processing/input/code/preprocessing.py'],\n",
       "  'ContainerArguments': ['--dw-output-path',\n",
       "   's3://sagemaker-us-west-2-533266972807/music-streaming/data/processing',\n",
       "   '--processing-output-filename',\n",
       "   'processing_job_output.csv']},\n",
       " 'RoleArn': 'arn:aws:iam::533266972807:role/service-role/AmazonSageMaker-ExecutionRole-20241011T171222',\n",
       " 'ProcessingJobArn': 'arn:aws:sagemaker:us-west-2:533266972807:processing-job/sagemaker-scikit-learn-2024-10-16-06-58-24-168',\n",
       " 'ProcessingJobStatus': 'Completed',\n",
       " 'ProcessingEndTime': datetime.datetime(2024, 10, 16, 7, 1, 25, tzinfo=tzlocal()),\n",
       " 'ProcessingStartTime': datetime.datetime(2024, 10, 16, 6, 59, 5, tzinfo=tzlocal()),\n",
       " 'LastModifiedTime': datetime.datetime(2024, 10, 16, 7, 3, 26, 248000, tzinfo=tzlocal()),\n",
       " 'CreationTime': datetime.datetime(2024, 10, 16, 6, 58, 24, 671000, tzinfo=tzlocal()),\n",
       " 'ResponseMetadata': {'RequestId': '90e846fa-3ed5-446b-a9b0-b93578687111',\n",
       "  'HTTPStatusCode': 200,\n",
       "  'HTTPHeaders': {'x-amzn-requestid': '90e846fa-3ed5-446b-a9b0-b93578687111',\n",
       "   'content-type': 'application/x-amz-json-1.1',\n",
       "   'content-length': '1802',\n",
       "   'date': 'Wed, 16 Oct 2024 07:03:48 GMT'},\n",
       "  'RetryAttempts': 0}}"
      ]
     },
     "execution_count": 42,
     "metadata": {},
     "output_type": "execute_result"
    }
   ],
   "source": [
    "preprocessing_job_description"
   ]
  },
  {
   "attachments": {},
   "cell_type": "markdown",
   "metadata": {
    "pycharm": {
     "name": "#%% md\n"
    }
   },
   "source": [
    "Congratulations! You have preprocessed the data. You can proceed to modelling."
   ]
  },
  {
   "attachments": {},
   "cell_type": "markdown",
   "metadata": {
    "pycharm": {
     "name": "#%% md\n"
    }
   },
   "source": [
    "### Data Splitting\n",
    "\n",
    "You formulated the use case as a classification problem on user level, so you can randomly split your data from last step into train/validation/test. If you want to predict \"will user X churn in the next Y days\" on per user per day level, you should think about spliting data in chronological order instead of random. \n",
    "\n",
    "You should split the data and make sure that data of both classes exist in your train, validation and test sets, to make sure both classes are represented in your data. "
   ]
  },
  {
   "attachments": {},
   "cell_type": "markdown",
   "metadata": {
    "pycharm": {
     "name": "#%% md\n"
    }
   },
   "source": [
    "#### Find the output of Processing Job"
   ]
  },
  {
   "cell_type": "code",
   "execution_count": 43,
   "metadata": {
    "pycharm": {
     "name": "#%%\n"
    }
   },
   "outputs": [
    {
     "data": {
      "text/plain": [
       "'s3://sagemaker-us-west-2-533266972807/music-streaming/data/processing/processing_job_output.csv'"
      ]
     },
     "execution_count": 43,
     "metadata": {},
     "output_type": "execute_result"
    }
   ],
   "source": [
    "processing_job_output_uri = f\"{processing_job_output_path}/{processing_job_output_name}\"\n",
    "processing_job_output_uri"
   ]
  },
  {
   "cell_type": "code",
   "execution_count": 44,
   "metadata": {
    "pycharm": {
     "name": "#%%\n"
    }
   },
   "outputs": [
    {
     "name": "stdout",
     "output_type": "stream",
     "text": [
      "download: s3://sagemaker-us-west-2-533266972807/music-streaming/data/processing/processing_job_output.csv to data/processing_job_output.csv\n"
     ]
    }
   ],
   "source": [
    "!aws s3 cp $processing_job_output_uri ./data"
   ]
  },
  {
   "cell_type": "code",
   "execution_count": 45,
   "metadata": {
    "pycharm": {
     "name": "#%%\n"
    }
   },
   "outputs": [],
   "source": [
    "processed_data = pd.read_csv(processing_job_output_uri)"
   ]
  },
  {
   "cell_type": "code",
   "execution_count": 46,
   "metadata": {
    "pycharm": {
     "name": "#%%\n"
    }
   },
   "outputs": [],
   "source": [
    "# Optional: you can also load the processed data from the provided feature set\n",
    "# processed_data = pd.read_csv('./data/full_feature_data.csv')"
   ]
  },
  {
   "cell_type": "code",
   "execution_count": 47,
   "metadata": {
    "pycharm": {
     "name": "#%%\n"
    }
   },
   "outputs": [
    {
     "data": {
      "text/html": [
       "<div>\n",
       "<style scoped>\n",
       "    .dataframe tbody tr th:only-of-type {\n",
       "        vertical-align: middle;\n",
       "    }\n",
       "\n",
       "    .dataframe tbody tr th {\n",
       "        vertical-align: top;\n",
       "    }\n",
       "\n",
       "    .dataframe thead th {\n",
       "        text-align: right;\n",
       "    }\n",
       "</style>\n",
       "<table border=\"1\" class=\"dataframe\">\n",
       "  <thead>\n",
       "    <tr style=\"text-align: right;\">\n",
       "      <th></th>\n",
       "      <th>userId</th>\n",
       "      <th>user_churned</th>\n",
       "      <th>average_events_weekend</th>\n",
       "      <th>average_events_weekday</th>\n",
       "      <th>num_songs_played_7d</th>\n",
       "      <th>num_ads_7d</th>\n",
       "      <th>num_error_7d</th>\n",
       "      <th>num_songs_played_30d</th>\n",
       "      <th>num_songs_played_90d</th>\n",
       "      <th>num_sessions</th>\n",
       "      <th>...</th>\n",
       "      <th>num_thumbs_up</th>\n",
       "      <th>num_add_to_playlist</th>\n",
       "      <th>num_ads</th>\n",
       "      <th>num_add_friend</th>\n",
       "      <th>num_downgrade</th>\n",
       "      <th>num_upgrade</th>\n",
       "      <th>num_error</th>\n",
       "      <th>percentage_ad</th>\n",
       "      <th>days_since_active</th>\n",
       "      <th>repeats_ratio</th>\n",
       "    </tr>\n",
       "  </thead>\n",
       "  <tbody>\n",
       "    <tr>\n",
       "      <th>0</th>\n",
       "      <td>11001</td>\n",
       "      <td>0.0</td>\n",
       "      <td>94.9375</td>\n",
       "      <td>76.304348</td>\n",
       "      <td>4135</td>\n",
       "      <td>7</td>\n",
       "      <td>1</td>\n",
       "      <td>4135</td>\n",
       "      <td>4135</td>\n",
       "      <td>51</td>\n",
       "      <td>...</td>\n",
       "      <td>293</td>\n",
       "      <td>140</td>\n",
       "      <td>7</td>\n",
       "      <td>81</td>\n",
       "      <td>1</td>\n",
       "      <td>1</td>\n",
       "      <td>1</td>\n",
       "      <td>0.001392</td>\n",
       "      <td>359</td>\n",
       "      <td>0.179444</td>\n",
       "    </tr>\n",
       "    <tr>\n",
       "      <th>1</th>\n",
       "      <td>11002</td>\n",
       "      <td>0.0</td>\n",
       "      <td>70.5000</td>\n",
       "      <td>76.666667</td>\n",
       "      <td>476</td>\n",
       "      <td>1</td>\n",
       "      <td>0</td>\n",
       "      <td>476</td>\n",
       "      <td>476</td>\n",
       "      <td>7</td>\n",
       "      <td>...</td>\n",
       "      <td>41</td>\n",
       "      <td>16</td>\n",
       "      <td>1</td>\n",
       "      <td>14</td>\n",
       "      <td>1</td>\n",
       "      <td>0</td>\n",
       "      <td>0</td>\n",
       "      <td>0.001664</td>\n",
       "      <td>265</td>\n",
       "      <td>0.052521</td>\n",
       "    </tr>\n",
       "    <tr>\n",
       "      <th>2</th>\n",
       "      <td>11003</td>\n",
       "      <td>1.0</td>\n",
       "      <td>98.7500</td>\n",
       "      <td>120.875000</td>\n",
       "      <td>3867</td>\n",
       "      <td>12</td>\n",
       "      <td>9</td>\n",
       "      <td>3867</td>\n",
       "      <td>3867</td>\n",
       "      <td>37</td>\n",
       "      <td>...</td>\n",
       "      <td>272</td>\n",
       "      <td>103</td>\n",
       "      <td>12</td>\n",
       "      <td>69</td>\n",
       "      <td>1</td>\n",
       "      <td>1</td>\n",
       "      <td>9</td>\n",
       "      <td>0.002576</td>\n",
       "      <td>66</td>\n",
       "      <td>0.175330</td>\n",
       "    </tr>\n",
       "    <tr>\n",
       "      <th>3</th>\n",
       "      <td>11004</td>\n",
       "      <td>1.0</td>\n",
       "      <td>70.0000</td>\n",
       "      <td>120.444444</td>\n",
       "      <td>1084</td>\n",
       "      <td>2</td>\n",
       "      <td>1</td>\n",
       "      <td>1084</td>\n",
       "      <td>1084</td>\n",
       "      <td>7</td>\n",
       "      <td>...</td>\n",
       "      <td>68</td>\n",
       "      <td>30</td>\n",
       "      <td>2</td>\n",
       "      <td>9</td>\n",
       "      <td>1</td>\n",
       "      <td>0</td>\n",
       "      <td>1</td>\n",
       "      <td>0.001546</td>\n",
       "      <td>48</td>\n",
       "      <td>0.076568</td>\n",
       "    </tr>\n",
       "  </tbody>\n",
       "</table>\n",
       "<p>4 rows × 27 columns</p>\n",
       "</div>"
      ],
      "text/plain": [
       "   userId  user_churned  average_events_weekend  average_events_weekday  \\\n",
       "0   11001           0.0                 94.9375               76.304348   \n",
       "1   11002           0.0                 70.5000               76.666667   \n",
       "2   11003           1.0                 98.7500              120.875000   \n",
       "3   11004           1.0                 70.0000              120.444444   \n",
       "\n",
       "   num_songs_played_7d  num_ads_7d  num_error_7d  num_songs_played_30d  \\\n",
       "0                 4135           7             1                  4135   \n",
       "1                  476           1             0                   476   \n",
       "2                 3867          12             9                  3867   \n",
       "3                 1084           2             1                  1084   \n",
       "\n",
       "   num_songs_played_90d  num_sessions  ...  num_thumbs_up  \\\n",
       "0                  4135            51  ...            293   \n",
       "1                   476             7  ...             41   \n",
       "2                  3867            37  ...            272   \n",
       "3                  1084             7  ...             68   \n",
       "\n",
       "   num_add_to_playlist  num_ads  num_add_friend  num_downgrade  num_upgrade  \\\n",
       "0                  140        7              81              1            1   \n",
       "1                   16        1              14              1            0   \n",
       "2                  103       12              69              1            1   \n",
       "3                   30        2               9              1            0   \n",
       "\n",
       "   num_error  percentage_ad  days_since_active  repeats_ratio  \n",
       "0          1       0.001392                359       0.179444  \n",
       "1          0       0.001664                265       0.052521  \n",
       "2          9       0.002576                 66       0.175330  \n",
       "3          1       0.001546                 48       0.076568  \n",
       "\n",
       "[4 rows x 27 columns]"
      ]
     },
     "execution_count": 47,
     "metadata": {},
     "output_type": "execute_result"
    }
   ],
   "source": [
    "processed_data.head(4)"
   ]
  },
  {
   "attachments": {},
   "cell_type": "markdown",
   "metadata": {
    "pycharm": {
     "name": "#%% md\n"
    }
   },
   "source": [
    "#### Split data to train/validation/test by 70/20/10"
   ]
  },
  {
   "cell_type": "code",
   "execution_count": 48,
   "metadata": {
    "pycharm": {
     "name": "#%%\n"
    }
   },
   "outputs": [
    {
     "name": "stderr",
     "output_type": "stream",
     "text": [
      "/opt/conda/lib/python3.11/site-packages/numpy/core/fromnumeric.py:59: FutureWarning: 'DataFrame.swapaxes' is deprecated and will be removed in a future version. Please use 'DataFrame.transpose' instead.\n",
      "  return bound(*args, **kwds)\n"
     ]
    }
   ],
   "source": [
    "data = processed_data.sample(frac=1, random_state=1729)\n",
    "grouped_df = data.groupby(\"user_churned\")\n",
    "arr_list = [np.split(g, [int(0.7 * len(g)), int(0.9 * len(g))]) for i, g in grouped_df]\n",
    "\n",
    "train_data = pd.concat([t[0] for t in arr_list])\n",
    "validation_data = pd.concat([t[1] for t in arr_list])\n",
    "test_data = pd.concat([v[2] for v in arr_list])"
   ]
  },
  {
   "cell_type": "code",
   "execution_count": 49,
   "metadata": {
    "pycharm": {
     "name": "#%%\n"
    }
   },
   "outputs": [],
   "source": [
    "def process_data(data, name, header=False):\n",
    "    data = data.drop(columns=[\"userId\"])\n",
    "    data = pd.concat([data[\"user_churned\"], data.drop([\"user_churned\"], axis=1)], axis=1)\n",
    "    data.to_csv(name, header=header, index=False)"
   ]
  },
  {
   "cell_type": "code",
   "execution_count": 50,
   "metadata": {
    "pycharm": {
     "name": "#%%\n"
    }
   },
   "outputs": [],
   "source": [
    "process_data(train_data, \"data/train_updated.csv\")\n",
    "process_data(validation_data, \"data/validation_updated.csv\")\n",
    "process_data(test_data, \"data/test_updated.csv\")\n",
    "\n",
    "process_data(train_data, \"data/train_w_header.csv\", header=True)\n",
    "process_data(validation_data, \"data/validation_w_header.csv\", header=True)\n",
    "process_data(test_data, \"data/test_w_header.csv\", header=True)"
   ]
  },
  {
   "attachments": {},
   "cell_type": "markdown",
   "metadata": {
    "pycharm": {
     "name": "#%% md\n"
    }
   },
   "source": [
    "#### Save splitted data to S3\n",
    "The splitted data is provided in the /data folder. You can also upload the provided files (`data/train_updated.csv`,`data/validation_updated.csv`, `data/test_updated.csv`) and proceed to the next step. "
   ]
  },
  {
   "cell_type": "code",
   "execution_count": 51,
   "metadata": {
    "pycharm": {
     "name": "#%%\n"
    }
   },
   "outputs": [],
   "source": [
    "import os\n",
    "\n",
    "s3_input_train = (\n",
    "    boto3.Session()\n",
    "    .resource(\"s3\")\n",
    "    .Bucket(bucket)\n",
    "    .Object(os.path.join(prefix, \"train/train.csv\"))\n",
    "    .upload_file(\"data/train_updated.csv\")\n",
    ")\n",
    "s3_input_validation = (\n",
    "    boto3.Session()\n",
    "    .resource(\"s3\")\n",
    "    .Bucket(bucket)\n",
    "    .Object(os.path.join(prefix, \"validation/validation.csv\"))\n",
    "    .upload_file(\"data/validation_updated.csv\")\n",
    ")\n",
    "s3_input_validation = (\n",
    "    boto3.Session()\n",
    "    .resource(\"s3\")\n",
    "    .Bucket(bucket)\n",
    "    .Object(os.path.join(prefix, \"test/test_labeled.csv\"))\n",
    "    .upload_file(\"data/test_updated.csv\")\n",
    ")"
   ]
  },
  {
   "attachments": {},
   "cell_type": "markdown",
   "metadata": {
    "pycharm": {
     "name": "#%% md\n"
    }
   },
   "source": [
    "### Citation\n",
    "The data used in this notebook is simulated using the [EventSim](https://github.com/Interana/eventsim)."
   ]
  },
  {
   "attachments": {},
   "cell_type": "markdown",
   "metadata": {},
   "source": [
    "## Notebook CI Test Results\n",
    "\n",
    "This notebook was tested in multiple regions. The test results are as follows, except for us-west-2 which is shown at the top of the notebook.\n",
    "\n",
    "![This us-east-1 badge failed to load. Check your device's internet connectivity, otherwise the service is currently unavailable](https://prod.us-west-2.tcx-beacon.docs.aws.dev/sagemaker-nb/us-east-1/use-cases|customer_churn|1_cust_churn_dataprep.ipynb)\n",
    "\n",
    "![This us-east-2 badge failed to load. Check your device's internet connectivity, otherwise the service is currently unavailable](https://prod.us-west-2.tcx-beacon.docs.aws.dev/sagemaker-nb/us-east-2/use-cases|customer_churn|1_cust_churn_dataprep.ipynb)\n",
    "\n",
    "![This us-west-1 badge failed to load. Check your device's internet connectivity, otherwise the service is currently unavailable](https://prod.us-west-2.tcx-beacon.docs.aws.dev/sagemaker-nb/us-west-1/use-cases|customer_churn|1_cust_churn_dataprep.ipynb)\n",
    "\n",
    "![This ca-central-1 badge failed to load. Check your device's internet connectivity, otherwise the service is currently unavailable](https://prod.us-west-2.tcx-beacon.docs.aws.dev/sagemaker-nb/ca-central-1/use-cases|customer_churn|1_cust_churn_dataprep.ipynb)\n",
    "\n",
    "![This sa-east-1 badge failed to load. Check your device's internet connectivity, otherwise the service is currently unavailable](https://prod.us-west-2.tcx-beacon.docs.aws.dev/sagemaker-nb/sa-east-1/use-cases|customer_churn|1_cust_churn_dataprep.ipynb)\n",
    "\n",
    "![This eu-west-1 badge failed to load. Check your device's internet connectivity, otherwise the service is currently unavailable](https://prod.us-west-2.tcx-beacon.docs.aws.dev/sagemaker-nb/eu-west-1/use-cases|customer_churn|1_cust_churn_dataprep.ipynb)\n",
    "\n",
    "![This eu-west-2 badge failed to load. Check your device's internet connectivity, otherwise the service is currently unavailable](https://prod.us-west-2.tcx-beacon.docs.aws.dev/sagemaker-nb/eu-west-2/use-cases|customer_churn|1_cust_churn_dataprep.ipynb)\n",
    "\n",
    "![This eu-west-3 badge failed to load. Check your device's internet connectivity, otherwise the service is currently unavailable](https://prod.us-west-2.tcx-beacon.docs.aws.dev/sagemaker-nb/eu-west-3/use-cases|customer_churn|1_cust_churn_dataprep.ipynb)\n",
    "\n",
    "![This eu-central-1 badge failed to load. Check your device's internet connectivity, otherwise the service is currently unavailable](https://prod.us-west-2.tcx-beacon.docs.aws.dev/sagemaker-nb/eu-central-1/use-cases|customer_churn|1_cust_churn_dataprep.ipynb)\n",
    "\n",
    "![This eu-north-1 badge failed to load. Check your device's internet connectivity, otherwise the service is currently unavailable](https://prod.us-west-2.tcx-beacon.docs.aws.dev/sagemaker-nb/eu-north-1/use-cases|customer_churn|1_cust_churn_dataprep.ipynb)\n",
    "\n",
    "![This ap-southeast-1 badge failed to load. Check your device's internet connectivity, otherwise the service is currently unavailable](https://prod.us-west-2.tcx-beacon.docs.aws.dev/sagemaker-nb/ap-southeast-1/use-cases|customer_churn|1_cust_churn_dataprep.ipynb)\n",
    "\n",
    "![This ap-southeast-2 badge failed to load. Check your device's internet connectivity, otherwise the service is currently unavailable](https://prod.us-west-2.tcx-beacon.docs.aws.dev/sagemaker-nb/ap-southeast-2/use-cases|customer_churn|1_cust_churn_dataprep.ipynb)\n",
    "\n",
    "![This ap-northeast-1 badge failed to load. Check your device's internet connectivity, otherwise the service is currently unavailable](https://prod.us-west-2.tcx-beacon.docs.aws.dev/sagemaker-nb/ap-northeast-1/use-cases|customer_churn|1_cust_churn_dataprep.ipynb)\n",
    "\n",
    "![This ap-northeast-2 badge failed to load. Check your device's internet connectivity, otherwise the service is currently unavailable](https://prod.us-west-2.tcx-beacon.docs.aws.dev/sagemaker-nb/ap-northeast-2/use-cases|customer_churn|1_cust_churn_dataprep.ipynb)\n",
    "\n",
    "![This ap-south-1 badge failed to load. Check your device's internet connectivity, otherwise the service is currently unavailable](https://prod.us-west-2.tcx-beacon.docs.aws.dev/sagemaker-nb/ap-south-1/use-cases|customer_churn|1_cust_churn_dataprep.ipynb)\n"
   ]
  }
 ],
 "metadata": {
  "instance_type": "ml.t3.medium",
  "kernelspec": {
   "display_name": "Python 3 (ipykernel)",
   "language": "python",
   "name": "python3"
  },
  "language_info": {
   "codemirror_mode": {
    "name": "ipython",
    "version": 3
   },
   "file_extension": ".py",
   "mimetype": "text/x-python",
   "name": "python",
   "nbconvert_exporter": "python",
   "pygments_lexer": "ipython3",
   "version": "3.11.9"
  }
 },
 "nbformat": 4,
 "nbformat_minor": 4
}
