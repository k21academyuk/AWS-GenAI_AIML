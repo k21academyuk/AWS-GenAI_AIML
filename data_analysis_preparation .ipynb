{
 "cells": [
  {
   "cell_type": "markdown",
   "id": "a02d46ae",
   "metadata": {},
   "source": [
    "### Overview of Customer Churn Dataset"
   ]
  },
  {
   "cell_type": "code",
   "execution_count": null,
   "id": "97cbbf7d",
   "metadata": {},
   "outputs": [],
   "source": [
    "import os\n",
    "import pandas as pd\n",
    "import numpy as np\n",
    "import matplotlib.pyplot as plt\n",
    "\n",
    "dataset_path = \"data/customer_churn_data.csv\"\n",
    "\n",
    "dataset = pd.read_csv(dataset_path)\n",
    "dataset.head()"
   ]
  },
  {
   "cell_type": "code",
   "execution_count": null,
   "id": "b6656843",
   "metadata": {},
   "outputs": [],
   "source": [
    "dataset.info()"
   ]
  },
  {
   "cell_type": "markdown",
   "id": "cbdca26e",
   "metadata": {},
   "source": [
    "The dataset does not contain any null values."
   ]
  },
  {
   "cell_type": "markdown",
   "id": "7ae6857d",
   "metadata": {},
   "source": [
    "The feature `Total charges` has dtype = `object` but it is actually a numerical features.\n",
    "Also, `SeniorCitizen` has dtype = `int64` but it is actually a categorical feature."
   ]
  },
  {
   "cell_type": "code",
   "execution_count": null,
   "id": "d1a01858",
   "metadata": {},
   "outputs": [],
   "source": [
    "dataset[\"SeniorCitizen\"] = dataset[\"SeniorCitizen\"].astype(object)\n",
    "dataset['TotalCharges'] = pd.to_numeric(dataset['TotalCharges'],errors='coerce')"
   ]
  },
  {
   "cell_type": "code",
   "execution_count": null,
   "id": "894f5b03",
   "metadata": {
    "scrolled": true
   },
   "outputs": [],
   "source": [
    "# dropping customer ID since it is of little value\n",
    "dataset = dataset.drop(\"customerID\", axis=1)"
   ]
  },
  {
   "cell_type": "code",
   "execution_count": null,
   "id": "b86897d9",
   "metadata": {},
   "outputs": [],
   "source": [
    "# Frequency tables for each categorical feature \n",
    "for column in dataset.select_dtypes(include=[\"object\"]).columns:\n",
    "    display(pd.crosstab(index=dataset[column], columns=\"% observations\", normalize=\"columns\"))\n",
    "    "
   ]
  },
  {
   "cell_type": "markdown",
   "id": "8e6a669f",
   "metadata": {},
   "source": [
    "The last table shows that the dataset is imbalanced, with 73.4% No Churn and 26.5% Churned customers."
   ]
  },
  {
   "cell_type": "code",
   "execution_count": null,
   "id": "06850248",
   "metadata": {},
   "outputs": [],
   "source": [
    "# Histogram of numerical features\n",
    "%matplotlib inline\n",
    "hist = dataset.hist(bins=30, sharey=True, figsize=(10, 10))"
   ]
  },
  {
   "cell_type": "markdown",
   "id": "5f101eb8",
   "metadata": {},
   "source": [
    "Checking out the relationship between features and target variable"
   ]
  },
  {
   "cell_type": "code",
   "execution_count": null,
   "id": "e9f7150d",
   "metadata": {},
   "outputs": [],
   "source": [
    "for column in dataset.select_dtypes(include=[\"object\"]).columns:\n",
    "    if column != \"Churn\":\n",
    "        display(pd.crosstab(index=dataset[column], columns=dataset[\"Churn\"], normalize=\"columns\"))\n",
    "\n",
    "for column in dataset.select_dtypes(exclude=[\"object\"]).columns:\n",
    "    print(column)\n",
    "    hist = dataset[[column, \"Churn\"]].hist(by=\"Churn\", bins=30)\n",
    "    plt.show()"
   ]
  },
  {
   "cell_type": "code",
   "execution_count": null,
   "id": "a93669f5",
   "metadata": {},
   "outputs": [],
   "source": [
    "# Checking if numerical features are correlated with each other\n",
    "\n",
    "display(dataset.corr())\n",
    "pd.plotting.scatter_matrix(dataset, figsize=(6, 6))\n",
    "plt.show()"
   ]
  },
  {
   "cell_type": "markdown",
   "id": "883c582a",
   "metadata": {},
   "source": [
    "### Data Preparation for Modelling with Gradient Boosted Tree"
   ]
  },
  {
   "cell_type": "markdown",
   "id": "78c80f7f",
   "metadata": {},
   "source": [
    "XGBoost uses gradient boosted trees which naturally account for non-linear relationships between features and the target variable, as well as accommodating complex interactions between features.\n",
    "\n",
    "Amazon SageMaker provides an XGBoost container that we can use to train in a managed, distributed setting, and then host as a real-time prediction endpoint.\n",
    "\n",
    "Sagemaker requires the predictor variable in first row and no header row.\n",
    "Making these changes in our churn dataset.\n",
    "But first, let's convert the categorical features to numerical features by one-hot encoding using pandas dummies function."
   ]
  },
  {
   "cell_type": "code",
   "execution_count": null,
   "id": "4a06f69b",
   "metadata": {},
   "outputs": [],
   "source": [
    "model_data = pd.get_dummies(dataset)\n",
    "model_data"
   ]
  },
  {
   "cell_type": "code",
   "execution_count": null,
   "id": "657aeae9",
   "metadata": {},
   "outputs": [],
   "source": [
    "model_data.columns"
   ]
  },
  {
   "cell_type": "code",
   "execution_count": null,
   "id": "6211dc44",
   "metadata": {},
   "outputs": [],
   "source": [
    "model_data = pd.concat(\n",
    "    [model_data[\"Churn_Yes\"], model_data.drop([\"Churn_Yes\", \"Churn_No\"], axis=1)], axis=1)\n"
   ]
  },
  {
   "cell_type": "markdown",
   "id": "dfc5f5fd",
   "metadata": {},
   "source": [
    "Splitting the data into train, validation and test set."
   ]
  },
  {
   "cell_type": "markdown",
   "id": "2ce52220",
   "metadata": {},
   "source": [
    "### Splitting the dataset"
   ]
  },
  {
   "cell_type": "code",
   "execution_count": null,
   "id": "da91ecbe",
   "metadata": {},
   "outputs": [],
   "source": [
    "train_data, validation_data, test_data = np.split(\n",
    "    model_data.sample(frac=1, random_state=42),\n",
    "    [int(0.7 * len(model_data)), int(0.9 * len(model_data))],\n",
    ")"
   ]
  },
  {
   "cell_type": "code",
   "execution_count": null,
   "id": "b70f355a-f455-4984-a62b-0f7f4465fa93",
   "metadata": {},
   "outputs": [],
   "source": [
    "# saving the data to s3\n",
    "import sagemaker\n",
    "bucket = \"sagemaker-data113\"\n",
    "\n",
    "sess = sagemaker.Session(\n",
    "    default_bucket = bucket\n",
    ")\n",
    "\n",
    "train_data.to_csv(\"s3://{}/train.csv\".format(bucket), header=False, index=False)\n",
    "validation_data.to_csv(\"s3://{}/validation.csv\".format(bucket), header=False, index=False)\n",
    "test_data.to_csv(\"s3://{}/test.csv\".format(bucket), header=False, index=False)\n"
   ]
  },
  {
   "cell_type": "code",
   "execution_count": null,
   "id": "4d783dc5-1e7c-4a90-a430-f612dbfd67c0",
   "metadata": {},
   "outputs": [],
   "source": []
  }
 ],
 "metadata": {
  "kernelspec": {
   "display_name": "conda_python3",
   "language": "python",
   "name": "conda_python3"
  },
  "language_info": {
   "codemirror_mode": {
    "name": "ipython",
    "version": 3
   },
   "file_extension": ".py",
   "mimetype": "text/x-python",
   "name": "python",
   "nbconvert_exporter": "python",
   "pygments_lexer": "ipython3",
   "version": "3.10.16"
  }
 },
 "nbformat": 4,
 "nbformat_minor": 5
}
