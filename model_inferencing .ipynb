{
 "cells": [
  {
   "cell_type": "markdown",
   "id": "e7d6653f-34f8-4057-bef1-ba32149e737d",
   "metadata": {},
   "source": [
    "## Prediction \n",
    "We are going to predict from the model that we created."
   ]
  },
  {
   "cell_type": "code",
   "execution_count": null,
   "id": "814d7854-5244-46a5-8a19-61cfb6c265c7",
   "metadata": {},
   "outputs": [],
   "source": [
    "import boto3\n",
    "\n",
    "client = boto3.client(\"sagemaker-runtime\")\n",
    "\n",
    "\n",
    "response = client.invoke_endpoint(\n",
    "    EndpointName='ChurnEndpoint',\n",
    "    Body=\"41,25.25,996.45,0,1,1,0,1,0,1,0,0,1,0,0,1,0,0,1,0,1,0,0,1,0,0,1,0,0,1,0,0,1,0,0,1,0,1,0,0,0,1,1,0,0,0\",\n",
    "    # Body=\"1,24.8,24.8,1,0,1,0,0,1,1,0,1,0,0,1,0,1,0,0,1,0,0,1,0,0,1,0,0,1,0,0,1,0,0,1,0,0,1,0,0,0,1,0,0,1,0\",\n",
    "    ContentType='text/csv;label_size=1',\n",
    "    Accept='text/csv',\n",
    ")\n",
    "\n",
    "for i in response.get(\"Body\"):\n",
    "    print(float(i))"
   ]
  },
  {
   "cell_type": "code",
   "execution_count": null,
   "id": "c5cc35a8-bbf3-4988-a448-64700dc3a808",
   "metadata": {},
   "outputs": [],
   "source": []
  }
 ],
 "metadata": {
  "kernelspec": {
   "display_name": "conda_python3",
   "language": "python",
   "name": "conda_python3"
  },
  "language_info": {
   "codemirror_mode": {
    "name": "ipython",
    "version": 3
   },
   "file_extension": ".py",
   "mimetype": "text/x-python",
   "name": "python",
   "nbconvert_exporter": "python",
   "pygments_lexer": "ipython3",
   "version": "3.10.16"
  }
 },
 "nbformat": 4,
 "nbformat_minor": 5
}
